{
 "cells": [
  {
   "cell_type": "code",
   "execution_count": 1,
   "id": "d1939c01",
   "metadata": {},
   "outputs": [
    {
     "data": {
      "text/plain": [
       "{e: 37, p: 29}"
      ]
     },
     "execution_count": 1,
     "metadata": {},
     "output_type": "execute_result"
    }
   ],
   "source": [
    "from sympy import symbols, Eq, solve\n",
    "\n",
    "# Define variables\n",
    "p, e = symbols('p e')  # p for pencil, e for eraser\n",
    "\n",
    "# Set up equations based on the problem\n",
    "eq1 = Eq(3 * p + e, 124)  # First equation (in cents)\n",
    "eq2 = Eq(5 * p + e, 182)  # Second equation (in cents)\n",
    "\n",
    "# Solve the system of equations\n",
    "solution = solve((eq1, eq2), (p, e))\n",
    "solution\n"
   ]
  },
  {
   "cell_type": "code",
   "execution_count": 2,
   "id": "93dc1c3c",
   "metadata": {},
   "outputs": [
    {
     "data": {
      "text/latex": [
       "$\\displaystyle - \\tan{\\left(\\frac{4 \\pi}{9} \\right)} + 4 \\cos{\\left(\\frac{\\pi}{18} \\right)}$"
      ],
      "text/plain": [
       "-tan(4*pi/9) + 4*cos(pi/18)"
      ]
     },
     "execution_count": 2,
     "metadata": {},
     "output_type": "execute_result"
    }
   ],
   "source": [
    "from sympy import tan, sin, simplify, rad\n",
    "\n",
    "# Define the angle in radians (100 degrees to radians)\n",
    "angle = rad(100)\n",
    "\n",
    "# Define the expression\n",
    "expression = tan(angle) + 4 * sin(angle)\n",
    "\n",
    "# Simplify the expression\n",
    "simplified_expression = simplify(expression)\n",
    "simplified_expression\n"
   ]
  },
  {
   "cell_type": "code",
   "execution_count": 3,
   "id": "411b22ed",
   "metadata": {},
   "outputs": [
    {
     "data": {
      "text/plain": [
       "(True, 0)"
      ]
     },
     "execution_count": 3,
     "metadata": {},
     "output_type": "execute_result"
    }
   ],
   "source": [
    "from sympy import Matrix, symbols, sqrt\n",
    "\n",
    "# Define the parametric equations for both lines\n",
    "t, u = symbols('t u')\n",
    "\n",
    "# First line: r1 = (3, -10, 1) + t * (2, -9, -2)\n",
    "r1_point = Matrix([3, -10, 1])\n",
    "r1_direction = Matrix([2, -9, -2])\n",
    "\n",
    "# Second line: r2 = (-5, -3, 6) + u * (4, -18, -4)\n",
    "r2_point = Matrix([-5, -3, 6])\n",
    "r2_direction = Matrix([4, -18, -4])\n",
    "\n",
    "# Verify that the direction vectors are proportional (parallel)\n",
    "is_parallel = r2_direction.norm() * r1_direction == r1_direction.norm() * r2_direction\n",
    "\n",
    "# If parallel, calculate the distance using the formula\n",
    "# Distance = |(r2_point - r1_point) . (r1_direction x r1_direction)| / |r1_direction|\n",
    "cross_product = r1_direction.cross(r2_direction)\n",
    "distance_vector = r2_point - r1_point\n",
    "distance = abs(distance_vector.dot(cross_product)) / r1_direction.norm()\n",
    "\n",
    "is_parallel, distance.simplify()\n"
   ]
  }
 ],
 "metadata": {
  "kernelspec": {
   "display_name": "axiom",
   "language": "python",
   "name": "axiom"
  },
  "language_info": {
   "codemirror_mode": {
    "name": "ipython",
    "version": 3
   },
   "file_extension": ".py",
   "mimetype": "text/x-python",
   "name": "python",
   "nbconvert_exporter": "python",
   "pygments_lexer": "ipython3",
   "version": "3.10.0"
  }
 },
 "nbformat": 4,
 "nbformat_minor": 5
}
