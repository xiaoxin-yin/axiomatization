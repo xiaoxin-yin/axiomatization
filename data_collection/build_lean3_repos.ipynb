{
 "cells": [
  {
   "cell_type": "code",
   "execution_count": 1,
   "id": "d4436717",
   "metadata": {},
   "outputs": [
    {
     "name": "stderr",
     "output_type": "stream",
     "text": [
      "/home/mcwave/anaconda3/envs/lean3/lib/python3.10/site-packages/tqdm/auto.py:21: TqdmWarning: IProgress not found. Please update jupyter and ipywidgets. See https://ipywidgets.readthedocs.io/en/stable/user_install.html\n",
      "  from .autonotebook import tqdm as notebook_tqdm\n",
      "2024-09-02 16:06:14,015\tINFO util.py:154 -- Missing packages: ['ipywidgets']. Run `pip install -U ipywidgets`, then restart the notebook server for rich notebook output.\n"
     ]
    }
   ],
   "source": [
    "import os\n",
    "#print(os.getenv(\"GITHUB_ACCESS_TOKEN\", None))\n",
    "\n",
    "from lean_dojo import *"
   ]
  },
  {
   "cell_type": "code",
   "execution_count": 2,
   "id": "322e392c",
   "metadata": {},
   "outputs": [
    {
     "data": {
      "text/plain": [
       "{'package': {'name': 'lean-liquid',\n",
       "  'version': '0.1',\n",
       "  'lean_version': 'leanprover-community/lean:3.48.0',\n",
       "  'path': 'src'},\n",
       " 'dependencies': {'mathlib': {'git': 'https://github.com/leanprover-community/mathlib',\n",
       "   'rev': '483dd86cfec4a1380d22b1f6acd4c3dc53f501ff'}}}"
      ]
     },
     "execution_count": 2,
     "metadata": {},
     "output_type": "execute_result"
    }
   ],
   "source": [
    "\"\"\"\n",
    "# lean 3.51.1\n",
    "repo = LeanGitRepo(\n",
    "    \"https://github.com/leanprover-community/mathlib3\",\n",
    "    \"65a1391a0106c9204fe45bc73a039f056558cb83\",\n",
    ")\n",
    "\n",
    "# lean 3.51.1\n",
    "repo = LeanGitRepo(\n",
    "    \"https://github.com/xiaoxin-yin/mathematics_in_lean3\",\n",
    "    \"491f8c74a86df4ffd7b24bdc72388f586abc9a8a\",\n",
    ")\n",
    "\"\"\"\n",
    "\n",
    "repo = LeanGitRepo(\n",
    "    \"https://github.com/xiaoxin-yin/lean-liquid\",\n",
    "    \"76a560c3cb16d3577dad6224aa79b0f75733de98\",\n",
    ")\n",
    "\n",
    "repo.get_config(\"leanpkg.toml\")"
   ]
  },
  {
   "cell_type": "code",
   "execution_count": 3,
   "id": "05a65790",
   "metadata": {},
   "outputs": [
    {
     "name": "stderr",
     "output_type": "stream",
     "text": [
      "\u001b[32m2024-09-02 16:06:17.030\u001b[0m | \u001b[1mINFO    \u001b[0m | \u001b[36mlean_dojo.data_extraction.trace\u001b[0m:\u001b[36mget_traced_repo_path\u001b[0m:\u001b[36m157\u001b[0m - \u001b[1mTracing LeanGitRepo(url='https://github.com/xiaoxin-yin/lean-liquid', commit='76a560c3cb16d3577dad6224aa79b0f75733de98')\u001b[0m\n",
      "\u001b[32m2024-09-02 16:06:26.976\u001b[0m | \u001b[33m\u001b[1mWARNING \u001b[0m | \u001b[36mlean_dojo.data_extraction.trace\u001b[0m:\u001b[36m_trace_lean3\u001b[0m:\u001b[36m83\u001b[0m - \u001b[33m\u001b[1mDocker is strongly recommended when using LeanDojo with Lean 3. See https://leandojo.readthedocs.io/en/latest/user-guide.html#advanced-running-within-docker.\u001b[0m\n",
      "2024-09-02 16:06:27.210 | INFO     | __main__:main:111 - Building modifed Lean\n",
      "\u001b[0mCMake Deprecation Warning at CMakeLists.txt:1 (cmake_minimum_required):\n",
      "  Compatibility with CMake < 2.8.12 will be removed from a future version of\n",
      "  CMake.\n",
      "\n",
      "  Update the VERSION argument <min> value or use a ...<max> suffix to tell\n",
      "  CMake that the project does not need compatibility with older versions.\n",
      "\n",
      "\u001b[0m\n"
     ]
    },
    {
     "name": "stdout",
     "output_type": "stream",
     "text": [
      "-- The CXX compiler identification is GNU 11.4.0\n",
      "-- The C compiler identification is GNU 11.4.0\n",
      "-- Detecting CXX compiler ABI info\n",
      "-- Detecting CXX compiler ABI info - done\n",
      "-- Check for working CXX compiler: /usr/bin/c++ - skipped\n",
      "-- Detecting CXX compile features\n",
      "-- Detecting CXX compile features - done\n",
      "-- Detecting C compiler ABI info\n",
      "-- Detecting C compiler ABI info - done\n",
      "-- Check for working C compiler: /usr/bin/cc - skipped\n",
      "-- Detecting C compile features\n",
      "-- Detecting C compile features - done\n",
      "-- No build type selected, default to Release\n",
      "-- Lean library will be installed at /usr/local/lib/lean\n",
      "-- Found GMP: /usr/include/x86_64-linux-gnu (Required is at least version \"5.0.5\")\n",
      "-- Using standard malloc.\n",
      "-- Found PythonInterp: /home/mcwave/anaconda3/bin/python (found version \"3.10.9\") \n",
      "-- git commit sha1: 283f6ed8083ab4dd7c36300f31816c5cb793f2f7\n",
      "-- Configuring done\n",
      "-- Generating done\n",
      "-- Build files have been written to: /tmp/tmphu0190g5/workspace/lean-liquid/_target/deps/lean/build/release\n",
      "[  0%] \u001b[32mBuilding CXX object kernel/quotient/CMakeFiles/quotient.dir/quotient.cpp.o\u001b[0m\n",
      "[  0%] \u001b[32mBuilding CXX object init/CMakeFiles/init.dir/init.cpp.o\u001b[0m\n",
      "[  0%] \u001b[32mBuilding CXX object library/tactic/CMakeFiles/tactic.dir/occurrences.cpp.o\u001b[0m\n",
      "[  0%] \u001b[32mBuilding CXX object library/constructions/CMakeFiles/constructions.dir/rec_on.cpp.o\u001b[0m\n",
      "[  0%] \u001b[32mBuilding CXX object library/tactic/backward/CMakeFiles/backward.dir/init_module.cpp.o\u001b[0m\n",
      "[  0%] \u001b[32mBuilding CXX object util/numerics/CMakeFiles/numerics.dir/mpz.cpp.o\u001b[0m\n",
      "[  0%] \u001b[32mBuilding CXX object kernel/inductive/CMakeFiles/inductive.dir/inductive.cpp.o\u001b[0m\n",
      "[  0%] \u001b[32mBuilding CXX object library/tactic/smt/CMakeFiles/smt.dir/congruence_closure.cpp.o\u001b[0m\n",
      "[  0%] \u001b[32mBuilding CXX object library/predict/CMakeFiles/predict.dir/predict.cpp.o\u001b[0m\n",
      "[  0%] \u001b[32mBuilding CXX object kernel/CMakeFiles/kernel.dir/level.cpp.o\u001b[0m\n",
      "[  1%] \u001b[32mBuilding CXX object library/CMakeFiles/library.dir/deep_copy.cpp.o\u001b[0m\n",
      "[  1%] \u001b[32mBuilding CXX object util/sexpr/CMakeFiles/sexpr.dir/sexpr.cpp.o\u001b[0m\n",
      "[  1%] \u001b[32mBuilding CXX object util/CMakeFiles/util.dir/debug.cpp.o\u001b[0m\n",
      "[  1%] \u001b[32mBuilding CXX object library/equations_compiler/CMakeFiles/equations_compiler.dir/equations.cpp.o\u001b[0m\n",
      "[  2%] \u001b[32mBuilding CXX object library/vm/CMakeFiles/vm.dir/vm.cpp.o\u001b[0m\n",
      "[  2%] \u001b[32mBuilding CXX object library/inductive_compiler/CMakeFiles/inductive_compiler.dir/init_module.cpp.o\u001b[0m\n"
     ]
    },
    {
     "name": "stderr",
     "output_type": "stream",
     "text": [
      "cc1plus: note: disable pass tree-ifcombine for functions in the range of [0, 4294967295]\n",
      "cc1plus: note: disable pass tree-ifcombine for functions in the range of [0, 4294967295]\n",
      "cc1plus: note: disable pass tree-ifcombine for functions in the range of [0, 4294967295]\n",
      "cc1plus: note: disable pass tree-ifcombine for functions in the range of [0, 4294967295]\n",
      "cc1plus: note: disable pass tree-ifcombine for functions in the range of [0, 4294967295]\n",
      "cc1plus: note: disable pass tree-ifcombine for functions in the range of [0, 4294967295]\n",
      "cc1plus: note: disable pass tree-ifcombine for functions in the range of [0, 4294967295]\n",
      "cc1plus: note: disable pass tree-ifcombine for functions in the range of [0, 4294967295]\n",
      "cc1plus: note: disable pass tree-ifcombine for functions in the range of [0, 4294967295]\n",
      "cc1plus: note: disable pass tree-ifcombine for functions in the range of [0, 4294967295]\n",
      "cc1plus: note: disable pass tree-ifcombine for functions in the range of [0, 4294967295]\n",
      "cc1plus: note: disable pass tree-ifcombine for functions in the range of [0, 4294967295]\n",
      "cc1plus: note: disable pass tree-ifcombine for functions in the range of [0, 4294967295]\n",
      "cc1plus: note: disable pass tree-ifcombine for functions in the range of [0, 4294967295]\n",
      "cc1plus: note: disable pass tree-ifcombine for functions in the range of [0, 4294967295]\n",
      "cc1plus: note: disable pass tree-ifcombine for functions in the range of [0, 4294967295]\n",
      "In file included from /tmp/tmphu0190g5/workspace/lean-liquid/_target/deps/lean/src/library/predict/knn.cpp:2,\n",
      "                 from /tmp/tmphu0190g5/workspace/lean-liquid/_target/deps/lean/src/library/predict/predict.cpp:1:\n",
      "/tmp/tmphu0190g5/workspace/lean-liquid/_target/deps/lean/src/library/predict/predictor.cpp: In member function ‘virtual void Predictor::import_data(std::string)’:\n",
      "/tmp/tmphu0190g5/workspace/lean-liquid/_target/deps/lean/src/library/predict/predictor.cpp:21:37: warning: unused parameter ‘location’ [-Wunused-parameter]\n",
      "   21 |     virtual void import_data(string location) {}\n",
      "      |                              ~~~~~~~^~~~~~~~\n",
      "/tmp/tmphu0190g5/workspace/lean-liquid/_target/deps/lean/src/library/predict/predictor.cpp: In member function ‘virtual void Predictor::export_data(std::string) const’:\n",
      "/tmp/tmphu0190g5/workspace/lean-liquid/_target/deps/lean/src/library/predict/predictor.cpp:22:37: warning: unused parameter ‘location’ [-Wunused-parameter]\n",
      "   22 |     virtual void export_data(string location) const {}\n",
      "      |                              ~~~~~~~^~~~~~~~\n",
      "/tmp/tmphu0190g5/workspace/lean-liquid/_target/deps/lean/src/library/predict/predictor.cpp: In constructor ‘Predictor::Predictor(LVecVec, LVecVec, LVecVec, long int)’:\n",
      "/tmp/tmphu0190g5/workspace/lean-liquid/_target/deps/lean/src/library/predict/predictor.cpp:38:72: warning: unused parameter ‘sym_num’ [-Wunused-parameter]\n",
      "   38 | Predictor::Predictor(LVecVec deps, LVecVec syms, LVecVec sym_ths, long sym_num)\n",
      "      |                                                                   ~~~~~^~~~~~~\n",
      "cc1plus: note: disable pass tree-ifcombine for functions in the range of [0, 4294967295]\n",
      "cc1plus: note: disable pass tree-ifcombine for functions in the range of [0, 4294967295]\n",
      "cc1plus: note: disable pass tree-ifcombine for functions in the range of [0, 4294967295]\n",
      "cc1plus: note: disable pass tree-ifcombine for functions in the range of [0, 4294967295]\n",
      "cc1plus: note: disable pass tree-ifcombine for functions in the range of [0, 4294967295]\n",
      "cc1plus: note: disable pass tree-ifcombine for functions in the range of [0, 4294967295]\n"
     ]
    },
    {
     "name": "stdout",
     "output_type": "stream",
     "text": [
      "[  2%] \u001b[32mBuilding CXX object util/CMakeFiles/util.dir/name.cpp.o\u001b[0m\n",
      "[  2%] Built target init\n",
      "[  2%] \u001b[32mBuilding CXX object library/vm/CMakeFiles/vm.dir/optimize.cpp.o\u001b[0m\n",
      "[  2%] \u001b[32mBuilding CXX object library/CMakeFiles/library.dir/expr_lt.cpp.o\u001b[0m\n",
      "[  2%] \u001b[32mBuilding CXX object util/numerics/CMakeFiles/numerics.dir/mpq.cpp.o\u001b[0m\n",
      "[  2%] \u001b[32mBuilding CXX object library/tactic/CMakeFiles/tactic.dir/kabstract.cpp.o\u001b[0m\n",
      "[  2%] \u001b[32mBuilding CXX object library/tactic/backward/CMakeFiles/backward.dir/backward_lemmas.cpp.o\u001b[0m\n",
      "[  2%] \u001b[32mBuilding CXX object library/inductive_compiler/CMakeFiles/inductive_compiler.dir/compiler.cpp.o\u001b[0m\n",
      "[  2%] \u001b[32mBuilding CXX object library/CMakeFiles/library.dir/io_state.cpp.o\u001b[0m\n",
      "[  2%] Built target numerics\n",
      "[  2%] \u001b[32mBuilding CXX object library/compiler/CMakeFiles/compiler.dir/util.cpp.o\u001b[0m\n"
     ]
    },
    {
     "name": "stderr",
     "output_type": "stream",
     "text": [
      "cc1plus: note: disable pass tree-ifcombine for functions in the range of [0, 4294967295]\n",
      "cc1plus: note: disable pass tree-ifcombine for functions in the range of [0, 4294967295]\n",
      "cc1plus: note: disable pass tree-ifcombine for functions in the range of [0, 4294967295]\n"
     ]
    },
    {
     "name": "stdout",
     "output_type": "stream",
     "text": [
      "[  2%] \u001b[32mBuilding CXX object util/sexpr/CMakeFiles/sexpr.dir/sexpr_fn.cpp.o\u001b[0m\n",
      "[  2%] \u001b[32mBuilding CXX object kernel/CMakeFiles/kernel.dir/expr.cpp.o\u001b[0m\n",
      "[  2%] \u001b[32mBuilding CXX object util/CMakeFiles/util.dir/name_set.cpp.o\u001b[0m\n",
      "[  2%] \u001b[32mBuilding CXX object library/constructions/CMakeFiles/constructions.dir/cases_on.cpp.o\u001b[0m\n"
     ]
    },
    {
     "name": "stderr",
     "output_type": "stream",
     "text": [
      "cc1plus: note: disable pass tree-ifcombine for functions in the range of [0, 4294967295]\n",
      "cc1plus: note: disable pass tree-ifcombine for functions in the range of [0, 4294967295]\n",
      "cc1plus: note: disable pass tree-ifcombine for functions in the range of [0, 4294967295]\n",
      "cc1plus: note: disable pass tree-ifcombine for functions in the range of [0, 4294967295]\n"
     ]
    },
    {
     "name": "stdout",
     "output_type": "stream",
     "text": [
      "[  2%] \u001b[32mBuilding CXX object util/sexpr/CMakeFiles/sexpr.dir/format.cpp.o\u001b[0m\n",
      "[  3%] \u001b[32mBuilding CXX object util/CMakeFiles/util.dir/fresh_name.cpp.o\u001b[0m\n",
      "[  3%] Built target quotient\n",
      "[  4%] \u001b[32mBuilding CXX object library/CMakeFiles/library.dir/io_state_stream.cpp.o\u001b[0m\n",
      "[  4%] \u001b[32mBuilding CXX object library/tactic/backward/CMakeFiles/backward.dir/backward_chaining.cpp.o\u001b[0m\n",
      "[  4%] Built target inductive\n",
      "[  5%] \u001b[32mBuilding CXX object library/inductive_compiler/CMakeFiles/inductive_compiler.dir/add_decl.cpp.o\u001b[0m\n",
      "[  5%] \u001b[32mBuilding CXX object library/CMakeFiles/library.dir/bin_app.cpp.o\u001b[0m\n"
     ]
    },
    {
     "name": "stderr",
     "output_type": "stream",
     "text": [
      "cc1plus: note: disable pass tree-ifcombine for functions in the range of [0, 4294967295]\n",
      "cc1plus: note: disable pass tree-ifcombine for functions in the range of [0, 4294967295]\n",
      "cc1plus: note: disable pass tree-ifcombine for functions in the range of [0, 4294967295]\n",
      "cc1plus: note: disable pass tree-ifcombine for functions in the range of [0, 4294967295]\n",
      "cc1plus: note: disable pass tree-ifcombine for functions in the range of [0, 4294967295]\n",
      "cc1plus: note: disable pass tree-ifcombine for functions in the range of [0, 4294967295]\n"
     ]
    },
    {
     "name": "stdout",
     "output_type": "stream",
     "text": [
      "[  5%] \u001b[32mBuilding CXX object util/CMakeFiles/util.dir/exception.cpp.o\u001b[0m\n",
      "[  5%] \u001b[32mBuilding CXX object util/CMakeFiles/util.dir/interrupt.cpp.o\u001b[0m\n"
     ]
    },
    {
     "name": "stderr",
     "output_type": "stream",
     "text": [
      "cc1plus: note: disable pass tree-ifcombine for functions in the range of [0, 4294967295]\n",
      "cc1plus: note: disable pass tree-ifcombine for functions in the range of [0, 4294967295]\n"
     ]
    },
    {
     "name": "stdout",
     "output_type": "stream",
     "text": [
      "[  5%] \u001b[32mBuilding CXX object library/equations_compiler/CMakeFiles/equations_compiler.dir/util.cpp.o\u001b[0m\n",
      "[  5%] \u001b[32mBuilding CXX object library/CMakeFiles/library.dir/constants.cpp.o\u001b[0m\n",
      "[  5%] \u001b[32mBuilding CXX object library/tactic/CMakeFiles/tactic.dir/tactic_state.cpp.o\u001b[0m\n",
      "[  5%] \u001b[32mBuilding CXX object library/CMakeFiles/library.dir/kernel_serializer.cpp.o\u001b[0m\n",
      "[  5%] \u001b[32mBuilding CXX object library/compiler/CMakeFiles/compiler.dir/eta_expansion.cpp.o\u001b[0m\n",
      "[  5%] \u001b[32mBuilding CXX object util/CMakeFiles/util.dir/hash.cpp.o\u001b[0m\n",
      "[  5%] \u001b[32mBuilding CXX object util/sexpr/CMakeFiles/sexpr.dir/options.cpp.o\u001b[0m\n",
      "[  6%] \u001b[32mBuilding CXX object library/CMakeFiles/library.dir/max_sharing.cpp.o\u001b[0m\n"
     ]
    },
    {
     "name": "stderr",
     "output_type": "stream",
     "text": [
      "cc1plus: note: disable pass tree-ifcombine for functions in the range of [0, 4294967295]\n",
      "cc1plus: note: disable pass tree-ifcombine for functions in the range of [0, 4294967295]\n",
      "cc1plus: note: disable pass tree-ifcombine for functions in the range of [0, 4294967295]\n",
      "cc1plus: note: disable pass tree-ifcombine for functions in the range of [0, 4294967295]\n",
      "cc1plus: note: disable pass tree-ifcombine for functions in the range of [0, 4294967295]\n",
      "cc1plus: note: disable pass tree-ifcombine for functions in the range of [0, 4294967295]\n",
      "cc1plus: note: disable pass tree-ifcombine for functions in the range of [0, 4294967295]\n",
      "cc1plus: note: disable pass tree-ifcombine for functions in the range of [0, 4294967295]\n",
      "/tmp/tmphu0190g5/workspace/lean-liquid/_target/deps/lean/src/util/hash.cpp: In function ‘uint64_t lean::MurmurHash64A(const void*, int, unsigned int)’:\n",
      "/tmp/tmphu0190g5/workspace/lean-liquid/_target/deps/lean/src/util/hash.cpp:98:15: warning: this statement may fall through [-Wimplicit-fallthrough=]\n",
      "   98 |     case 7: h ^= uint64_t(data2[6]) << 48;\n",
      "      |             ~~^~~~~~~~~~~~~~~~~~~~~~~~~~~\n",
      "/tmp/tmphu0190g5/workspace/lean-liquid/_target/deps/lean/src/util/hash.cpp:99:5: note: here\n",
      "   99 |     case 6: h ^= uint64_t(data2[5]) << 40;\n",
      "      |     ^~~~\n",
      "/tmp/tmphu0190g5/workspace/lean-liquid/_target/deps/lean/src/util/hash.cpp:99:15: warning: this statement may fall through [-Wimplicit-fallthrough=]\n",
      "   99 |     case 6: h ^= uint64_t(data2[5]) << 40;\n",
      "      |             ~~^~~~~~~~~~~~~~~~~~~~~~~~~~~\n",
      "/tmp/tmphu0190g5/workspace/lean-liquid/_target/deps/lean/src/util/hash.cpp:100:5: note: here\n",
      "  100 |     case 5: h ^= uint64_t(data2[4]) << 32;\n",
      "      |     ^~~~\n",
      "/tmp/tmphu0190g5/workspace/lean-liquid/_target/deps/lean/src/util/hash.cpp:100:15: warning: this statement may fall through [-Wimplicit-fallthrough=]\n",
      "  100 |     case 5: h ^= uint64_t(data2[4]) << 32;\n",
      "      |             ~~^~~~~~~~~~~~~~~~~~~~~~~~~~~\n",
      "/tmp/tmphu0190g5/workspace/lean-liquid/_target/deps/lean/src/util/hash.cpp:101:5: note: here\n",
      "  101 |     case 4: h ^= uint64_t(data2[3]) << 24;\n",
      "      |     ^~~~\n",
      "/tmp/tmphu0190g5/workspace/lean-liquid/_target/deps/lean/src/util/hash.cpp:101:15: warning: this statement may fall through [-Wimplicit-fallthrough=]\n",
      "  101 |     case 4: h ^= uint64_t(data2[3]) << 24;\n",
      "      |             ~~^~~~~~~~~~~~~~~~~~~~~~~~~~~\n",
      "/tmp/tmphu0190g5/workspace/lean-liquid/_target/deps/lean/src/util/hash.cpp:102:5: note: here\n",
      "  102 |     case 3: h ^= uint64_t(data2[2]) << 16;\n",
      "      |     ^~~~\n",
      "/tmp/tmphu0190g5/workspace/lean-liquid/_target/deps/lean/src/util/hash.cpp:102:15: warning: this statement may fall through [-Wimplicit-fallthrough=]\n",
      "  102 |     case 3: h ^= uint64_t(data2[2]) << 16;\n",
      "      |             ~~^~~~~~~~~~~~~~~~~~~~~~~~~~~\n",
      "/tmp/tmphu0190g5/workspace/lean-liquid/_target/deps/lean/src/util/hash.cpp:103:5: note: here\n",
      "  103 |     case 2: h ^= uint64_t(data2[1]) << 8;\n",
      "      |     ^~~~\n",
      "/tmp/tmphu0190g5/workspace/lean-liquid/_target/deps/lean/src/util/hash.cpp:103:15: warning: this statement may fall through [-Wimplicit-fallthrough=]\n",
      "  103 |     case 2: h ^= uint64_t(data2[1]) << 8;\n",
      "      |             ~~^~~~~~~~~~~~~~~~~~~~~~~~~~\n",
      "/tmp/tmphu0190g5/workspace/lean-liquid/_target/deps/lean/src/util/hash.cpp:104:5: note: here\n",
      "  104 |     case 1: h ^= uint64_t(data2[0]);\n",
      "      |     ^~~~\n",
      "cc1plus: note: disable pass tree-ifcombine for functions in the range of [0, 4294967295]\n",
      "cc1plus: note: disable pass tree-ifcombine for functions in the range of [0, 4294967295]\n",
      "cc1plus: note: disable pass tree-ifcombine for functions in the range of [0, 4294967295]\n",
      "cc1plus: note: disable pass tree-ifcombine for functions in the range of [0, 4294967295]\n",
      "cc1plus: note: disable pass tree-ifcombine for functions in the range of [0, 4294967295]\n",
      "/tmp/tmphu0190g5/workspace/lean-liquid/_target/deps/lean/src/library/vm/vm.cpp: In member function ‘const lean::vm_decl& lean::vm_state::get_decl(unsigned int) const’:\n",
      "/tmp/tmphu0190g5/workspace/lean-liquid/_target/deps/lean/src/library/vm/vm.cpp:1633:42: warning: ‘*(unsigned int*)((char*)&o_idx + offsetof(lean::optional<unsigned int>,lean::optional<unsigned int>::<unnamed>))’ may be used uninitialized in this function [-Wmaybe-uninitialized]\n",
      " 1633 |     vm_decl const & d = m_decl_vector[idx];\n",
      "      |                                          ^\n",
      "/tmp/tmphu0190g5/workspace/lean-liquid/_target/deps/lean/src/library/vm/vm.cpp:1646:24: note: ‘*(unsigned int*)((char*)&o_idx + offsetof(lean::optional<unsigned int>,lean::optional<unsigned int>::<unnamed>))’ was declared here\n",
      " 1646 |     optional<unsigned> o_idx = d.get_overridden_idx();\n",
      "      |                        ^~~~~\n"
     ]
    },
    {
     "name": "stdout",
     "output_type": "stream",
     "text": [
      "[  7%] \u001b[32mBuilding CXX object library/tactic/CMakeFiles/tactic.dir/tactic_log.cpp.o\u001b[0m\n",
      "[  7%] \u001b[32mBuilding CXX object library/inductive_compiler/CMakeFiles/inductive_compiler.dir/ginductive_decl.cpp.o\u001b[0m\n",
      "[  8%] \u001b[32mBuilding CXX object util/CMakeFiles/util.dir/escaped.cpp.o\u001b[0m\n",
      "[  9%] \u001b[32mBuilding CXX object library/constructions/CMakeFiles/constructions.dir/no_confusion.cpp.o\u001b[0m\n",
      "[ 10%] \u001b[32mBuilding CXX object util/sexpr/CMakeFiles/sexpr.dir/option_declarations.cpp.o\u001b[0m\n",
      "[ 10%] \u001b[32mBuilding CXX object util/CMakeFiles/util.dir/bit_tricks.cpp.o\u001b[0m\n",
      "[ 10%] \u001b[32mBuilding CXX object library/tactic/CMakeFiles/tactic.dir/name_resolution_log.cpp.o\u001b[0m\n",
      "[ 10%] Built target predict\n",
      "[ 10%] \u001b[32mBuilding CXX object library/vm/CMakeFiles/vm.dir/vm_nat.cpp.o\u001b[0m\n",
      "[ 10%] \u001b[32mBuilding CXX object util/CMakeFiles/util.dir/safe_arith.cpp.o\u001b[0m\n"
     ]
    },
    {
     "name": "stderr",
     "output_type": "stream",
     "text": [
      "cc1plus: note: disable pass tree-ifcombine for functions in the range of [0, 4294967295]\n",
      "cc1plus: note: disable pass tree-ifcombine for functions in the range of [0, 4294967295]\n",
      "cc1plus: note: disable pass tree-ifcombine for functions in the range of [0, 4294967295]\n",
      "cc1plus: note: disable pass tree-ifcombine for functions in the range of [0, 4294967295]\n"
     ]
    },
    {
     "name": "stdout",
     "output_type": "stream",
     "text": [
      "[ 10%] \u001b[32mBuilding CXX object util/sexpr/CMakeFiles/sexpr.dir/init_module.cpp.o\u001b[0m\n",
      "[ 10%] \u001b[32mBuilding CXX object kernel/CMakeFiles/kernel.dir/expr_eq_fn.cpp.o\u001b[0m\n",
      "[ 10%] \u001b[32mBuilding CXX object util/CMakeFiles/util.dir/ascii.cpp.o\u001b[0m\n",
      "[ 10%] \u001b[32mBuilding CXX object util/CMakeFiles/util.dir/memory.cpp.o\u001b[0m\n",
      "[ 11%] \u001b[32mBuilding CXX object util/CMakeFiles/util.dir/shared_mutex.cpp.o\u001b[0m\n",
      "[ 12%] \u001b[32mBuilding CXX object library/tactic/smt/CMakeFiles/smt.dir/congruence_tactics.cpp.o\u001b[0m\n",
      "[ 12%] Built target backward\n",
      "[ 12%] \u001b[32mBuilding CXX object library/inductive_compiler/CMakeFiles/inductive_compiler.dir/ginductive.cpp.o\u001b[0m\n",
      "[ 12%] \u001b[32mBuilding CXX object library/tactic/smt/CMakeFiles/smt.dir/hinst_lemmas.cpp.o\u001b[0m\n"
     ]
    },
    {
     "name": "stderr",
     "output_type": "stream",
     "text": [
      "cc1plus: note: disable pass tree-ifcombine for functions in the range of [0, 4294967295]\n",
      "cc1plus: note: disable pass tree-ifcombine for functions in the range of [0, 4294967295]\n",
      "cc1plus: note: disable pass tree-ifcombine for functions in the range of [0, 4294967295]\n",
      "cc1plus: note: disable pass tree-ifcombine for functions in the range of [0, 4294967295]\n",
      "cc1plus: note: disable pass tree-ifcombine for functions in the range of [0, 4294967295]\n",
      "cc1plus: note: disable pass tree-ifcombine for functions in the range of [0, 4294967295]\n",
      "cc1plus: note: disable pass tree-ifcombine for functions in the range of [0, 4294967295]\n",
      "cc1plus: note: disable pass tree-ifcombine for functions in the range of [0, 4294967295]\n"
     ]
    },
    {
     "name": "stdout",
     "output_type": "stream",
     "text": [
      "[ 12%] Built target sexpr\n",
      "[ 12%] \u001b[32mBuilding CXX object frontends/lean/CMakeFiles/lean_frontend.dir/tokens.cpp.o\u001b[0m\n",
      "[ 12%] \u001b[32mBuilding CXX object library/inductive_compiler/CMakeFiles/inductive_compiler.dir/basic.cpp.o\u001b[0m\n",
      "[ 12%] \u001b[32mBuilding CXX object util/CMakeFiles/util.dir/path.cpp.o\u001b[0m\n"
     ]
    },
    {
     "name": "stderr",
     "output_type": "stream",
     "text": [
      "cc1plus: note: disable pass tree-ifcombine for functions in the range of [0, 4294967295]\n",
      "cc1plus: note: disable pass tree-ifcombine for functions in the range of [0, 4294967295]\n",
      "cc1plus: note: disable pass tree-ifcombine for functions in the range of [0, 4294967295]\n",
      "cc1plus: note: disable pass tree-ifcombine for functions in the range of [0, 4294967295]\n"
     ]
    },
    {
     "name": "stdout",
     "output_type": "stream",
     "text": [
      "[ 12%] \u001b[32mBuilding CXX object library/compiler/CMakeFiles/compiler.dir/preprocess.cpp.o\u001b[0m\n",
      "[ 12%] \u001b[32mBuilding CXX object library/tactic/smt/CMakeFiles/smt.dir/ematch.cpp.o\u001b[0m\n",
      "[ 12%] \u001b[32mBuilding CXX object library/vm/CMakeFiles/vm.dir/vm_string.cpp.o\u001b[0m\n",
      "[ 12%] \u001b[32mBuilding CXX object library/CMakeFiles/library.dir/shared_environment.cpp.o\u001b[0m\n",
      "[ 13%] \u001b[32mBuilding CXX object library/vm/CMakeFiles/vm.dir/vm_aux.cpp.o\u001b[0m\n",
      "[ 13%] \u001b[32mBuilding CXX object frontends/lean/CMakeFiles/lean_frontend.dir/token_table.cpp.o\u001b[0m\n"
     ]
    },
    {
     "name": "stderr",
     "output_type": "stream",
     "text": [
      "cc1plus: note: disable pass tree-ifcombine for functions in the range of [0, 4294967295]\n",
      "cc1plus: note: disable pass tree-ifcombine for functions in the range of [0, 4294967295]\n",
      "cc1plus: note: disable pass tree-ifcombine for functions in the range of [0, 4294967295]\n",
      "cc1plus: note: disable pass tree-ifcombine for functions in the range of [0, 4294967295]\n",
      "cc1plus: note: disable pass tree-ifcombine for functions in the range of [0, 4294967295]\n"
     ]
    },
    {
     "name": "stdout",
     "output_type": "stream",
     "text": [
      "[ 14%] \u001b[32mBuilding CXX object kernel/CMakeFiles/kernel.dir/for_each_fn.cpp.o\u001b[0m\n",
      "[ 14%] \u001b[32mBuilding CXX object library/CMakeFiles/library.dir/module.cpp.o\u001b[0m\n",
      "[ 14%] \u001b[32mBuilding CXX object util/CMakeFiles/util.dir/stackinfo.cpp.o\u001b[0m\n"
     ]
    },
    {
     "name": "stderr",
     "output_type": "stream",
     "text": [
      "cc1plus: note: disable pass tree-ifcombine for functions in the range of [0, 4294967295]\n",
      "cc1plus: note: disable pass tree-ifcombine for functions in the range of [0, 4294967295]\n",
      "cc1plus: note: disable pass tree-ifcombine for functions in the range of [0, 4294967295]\n"
     ]
    },
    {
     "name": "stdout",
     "output_type": "stream",
     "text": [
      "[ 14%] \u001b[32mBuilding CXX object library/constructions/CMakeFiles/constructions.dir/projection.cpp.o\u001b[0m\n",
      "[ 14%] \u001b[32mBuilding CXX object library/constructions/CMakeFiles/constructions.dir/brec_on.cpp.o\u001b[0m\n",
      "[ 14%] \u001b[32mBuilding CXX object library/constructions/CMakeFiles/constructions.dir/init_module.cpp.o\u001b[0m\n",
      "[ 15%] \u001b[32mBuilding CXX object library/constructions/CMakeFiles/constructions.dir/has_sizeof.cpp.o\u001b[0m\n",
      "[ 15%] \u001b[32mBuilding CXX object library/constructions/CMakeFiles/constructions.dir/constructor.cpp.o\u001b[0m\n",
      "[ 15%] \u001b[32mBuilding CXX object util/CMakeFiles/util.dir/lean_path.cpp.o\u001b[0m\n"
     ]
    },
    {
     "name": "stderr",
     "output_type": "stream",
     "text": [
      "cc1plus: note: disable pass tree-ifcombine for functions in the range of [0, 4294967295]\n",
      "cc1plus: note: disable pass tree-ifcombine for functions in the range of [0, 4294967295]\n",
      "cc1plus: note: disable pass tree-ifcombine for functions in the range of [0, 4294967295]\n",
      "cc1plus: note: disable pass tree-ifcombine for functions in the range of [0, 4294967295]\n",
      "cc1plus: note: disable pass tree-ifcombine for functions in the range of [0, 4294967295]\n",
      "cc1plus: note: disable pass tree-ifcombine for functions in the range of [0, 4294967295]\n"
     ]
    },
    {
     "name": "stdout",
     "output_type": "stream",
     "text": [
      "[ 16%] \u001b[32mBuilding CXX object library/compiler/CMakeFiles/compiler.dir/compiler_step_visitor.cpp.o\u001b[0m\n",
      "[ 16%] \u001b[32mBuilding CXX object kernel/CMakeFiles/kernel.dir/replace_fn.cpp.o\u001b[0m\n",
      "[ 16%] \u001b[32mBuilding CXX object frontends/lean/CMakeFiles/lean_frontend.dir/scanner.cpp.o\u001b[0m\n",
      "[ 16%] \u001b[32mBuilding CXX object library/inductive_compiler/CMakeFiles/inductive_compiler.dir/mutual.cpp.o\u001b[0m\n"
     ]
    },
    {
     "name": "stderr",
     "output_type": "stream",
     "text": [
      "cc1plus: note: disable pass tree-ifcombine for functions in the range of [0, 4294967295]\n",
      "cc1plus: note: disable pass tree-ifcombine for functions in the range of [0, 4294967295]\n",
      "cc1plus: note: disable pass tree-ifcombine for functions in the range of [0, 4294967295]\n",
      "In file included from /tmp/tmphu0190g5/workspace/lean-liquid/_target/deps/lean/src/library/library_task_builder.h:8,\n",
      "                 from /tmp/tmphu0190g5/workspace/lean-liquid/_target/deps/lean/src/library/module.cpp:34:\n",
      "/tmp/tmphu0190g5/workspace/lean-liquid/_target/deps/lean/src/util/task_builder.h: In instantiation of ‘lean::task<std::vector<T, std::allocator<_Tp1> > > lean::traverse(const std::vector<std::shared_ptr<lean::task_cell<Res> > >&) [with Res = lean::expr; lean::task<std::vector<T, std::allocator<_Tp1> > > = std::shared_ptr<lean::task_cell<std::vector<lean::expr, std::allocator<lean::expr> > > >]’:\n",
      "/tmp/tmphu0190g5/workspace/lean-liquid/_target/deps/lean/src/util/task_builder.h:181:37:   required from ‘lean::task<bool> lean::any(const std::vector<std::shared_ptr<lean::task_cell<T> > >&, Fn&&) [with Fn = lean::has_sorry(const modification_list&)::<lambda(const lean::expr&)>; T = lean::expr; lean::task<bool> = std::shared_ptr<lean::task_cell<bool> >]’\n",
      "/tmp/tmphu0190g5/workspace/lean-liquid/_target/deps/lean/src/library/module.cpp:294:15:   required from here\n",
      "/tmp/tmphu0190g5/workspace/lean-liquid/_target/deps/lean/src/util/task_builder.h:143:24: warning: loop variable ‘t’ of type ‘const gtask&’ {aka ‘const std::shared_ptr<lean::gtask_cell>&’} binds to a temporary constructed from type ‘const std::shared_ptr<lean::task_cell<lean::expr> >’ [-Wrange-loop-construct]\n",
      "  143 |     for (gtask const & t : ts) {\n",
      "      |                        ^\n",
      "/tmp/tmphu0190g5/workspace/lean-liquid/_target/deps/lean/src/util/task_builder.h:143:24: note: use non-reference type ‘const gtask’ {aka ‘const std::shared_ptr<lean::gtask_cell>’} to make the copy explicit or ‘const std::shared_ptr<lean::task_cell<lean::expr> >&’ to prevent copying\n",
      "cc1plus: note: disable pass tree-ifcombine for functions in the range of [0, 4294967295]\n",
      "/tmp/tmphu0190g5/workspace/lean-liquid/_target/deps/lean/src/util/task_builder.h: In instantiation of ‘lean::task<std::vector<T, std::allocator<_Tp1> > > lean::traverse(const std::vector<std::shared_ptr<lean::task_cell<Res> > >&) [with Res = bool; lean::task<std::vector<T, std::allocator<_Tp1> > > = std::shared_ptr<lean::task_cell<std::vector<bool, std::allocator<bool> > > >]’:\n",
      "/tmp/tmphu0190g5/workspace/lean-liquid/_target/deps/lean/src/util/task_builder.h:181:37:   required from ‘lean::task<bool> lean::any(const std::vector<std::shared_ptr<lean::task_cell<T> > >&, Fn&&) [with Fn = lean::module::error_already_reported()::<lambda(bool)>; T = bool; lean::task<bool> = std::shared_ptr<lean::task_cell<bool> >]’\n",
      "/tmp/tmphu0190g5/workspace/lean-liquid/_target/deps/lean/src/library/module.cpp:525:15:   required from here\n",
      "/tmp/tmphu0190g5/workspace/lean-liquid/_target/deps/lean/src/util/task_builder.h:143:24: warning: loop variable ‘t’ of type ‘const gtask&’ {aka ‘const std::shared_ptr<lean::gtask_cell>&’} binds to a temporary constructed from type ‘const std::shared_ptr<lean::task_cell<bool> >’ [-Wrange-loop-construct]\n",
      "/tmp/tmphu0190g5/workspace/lean-liquid/_target/deps/lean/src/util/task_builder.h:143:24: note: use non-reference type ‘const gtask’ {aka ‘const std::shared_ptr<lean::gtask_cell>’} to make the copy explicit or ‘const std::shared_ptr<lean::task_cell<bool> >&’ to prevent copying\n"
     ]
    },
    {
     "name": "stdout",
     "output_type": "stream",
     "text": [
      "[ 16%] \u001b[32mBuilding CXX object library/constructions/CMakeFiles/constructions.dir/drec.cpp.o\u001b[0m\n",
      "[ 16%] \u001b[32mBuilding CXX object library/vm/CMakeFiles/vm.dir/vm_io.cpp.o\u001b[0m\n",
      "[ 17%] \u001b[32mBuilding CXX object library/equations_compiler/CMakeFiles/equations_compiler.dir/pack_domain.cpp.o\u001b[0m\n"
     ]
    },
    {
     "name": "stderr",
     "output_type": "stream",
     "text": [
      "cc1plus: note: disable pass tree-ifcombine for functions in the range of [0, 4294967295]\n",
      "cc1plus: note: disable pass tree-ifcombine for functions in the range of [0, 4294967295]\n",
      "cc1plus: note: disable pass tree-ifcombine for functions in the range of [0, 4294967295]\n"
     ]
    },
    {
     "name": "stdout",
     "output_type": "stream",
     "text": [
      "[ 17%] \u001b[32mBuilding CXX object library/constructions/CMakeFiles/constructions.dir/injective.cpp.o\u001b[0m\n",
      "[ 17%] \u001b[32mBuilding CXX object library/compiler/CMakeFiles/compiler.dir/elim_recursors.cpp.o\u001b[0m\n",
      "[ 17%] \u001b[32mBuilding CXX object library/compiler/CMakeFiles/compiler.dir/comp_irrelevant.cpp.o\u001b[0m\n",
      "[ 17%] \u001b[32mBuilding CXX object library/vm/CMakeFiles/vm.dir/vm_name.cpp.o\u001b[0m\n"
     ]
    },
    {
     "name": "stderr",
     "output_type": "stream",
     "text": [
      "cc1plus: note: disable pass tree-ifcombine for functions in the range of [0, 4294967295]\n",
      "cc1plus: note: disable pass tree-ifcombine for functions in the range of [0, 4294967295]\n",
      "cc1plus: note: disable pass tree-ifcombine for functions in the range of [0, 4294967295]\n",
      "cc1plus: note: disable pass tree-ifcombine for functions in the range of [0, 4294967295]\n"
     ]
    },
    {
     "name": "stdout",
     "output_type": "stream",
     "text": [
      "[ 18%] \u001b[32mBuilding CXX object util/CMakeFiles/util.dir/serializer.cpp.o\u001b[0m\n",
      "[ 18%] \u001b[32mBuilding CXX object kernel/CMakeFiles/kernel.dir/free_vars.cpp.o\u001b[0m\n",
      "[ 18%] \u001b[32mBuilding CXX object util/CMakeFiles/util.dir/lbool.cpp.o\u001b[0m\n"
     ]
    },
    {
     "name": "stderr",
     "output_type": "stream",
     "text": [
      "cc1plus: note: disable pass tree-ifcombine for functions in the range of [0, 4294967295]\n",
      "cc1plus: note: disable pass tree-ifcombine for functions in the range of [0, 4294967295]\n",
      "cc1plus: note: disable pass tree-ifcombine for functions in the range of [0, 4294967295]\n"
     ]
    },
    {
     "name": "stdout",
     "output_type": "stream",
     "text": [
      "[ 19%] \u001b[32mBuilding CXX object frontends/lean/CMakeFiles/lean_frontend.dir/parse_table.cpp.o\u001b[0m\n",
      "[ 19%] \u001b[32mBuilding CXX object library/vm/CMakeFiles/vm.dir/vm_options.cpp.o\u001b[0m\n",
      "[ 19%] \u001b[32mBuilding CXX object kernel/CMakeFiles/kernel.dir/abstract.cpp.o\u001b[0m\n",
      "[ 20%] \u001b[32mBuilding CXX object kernel/CMakeFiles/kernel.dir/instantiate.cpp.o\u001b[0m\n"
     ]
    },
    {
     "name": "stderr",
     "output_type": "stream",
     "text": [
      "cc1plus: note: disable pass tree-ifcombine for functions in the range of [0, 4294967295]\n",
      "cc1plus: note: disable pass tree-ifcombine for functions in the range of [0, 4294967295]\n",
      "cc1plus: note: disable pass tree-ifcombine for functions in the range of [0, 4294967295]\n",
      "cc1plus: note: disable pass tree-ifcombine for functions in the range of [0, 4294967295]\n"
     ]
    },
    {
     "name": "stdout",
     "output_type": "stream",
     "text": [
      "[ 20%] \u001b[32mBuilding CXX object util/CMakeFiles/util.dir/bitap_fuzzy_search.cpp.o\u001b[0m\n"
     ]
    },
    {
     "name": "stderr",
     "output_type": "stream",
     "text": [
      "cc1plus: note: disable pass tree-ifcombine for functions in the range of [0, 4294967295]\n"
     ]
    },
    {
     "name": "stdout",
     "output_type": "stream",
     "text": [
      "[ 20%] \u001b[32mBuilding CXX object library/tactic/smt/CMakeFiles/smt.dir/theory_ac.cpp.o\u001b[0m\n",
      "[ 20%] \u001b[32mBuilding CXX object library/equations_compiler/CMakeFiles/equations_compiler.dir/structural_rec.cpp.o\u001b[0m\n",
      "[ 20%] \u001b[32mBuilding CXX object util/CMakeFiles/util.dir/init_module.cpp.o\u001b[0m\n",
      "[ 20%] \u001b[32mBuilding CXX object library/constructions/CMakeFiles/constructions.dir/util.cpp.o\u001b[0m\n",
      "[ 20%] \u001b[32mBuilding CXX object library/compiler/CMakeFiles/compiler.dir/inliner.cpp.o\u001b[0m\n",
      "[ 20%] \u001b[32mBuilding CXX object kernel/CMakeFiles/kernel.dir/formatter.cpp.o\u001b[0m\n",
      "[ 20%] \u001b[32mBuilding CXX object library/tactic/CMakeFiles/tactic.dir/intro_tactic.cpp.o\u001b[0m\n",
      "[ 21%] \u001b[32mBuilding CXX object shell/CMakeFiles/shell_js.dir/server.cpp.o\u001b[0m\n",
      "[ 21%] \u001b[32mBuilding CXX object shell/CMakeFiles/shell_js.dir/lean_js.cpp.o\u001b[0m\n"
     ]
    },
    {
     "name": "stderr",
     "output_type": "stream",
     "text": [
      "cc1plus: note: disable pass tree-ifcombine for functions in the range of [0, 4294967295]\n",
      "cc1plus: note: disable pass tree-ifcombine for functions in the range of [0, 4294967295]\n",
      "cc1plus: note: disable pass tree-ifcombine for functions in the range of [0, 4294967295]\n",
      "cc1plus: note: disable pass tree-ifcombine for functions in the range of [0, 4294967295]\n",
      "cc1plus: note: disable pass tree-ifcombine for functions in the range of [0, 4294967295]\n",
      "cc1plus: note: disable pass tree-ifcombine for functions in the range of [0, 4294967295]\n",
      "cc1plus: note: disable pass tree-ifcombine for functions in the range of [0, 4294967295]\n",
      "cc1plus: note: disable pass tree-ifcombine for functions in the range of [0, 4294967295]\n",
      "cc1plus: note: disable pass tree-ifcombine for functions in the range of [0, 4294967295]\n"
     ]
    },
    {
     "name": "stdout",
     "output_type": "stream",
     "text": [
      "[ 22%] \u001b[32mBuilding CXX object library/vm/CMakeFiles/vm.dir/vm_format.cpp.o\u001b[0m\n",
      "[ 22%] \u001b[32mBuilding CXX object kernel/CMakeFiles/kernel.dir/declaration.cpp.o\u001b[0m\n",
      "[ 22%] \u001b[32mBuilding CXX object kernel/CMakeFiles/kernel.dir/environment.cpp.o\u001b[0m\n",
      "[ 22%] \u001b[32mBuilding CXX object kernel/CMakeFiles/kernel.dir/pos_info_provider.cpp.o\u001b[0m\n",
      "[ 23%] \u001b[32mBuilding CXX object util/CMakeFiles/util.dir/thread.cpp.o\u001b[0m\n",
      "[ 23%] Built target constructions\n",
      "[ 24%] \u001b[32mBuilding CXX object library/tactic/smt/CMakeFiles/smt.dir/util.cpp.o\u001b[0m\n"
     ]
    },
    {
     "name": "stderr",
     "output_type": "stream",
     "text": [
      "cc1plus: note: disable pass tree-ifcombine for functions in the range of [0, 4294967295]\n",
      "cc1plus: note: disable pass tree-ifcombine for functions in the range of [0, 4294967295]\n",
      "cc1plus: note: disable pass tree-ifcombine for functions in the range of [0, 4294967295]\n",
      "cc1plus: note: disable pass tree-ifcombine for functions in the range of [0, 4294967295]\n",
      "cc1plus: note: disable pass tree-ifcombine for functions in the range of [0, 4294967295]\n",
      "cc1plus: note: disable pass tree-ifcombine for functions in the range of [0, 4294967295]\n"
     ]
    },
    {
     "name": "stdout",
     "output_type": "stream",
     "text": [
      "[ 25%] \u001b[32mBuilding CXX object kernel/CMakeFiles/kernel.dir/type_checker.cpp.o\u001b[0m\n",
      "[ 26%] \u001b[32mBuilding CXX object library/inductive_compiler/CMakeFiles/inductive_compiler.dir/nested.cpp.o\u001b[0m\n",
      "[ 26%] \u001b[32mBuilding CXX object library/CMakeFiles/library.dir/private.cpp.o\u001b[0m\n"
     ]
    },
    {
     "name": "stderr",
     "output_type": "stream",
     "text": [
      "cc1plus: note: disable pass tree-ifcombine for functions in the range of [0, 4294967295]\n",
      "cc1plus: note: disable pass tree-ifcombine for functions in the range of [0, 4294967295]\n",
      "cc1plus: note: disable pass tree-ifcombine for functions in the range of [0, 4294967295]\n"
     ]
    },
    {
     "name": "stdout",
     "output_type": "stream",
     "text": [
      "[ 26%] \u001b[32mBuilding CXX object util/CMakeFiles/util.dir/memory_pool.cpp.o\u001b[0m\n",
      "[ 26%] \u001b[32mBuilding CXX object frontends/lean/CMakeFiles/lean_frontend.dir/parser_config.cpp.o\u001b[0m\n",
      "[ 26%] \u001b[32mBuilding CXX object util/CMakeFiles/util.dir/utf8.cpp.o\u001b[0m\n",
      "[ 27%] \u001b[32mBuilding CXX object library/compiler/CMakeFiles/compiler.dir/rec_fn_macro.cpp.o\u001b[0m\n",
      "[ 27%] \u001b[32mBuilding CXX object kernel/CMakeFiles/kernel.dir/error_msgs.cpp.o\u001b[0m\n"
     ]
    },
    {
     "name": "stderr",
     "output_type": "stream",
     "text": [
      "cc1plus: note: disable pass tree-ifcombine for functions in the range of [0, 4294967295]\n",
      "cc1plus: note: disable pass tree-ifcombine for functions in the range of [0, 4294967295]\n",
      "cc1plus: note: disable pass tree-ifcombine for functions in the range of [0, 4294967295]\n",
      "cc1plus: note: disable pass tree-ifcombine for functions in the range of [0, 4294967295]\n",
      "cc1plus: note: disable pass tree-ifcombine for functions in the range of [0, 4294967295]\n"
     ]
    },
    {
     "name": "stdout",
     "output_type": "stream",
     "text": [
      "[ 27%] \u001b[32mBuilding CXX object library/vm/CMakeFiles/vm.dir/vm_rb_map.cpp.o\u001b[0m\n",
      "[ 27%] \u001b[32mBuilding CXX object kernel/CMakeFiles/kernel.dir/kernel_exception.cpp.o\u001b[0m\n",
      "[ 27%] \u001b[32mBuilding CXX object util/CMakeFiles/util.dir/name_map.cpp.o\u001b[0m\n"
     ]
    },
    {
     "name": "stderr",
     "output_type": "stream",
     "text": [
      "cc1plus: note: disable pass tree-ifcombine for functions in the range of [0, 4294967295]\n",
      "cc1plus: note: disable pass tree-ifcombine for functions in the range of [0, 4294967295]\n",
      "cc1plus: note: disable pass tree-ifcombine for functions in the range of [0, 4294967295]\n"
     ]
    },
    {
     "name": "stdout",
     "output_type": "stream",
     "text": [
      "[ 28%] \u001b[32mBuilding CXX object util/CMakeFiles/util.dir/line_endings.cpp.o\u001b[0m\n",
      "[ 28%] \u001b[32mBuilding CXX object library/tactic/CMakeFiles/tactic.dir/revert_tactic.cpp.o\u001b[0m\n",
      "[ 28%] \u001b[32mBuilding CXX object util/CMakeFiles/util.dir/list_fn.cpp.o\u001b[0m\n",
      "[ 28%] \u001b[32mBuilding CXX object library/CMakeFiles/library.dir/placeholder.cpp.o\u001b[0m\n",
      "[ 28%] \u001b[32mBuilding CXX object util/CMakeFiles/util.dir/file_lock.cpp.o\u001b[0m\n",
      "[ 29%] \u001b[32mBuilding CXX object library/CMakeFiles/library.dir/aliases.cpp.o\u001b[0m\n",
      "[ 29%] \u001b[32mBuilding CXX object library/compiler/CMakeFiles/compiler.dir/erase_irrelevant.cpp.o\u001b[0m\n"
     ]
    },
    {
     "name": "stderr",
     "output_type": "stream",
     "text": [
      "cc1plus: note: disable pass tree-ifcombine for functions in the range of [0, 4294967295]\n",
      "cc1plus: note: disable pass tree-ifcombine for functions in the range of [0, 4294967295]\n",
      "cc1plus: note: disable pass tree-ifcombine for functions in the range of [0, 4294967295]\n",
      "cc1plus: note: disable pass tree-ifcombine for functions in the range of [0, 4294967295]\n",
      "cc1plus: note: disable pass tree-ifcombine for functions in the range of [0, 4294967295]\n",
      "cc1plus: note: disable pass tree-ifcombine for functions in the range of [0, 4294967295]\n",
      "cc1plus: note: disable pass tree-ifcombine for functions in the range of [0, 4294967295]\n"
     ]
    },
    {
     "name": "stdout",
     "output_type": "stream",
     "text": [
      "[ 29%] \u001b[32mBuilding CXX object library/compiler/CMakeFiles/compiler.dir/reduce_arity.cpp.o\u001b[0m\n",
      "[ 29%] \u001b[32mBuilding CXX object util/CMakeFiles/util.dir/timeit.cpp.o\u001b[0m\n"
     ]
    },
    {
     "name": "stderr",
     "output_type": "stream",
     "text": [
      "cc1plus: note: disable pass tree-ifcombine for functions in the range of [0, 4294967295]\n",
      "cc1plus: note: disable pass tree-ifcombine for functions in the range of [0, 4294967295]\n"
     ]
    },
    {
     "name": "stdout",
     "output_type": "stream",
     "text": [
      "[ 29%] \u001b[32mBuilding CXX object library/inductive_compiler/CMakeFiles/inductive_compiler.dir/util.cpp.o\u001b[0m\n",
      "[ 30%] \u001b[32mBuilding CXX object util/CMakeFiles/util.dir/timer.cpp.o\u001b[0m\n",
      "[ 30%] \u001b[32mBuilding CXX object kernel/CMakeFiles/kernel.dir/normalizer_extension.cpp.o\u001b[0m\n"
     ]
    },
    {
     "name": "stderr",
     "output_type": "stream",
     "text": [
      "cc1plus: note: disable pass tree-ifcombine for functions in the range of [0, 4294967295]\n",
      "cc1plus: note: disable pass tree-ifcombine for functions in the range of [0, 4294967295]\n",
      "cc1plus: note: disable pass tree-ifcombine for functions in the range of [0, 4294967295]\n"
     ]
    },
    {
     "name": "stdout",
     "output_type": "stream",
     "text": [
      "[ 30%] \u001b[32mBuilding CXX object library/vm/CMakeFiles/vm.dir/vm_level.cpp.o\u001b[0m\n",
      "[ 30%] \u001b[32mBuilding CXX object library/tactic/smt/CMakeFiles/smt.dir/smt_state.cpp.o\u001b[0m\n",
      "[ 30%] \u001b[32mBuilding CXX object util/CMakeFiles/util.dir/task.cpp.o\u001b[0m\n",
      "[ 31%] \u001b[32mBuilding CXX object library/tactic/CMakeFiles/tactic.dir/clear_tactic.cpp.o\u001b[0m\n",
      "[ 32%] \u001b[32mBuilding CXX object kernel/CMakeFiles/kernel.dir/init_module.cpp.o\u001b[0m\n"
     ]
    },
    {
     "name": "stderr",
     "output_type": "stream",
     "text": [
      "cc1plus: note: disable pass tree-ifcombine for functions in the range of [0, 4294967295]\n",
      "cc1plus: note: disable pass tree-ifcombine for functions in the range of [0, 4294967295]\n",
      "cc1plus: note: disable pass tree-ifcombine for functions in the range of [0, 4294967295]\n",
      "cc1plus: note: disable pass tree-ifcombine for functions in the range of [0, 4294967295]\n",
      "cc1plus: note: disable pass tree-ifcombine for functions in the range of [0, 4294967295]\n"
     ]
    },
    {
     "name": "stdout",
     "output_type": "stream",
     "text": [
      "[ 32%] \u001b[32mBuilding CXX object library/tactic/CMakeFiles/tactic.dir/app_builder_tactics.cpp.o\u001b[0m\n",
      "[ 32%] \u001b[32mBuilding CXX object frontends/lean/CMakeFiles/lean_frontend.dir/parser.cpp.o\u001b[0m\n"
     ]
    },
    {
     "name": "stderr",
     "output_type": "stream",
     "text": [
      "cc1plus: note: disable pass tree-ifcombine for functions in the range of [0, 4294967295]\n",
      "cc1plus: note: disable pass tree-ifcombine for functions in the range of [0, 4294967295]\n"
     ]
    },
    {
     "name": "stdout",
     "output_type": "stream",
     "text": [
      "[ 32%] \u001b[32mBuilding CXX object frontends/lean/CMakeFiles/lean_frontend.dir/parser_pos_provider.cpp.o\u001b[0m\n",
      "[ 32%] \u001b[32mBuilding CXX object util/CMakeFiles/util.dir/task_builder.cpp.o\u001b[0m\n",
      "[ 32%] \u001b[32mBuilding CXX object kernel/CMakeFiles/kernel.dir/expr_cache.cpp.o\u001b[0m\n",
      "[ 32%] \u001b[32mBuilding CXX object util/CMakeFiles/util.dir/cancellable.cpp.o\u001b[0m\n",
      "[ 32%] \u001b[32mBuilding CXX object library/vm/CMakeFiles/vm.dir/vm_expr.cpp.o\u001b[0m\n",
      "[ 32%] \u001b[32mBuilding CXX object library/compiler/CMakeFiles/compiler.dir/lambda_lifting.cpp.o\u001b[0m\n",
      "[ 32%] \u001b[32mBuilding CXX object library/compiler/CMakeFiles/compiler.dir/simp_inductive.cpp.o\u001b[0m\n"
     ]
    },
    {
     "name": "stderr",
     "output_type": "stream",
     "text": [
      "cc1plus: note: disable pass tree-ifcombine for functions in the range of [0, 4294967295]\n",
      "cc1plus: note: disable pass tree-ifcombine for functions in the range of [0, 4294967295]\n",
      "cc1plus: note: disable pass tree-ifcombine for functions in the range of [0, 4294967295]\n",
      "cc1plus: note: disable pass tree-ifcombine for functions in the range of [0, 4294967295]\n",
      "cc1plus: note: disable pass tree-ifcombine for functions in the range of [0, 4294967295]\n",
      "cc1plus: note: disable pass tree-ifcombine for functions in the range of [0, 4294967295]\n",
      "cc1plus: note: disable pass tree-ifcombine for functions in the range of [0, 4294967295]\n"
     ]
    },
    {
     "name": "stdout",
     "output_type": "stream",
     "text": [
      "[ 32%] \u001b[32mBuilding CXX object util/CMakeFiles/util.dir/log_tree.cpp.o\u001b[0m\n",
      "[ 32%] \u001b[32mBuilding CXX object library/equations_compiler/CMakeFiles/equations_compiler.dir/unbounded_rec.cpp.o\u001b[0m\n",
      "[ 32%] Built target shell_js\n",
      "[ 32%] \u001b[32mBuilding CXX object library/tactic/smt/CMakeFiles/smt.dir/init_module.cpp.o\u001b[0m\n",
      "[ 32%] \u001b[32mBuilding CXX object kernel/CMakeFiles/kernel.dir/scope_pos_info_provider.cpp.o\u001b[0m\n",
      "[ 32%] \u001b[32mBuilding CXX object kernel/CMakeFiles/kernel.dir/equiv_manager.cpp.o\u001b[0m\n"
     ]
    },
    {
     "name": "stderr",
     "output_type": "stream",
     "text": [
      "cc1plus: note: disable pass tree-ifcombine for functions in the range of [0, 4294967295]\n",
      "cc1plus: note: disable pass tree-ifcombine for functions in the range of [0, 4294967295]\n",
      "cc1plus: note: disable pass tree-ifcombine for functions in the range of [0, 4294967295]\n",
      "cc1plus: note: disable pass tree-ifcombine for functions in the range of [0, 4294967295]\n",
      "cc1plus: note: disable pass tree-ifcombine for functions in the range of [0, 4294967295]\n"
     ]
    },
    {
     "name": "stdout",
     "output_type": "stream",
     "text": [
      "[ 33%] \u001b[32mBuilding CXX object kernel/CMakeFiles/kernel.dir/abstract_type_context.cpp.o\u001b[0m\n",
      "[ 33%] \u001b[32mBuilding CXX object library/CMakeFiles/library.dir/update_declaration.cpp.o\u001b[0m\n"
     ]
    },
    {
     "name": "stderr",
     "output_type": "stream",
     "text": [
      "cc1plus: note: disable pass tree-ifcombine for functions in the range of [0, 4294967295]\n",
      "cc1plus: note: disable pass tree-ifcombine for functions in the range of [0, 4294967295]\n"
     ]
    },
    {
     "name": "stdout",
     "output_type": "stream",
     "text": [
      "[ 33%] \u001b[32mBuilding CXX object library/equations_compiler/CMakeFiles/equations_compiler.dir/elim_match.cpp.o\u001b[0m\n",
      "[ 33%] \u001b[32mBuilding CXX object kernel/CMakeFiles/kernel.dir/standard_kernel.cpp.o\u001b[0m\n",
      "[ 34%] \u001b[32mBuilding CXX object library/equations_compiler/CMakeFiles/equations_compiler.dir/compiler.cpp.o\u001b[0m\n",
      "[ 35%] \u001b[32mBuilding CXX object library/compiler/CMakeFiles/compiler.dir/nat_value.cpp.o\u001b[0m\n",
      "[ 35%] \u001b[32mBuilding CXX object library/tactic/CMakeFiles/tactic.dir/subst_tactic.cpp.o\u001b[0m\n"
     ]
    },
    {
     "name": "stderr",
     "output_type": "stream",
     "text": [
      "cc1plus: note: disable pass tree-ifcombine for functions in the range of [0, 4294967295]\n",
      "cc1plus: note: disable pass tree-ifcombine for functions in the range of [0, 4294967295]\n",
      "cc1plus: note: disable pass tree-ifcombine for functions in the range of [0, 4294967295]\n",
      "cc1plus: note: disable pass tree-ifcombine for functions in the range of [0, 4294967295]\n",
      "cc1plus: note: disable pass tree-ifcombine for functions in the range of [0, 4294967295]\n"
     ]
    },
    {
     "name": "stdout",
     "output_type": "stream",
     "text": [
      "[ 35%] \u001b[32mBuilding CXX object library/vm/CMakeFiles/vm.dir/vm_exceptional.cpp.o\u001b[0m\n",
      "[ 35%] \u001b[32mBuilding CXX object library/compiler/CMakeFiles/compiler.dir/vm_compiler.cpp.o\u001b[0m\n",
      "[ 36%] \u001b[32mBuilding CXX object library/vm/CMakeFiles/vm.dir/vm_declaration.cpp.o\u001b[0m\n",
      "[ 36%] Built target kernel\n",
      "[ 37%] \u001b[32mBuilding CXX object util/CMakeFiles/util.dir/small_object_allocator.cpp.o\u001b[0m\n"
     ]
    },
    {
     "name": "stderr",
     "output_type": "stream",
     "text": [
      "cc1plus: note: disable pass tree-ifcombine for functions in the range of [0, 4294967295]\n",
      "cc1plus: note: disable pass tree-ifcombine for functions in the range of [0, 4294967295]\n",
      "cc1plus: note: disable pass tree-ifcombine for functions in the range of [0, 4294967295]\n",
      "cc1plus: note: disable pass tree-ifcombine for functions in the range of [0, 4294967295]\n"
     ]
    },
    {
     "name": "stdout",
     "output_type": "stream",
     "text": [
      "[ 37%] \u001b[32mBuilding CXX object util/CMakeFiles/util.dir/subscripted_name_set.cpp.o\u001b[0m\n",
      "[ 37%] \u001b[32mBuilding CXX object library/CMakeFiles/library.dir/scoped_ext.cpp.o\u001b[0m\n"
     ]
    },
    {
     "name": "stderr",
     "output_type": "stream",
     "text": [
      "cc1plus: note: disable pass tree-ifcombine for functions in the range of [0, 4294967295]\n",
      "cc1plus: note: disable pass tree-ifcombine for functions in the range of [0, 4294967295]\n"
     ]
    },
    {
     "name": "stdout",
     "output_type": "stream",
     "text": [
      "[ 37%] \u001b[32mBuilding CXX object library/CMakeFiles/library.dir/sorry.cpp.o\u001b[0m\n",
      "[ 38%] \u001b[32mBuilding CXX object library/CMakeFiles/library.dir/replace_visitor.cpp.o\u001b[0m\n",
      "[ 38%] \u001b[32mBuilding CXX object util/CMakeFiles/util.dir/parser_exception.cpp.o\u001b[0m\n",
      "[ 38%] Built target smt\n",
      "[ 38%] \u001b[32mBuilding CXX object library/tactic/CMakeFiles/tactic.dir/exact_tactic.cpp.o\u001b[0m\n"
     ]
    },
    {
     "name": "stderr",
     "output_type": "stream",
     "text": [
      "cc1plus: note: disable pass tree-ifcombine for functions in the range of [0, 4294967295]\n",
      "cc1plus: note: disable pass tree-ifcombine for functions in the range of [0, 4294967295]\n",
      "cc1plus: note: disable pass tree-ifcombine for functions in the range of [0, 4294967295]\n",
      "cc1plus: note: disable pass tree-ifcombine for functions in the range of [0, 4294967295]\n"
     ]
    },
    {
     "name": "stdout",
     "output_type": "stream",
     "text": [
      "[ 38%] \u001b[32mBuilding CXX object library/equations_compiler/CMakeFiles/equations_compiler.dir/wf_rec.cpp.o\u001b[0m\n",
      "[ 38%] \u001b[32mBuilding CXX object library/compiler/CMakeFiles/compiler.dir/cse.cpp.o\u001b[0m\n",
      "[ 38%] \u001b[32mBuilding CXX object util/CMakeFiles/util.dir/name_generator.cpp.o\u001b[0m\n"
     ]
    },
    {
     "name": "stderr",
     "output_type": "stream",
     "text": [
      "cc1plus: note: disable pass tree-ifcombine for functions in the range of [0, 4294967295]\n",
      "cc1plus: note: disable pass tree-ifcombine for functions in the range of [0, 4294967295]\n",
      "cc1plus: note: disable pass tree-ifcombine for functions in the range of [0, 4294967295]\n"
     ]
    },
    {
     "name": "stdout",
     "output_type": "stream",
     "text": [
      "[ 38%] \u001b[32mBuilding CXX object library/CMakeFiles/library.dir/explicit.cpp.o\u001b[0m\n",
      "[ 38%] \u001b[32mBuilding CXX object library/CMakeFiles/library.dir/num.cpp.o\u001b[0m\n",
      "[ 38%] \u001b[32mBuilding CXX object library/CMakeFiles/library.dir/string.cpp.o\u001b[0m\n",
      "[ 38%] \u001b[32mBuilding CXX object library/equations_compiler/CMakeFiles/equations_compiler.dir/pack_mutual.cpp.o\u001b[0m\n",
      "[ 38%] \u001b[32mBuilding CXX object library/equations_compiler/CMakeFiles/equations_compiler.dir/init_module.cpp.o\u001b[0m\n",
      "[ 38%] \u001b[32mBuilding CXX object library/vm/CMakeFiles/vm.dir/vm_environment.cpp.o\u001b[0m\n",
      "[ 38%] \u001b[32mBuilding CXX object library/compiler/CMakeFiles/compiler.dir/elim_unused_lets.cpp.o\u001b[0m\n"
     ]
    },
    {
     "name": "stderr",
     "output_type": "stream",
     "text": [
      "cc1plus: note: disable pass tree-ifcombine for functions in the range of [0, 4294967295]\n",
      "cc1plus: note: disable pass tree-ifcombine for functions in the range of [0, 4294967295]\n",
      "cc1plus: note: disable pass tree-ifcombine for functions in the range of [0, 4294967295]\n",
      "cc1plus: note: disable pass tree-ifcombine for functions in the range of [0, 4294967295]\n",
      "cc1plus: note: disable pass tree-ifcombine for functions in the range of [0, 4294967295]\n",
      "cc1plus: note: disable pass tree-ifcombine for functions in the range of [0, 4294967295]\n",
      "cc1plus: note: disable pass tree-ifcombine for functions in the range of [0, 4294967295]\n",
      "/tmp/tmphu0190g5/workspace/lean-liquid/_target/deps/lean/src/library/compiler/cse.cpp: In member function ‘void lean::cse_fn::collect_common_subexprs(const lean::buffer<lean::expr>&, const lean::expr&, lean::expr_set&)’:\n",
      "/tmp/tmphu0190g5/workspace/lean-liquid/_target/deps/lean/src/library/compiler/cse.cpp:153:43: warning: loop variable ‘p’ of type ‘lean::pair<lean::expr, unsigned int>&’ {aka ‘const std::pair<lean::expr, unsigned int>&’} binds to a temporary constructed from type ‘const value_type’ {aka ‘const std::pair<const lean::expr, unsigned int>’} [-Wrange-loop-construct]\n",
      "  153 |         for (pair<expr, unsigned> const & p : num_occs_collector.get_num_occs()) {\n",
      "      |                                           ^\n",
      "/tmp/tmphu0190g5/workspace/lean-liquid/_target/deps/lean/src/library/compiler/cse.cpp:153:43: note: use non-reference type ‘lean::pair<lean::expr, unsigned int>’ {aka ‘const std::pair<lean::expr, unsigned int>’} to make the copy explicit or ‘const value_type&’ {aka ‘const std::pair<const lean::expr, unsigned int>&’} to prevent copying\n"
     ]
    },
    {
     "name": "stdout",
     "output_type": "stream",
     "text": [
      "[ 38%] Built target util\n",
      "[ 39%] \u001b[32mBuilding CXX object library/CMakeFiles/library.dir/head_map.cpp.o\u001b[0m\n",
      "[ 40%] \u001b[32mBuilding CXX object library/tactic/CMakeFiles/tactic.dir/change_tactic.cpp.o\u001b[0m\n",
      "[ 40%] \u001b[32mBuilding CXX object library/tactic/CMakeFiles/tactic.dir/assert_tactic.cpp.o\u001b[0m\n"
     ]
    },
    {
     "name": "stderr",
     "output_type": "stream",
     "text": [
      "cc1plus: note: disable pass tree-ifcombine for functions in the range of [0, 4294967295]\n",
      "cc1plus: note: disable pass tree-ifcombine for functions in the range of [0, 4294967295]\n",
      "cc1plus: note: disable pass tree-ifcombine for functions in the range of [0, 4294967295]\n"
     ]
    },
    {
     "name": "stdout",
     "output_type": "stream",
     "text": [
      "[ 40%] \u001b[32mBuilding CXX object library/CMakeFiles/library.dir/class.cpp.o\u001b[0m\n",
      "[ 40%] \u001b[32mBuilding CXX object library/CMakeFiles/library.dir/util.cpp.o\u001b[0m\n",
      "[ 40%] \u001b[32mBuilding CXX object library/CMakeFiles/library.dir/print.cpp.o\u001b[0m\n",
      "[ 41%] \u001b[32mBuilding CXX object library/compiler/CMakeFiles/compiler.dir/extract_values.cpp.o\u001b[0m\n"
     ]
    },
    {
     "name": "stderr",
     "output_type": "stream",
     "text": [
      "cc1plus: note: disable pass tree-ifcombine for functions in the range of [0, 4294967295]\n",
      "cc1plus: note: disable pass tree-ifcombine for functions in the range of [0, 4294967295]\n",
      "cc1plus: note: disable pass tree-ifcombine for functions in the range of [0, 4294967295]\n",
      "cc1plus: note: disable pass tree-ifcombine for functions in the range of [0, 4294967295]\n"
     ]
    },
    {
     "name": "stdout",
     "output_type": "stream",
     "text": [
      "[ 42%] \u001b[32mBuilding CXX object library/CMakeFiles/library.dir/annotation.cpp.o\u001b[0m\n",
      "[ 42%] \u001b[32mBuilding CXX object library/CMakeFiles/library.dir/quote.cpp.o\u001b[0m\n",
      "[ 42%] \u001b[32mBuilding CXX object library/tactic/CMakeFiles/tactic.dir/apply_tactic.cpp.o\u001b[0m\n",
      "[ 42%] \u001b[32mBuilding CXX object library/tactic/CMakeFiles/tactic.dir/fun_info_tactics.cpp.o\u001b[0m\n",
      "[ 42%] \u001b[32mBuilding CXX object library/compiler/CMakeFiles/compiler.dir/init_module.cpp.o\u001b[0m\n"
     ]
    },
    {
     "name": "stderr",
     "output_type": "stream",
     "text": [
      "cc1plus: note: disable pass tree-ifcombine for functions in the range of [0, 4294967295]\n",
      "cc1plus: note: disable pass tree-ifcombine for functions in the range of [0, 4294967295]\n",
      "cc1plus: note: disable pass tree-ifcombine for functions in the range of [0, 4294967295]\n",
      "cc1plus: note: disable pass tree-ifcombine for functions in the range of [0, 4294967295]\n",
      "cc1plus: note: disable pass tree-ifcombine for functions in the range of [0, 4294967295]\n"
     ]
    },
    {
     "name": "stdout",
     "output_type": "stream",
     "text": [
      "[ 43%] \u001b[32mBuilding CXX object library/tactic/CMakeFiles/tactic.dir/congr_lemma_tactics.cpp.o\u001b[0m\n",
      "[ 43%] \u001b[32mBuilding CXX object library/tactic/CMakeFiles/tactic.dir/match_tactic.cpp.o\u001b[0m\n"
     ]
    },
    {
     "name": "stderr",
     "output_type": "stream",
     "text": [
      "cc1plus: note: disable pass tree-ifcombine for functions in the range of [0, 4294967295]\n",
      "cc1plus: note: disable pass tree-ifcombine for functions in the range of [0, 4294967295]\n"
     ]
    },
    {
     "name": "stdout",
     "output_type": "stream",
     "text": [
      "[ 43%] \u001b[32mBuilding CXX object library/vm/CMakeFiles/vm.dir/vm_list.cpp.o\u001b[0m\n",
      "[ 43%] \u001b[32mBuilding CXX object library/vm/CMakeFiles/vm.dir/vm_pexpr.cpp.o\u001b[0m\n",
      "[ 43%] Built target compiler\n",
      "[ 43%] \u001b[32mBuilding CXX object checker/CMakeFiles/leanchecker.dir/checker.cpp.o\u001b[0m\n",
      "[ 43%] Built target inductive_compiler\n"
     ]
    },
    {
     "name": "stderr",
     "output_type": "stream",
     "text": [
      "cc1plus: note: disable pass tree-ifcombine for functions in the range of [0, 4294967295]\n",
      "cc1plus: note: disable pass tree-ifcombine for functions in the range of [0, 4294967295]\n",
      "cc1plus: note: disable pass tree-ifcombine for functions in the range of [0, 4294967295]\n"
     ]
    },
    {
     "name": "stdout",
     "output_type": "stream",
     "text": [
      "[ 44%] \u001b[32mBuilding CXX object tests/util/CMakeFiles/name.dir/name.cpp.o\u001b[0m\n",
      "[ 44%] \u001b[32mBuilding CXX object frontends/lean/CMakeFiles/lean_frontend.dir/builtin_cmds.cpp.o\u001b[0m\n",
      "[ 44%] \u001b[32mBuilding CXX object library/CMakeFiles/library.dir/typed_expr.cpp.o\u001b[0m\n",
      "[ 44%] \u001b[32mBuilding CXX object library/tactic/CMakeFiles/tactic.dir/ac_tactics.cpp.o\u001b[0m\n"
     ]
    },
    {
     "name": "stderr",
     "output_type": "stream",
     "text": [
      "cc1plus: note: disable pass tree-ifcombine for functions in the range of [0, 4294967295]\n",
      "cc1plus: note: disable pass tree-ifcombine for functions in the range of [0, 4294967295]\n",
      "cc1plus: note: disable pass tree-ifcombine for functions in the range of [0, 4294967295]\n",
      "In file included from /tmp/tmphu0190g5/workspace/lean-liquid/_target/deps/lean/src/util/name_map.h:9,\n",
      "                 from /tmp/tmphu0190g5/workspace/lean-liquid/_target/deps/lean/src/util/sexpr/option_declarations.h:11,\n",
      "                 from /tmp/tmphu0190g5/workspace/lean-liquid/_target/deps/lean/src/library/equations_compiler/elim_match.cpp:9:\n",
      "/tmp/tmphu0190g5/workspace/lean-liquid/_target/deps/lean/src/util/name.h: In member function ‘lean::list<lean::elim_match_fn::lemma> lean::elim_match_fn::process(const lean::elim_match_fn::problem&)’:\n",
      "/tmp/tmphu0190g5/workspace/lean-liquid/_target/deps/lean/src/util/name.h:115:23: warning: ‘*(lean::name*)((char*)&fn_name + offsetof(lean::optional<lean::name>,lean::optional<lean::name>::<unnamed>)).lean::name::m_ptr’ may be used uninitialized in this function [-Wmaybe-uninitialized]\n",
      "  115 |         return eq_core(a.m_ptr, b.m_ptr);\n",
      "      |                ~~~~~~~^~~~~~~~~~~~~~~~~~\n",
      "/tmp/tmphu0190g5/workspace/lean-liquid/_target/deps/lean/src/library/equations_compiler/elim_match.cpp:520:24: note: ‘*(lean::name*)((char*)&fn_name + offsetof(lean::optional<lean::name>,lean::optional<lean::name>::<unnamed>)).lean::name::m_ptr’ was declared here\n",
      "  520 |         optional<name> fn_name;\n",
      "      |                        ^~~~~~~\n",
      "cc1plus: note: disable pass tree-ifcombine for functions in the range of [0, 4294967295]\n"
     ]
    },
    {
     "name": "stdout",
     "output_type": "stream",
     "text": [
      "[ 44%] \u001b[32mBuilding CXX object library/tactic/CMakeFiles/tactic.dir/induction_tactic.cpp.o\u001b[0m\n",
      "[ 44%] \u001b[32mBuilding CXX object library/CMakeFiles/library.dir/protected.cpp.o\u001b[0m\n",
      "[ 45%] \u001b[32mBuilding CXX object library/vm/CMakeFiles/vm.dir/vm_task.cpp.o\u001b[0m\n",
      "[ 46%] \u001b[32mBuilding CXX object library/tactic/CMakeFiles/tactic.dir/cases_tactic.cpp.o\u001b[0m\n",
      "[ 46%] \u001b[32mBuilding CXX object library/CMakeFiles/library.dir/reducible.cpp.o\u001b[0m\n"
     ]
    },
    {
     "name": "stderr",
     "output_type": "stream",
     "text": [
      "cc1plus: note: disable pass tree-ifcombine for functions in the range of [0, 4294967295]\n",
      "cc1plus: note: disable pass tree-ifcombine for functions in the range of [0, 4294967295]\n",
      "cc1plus: note: disable pass tree-ifcombine for functions in the range of [0, 4294967295]\n",
      "cc1plus: note: disable pass tree-ifcombine for functions in the range of [0, 4294967295]\n",
      "cc1plus: note: disable pass tree-ifcombine for functions in the range of [0, 4294967295]\n"
     ]
    },
    {
     "name": "stdout",
     "output_type": "stream",
     "text": [
      "[ 47%] \u001b[32mBuilding CXX object library/CMakeFiles/library.dir/init_module.cpp.o\u001b[0m\n",
      "[ 47%] \u001b[32mBuilding CXX object library/vm/CMakeFiles/vm.dir/vm_int.cpp.o\u001b[0m\n",
      "[ 47%] \u001b[32mBuilding CXX object checker/CMakeFiles/leanchecker.dir/text_import.cpp.o\u001b[0m\n",
      "[ 47%] \u001b[32mBuilding CXX object library/tactic/CMakeFiles/tactic.dir/generalize_tactic.cpp.o\u001b[0m\n"
     ]
    },
    {
     "name": "stderr",
     "output_type": "stream",
     "text": [
      "cc1plus: note: disable pass tree-ifcombine for functions in the range of [0, 4294967295]\n",
      "cc1plus: note: disable pass tree-ifcombine for functions in the range of [0, 4294967295]\n",
      "cc1plus: note: disable pass tree-ifcombine for functions in the range of [0, 4294967295]\n",
      "cc1plus: note: disable pass tree-ifcombine for functions in the range of [0, 4294967295]\n"
     ]
    },
    {
     "name": "stdout",
     "output_type": "stream",
     "text": [
      "[ 47%] \u001b[32mBuilding CXX object library/CMakeFiles/library.dir/exception.cpp.o\u001b[0m\n",
      "[ 47%] \u001b[32m\u001b[1mLinking CXX executable name\u001b[0m\n",
      "[ 47%] Built target equations_compiler\n",
      "[ 48%] \u001b[32mBuilding CXX object tests/util/CMakeFiles/sequence.dir/sequence.cpp.o\u001b[0m\n",
      "[ 48%] \u001b[32mBuilding CXX object frontends/lean/CMakeFiles/lean_frontend.dir/builtin_exprs.cpp.o\u001b[0m\n",
      "[ 48%] Built target name\n"
     ]
    },
    {
     "name": "stderr",
     "output_type": "stream",
     "text": [
      "cc1plus: note: disable pass tree-ifcombine for functions in the range of [0, 4294967295]\n",
      "cc1plus: note: disable pass tree-ifcombine for functions in the range of [0, 4294967295]\n",
      "cc1plus: note: disable pass tree-ifcombine for functions in the range of [0, 4294967295]\n"
     ]
    },
    {
     "name": "stdout",
     "output_type": "stream",
     "text": [
      "[ 48%] \u001b[32mBuilding CXX object tests/util/CMakeFiles/sexpr_tst.dir/sexpr.cpp.o\u001b[0m\n",
      "[ 48%] \u001b[32mBuilding CXX object library/vm/CMakeFiles/vm.dir/init_module.cpp.o\u001b[0m\n"
     ]
    },
    {
     "name": "stderr",
     "output_type": "stream",
     "text": [
      "cc1plus: note: disable pass tree-ifcombine for functions in the range of [0, 4294967295]\n",
      "cc1plus: note: disable pass tree-ifcombine for functions in the range of [0, 4294967295]\n"
     ]
    },
    {
     "name": "stdout",
     "output_type": "stream",
     "text": [
      "[ 48%] \u001b[32mBuilding CXX object tests/util/CMakeFiles/format.dir/format.cpp.o\u001b[0m\n",
      "[ 48%] \u001b[32mBuilding CXX object library/tactic/CMakeFiles/tactic.dir/rewrite_tactic.cpp.o\u001b[0m\n",
      "[ 48%] \u001b[32m\u001b[1mLinking CXX executable sequence\u001b[0m\n",
      "[ 48%] \u001b[32mBuilding CXX object library/tactic/CMakeFiles/tactic.dir/unfold_tactic.cpp.o\u001b[0m\n",
      "[ 48%] \u001b[32mBuilding CXX object library/tactic/CMakeFiles/tactic.dir/hsubstitution.cpp.o\u001b[0m\n",
      "[ 48%] Built target sequence\n",
      "[ 49%] \u001b[32mBuilding CXX object library/tactic/CMakeFiles/tactic.dir/gexpr.cpp.o\u001b[0m\n",
      "[ 49%] \u001b[32mBuilding CXX object library/tactic/CMakeFiles/tactic.dir/elaborate.cpp.o\u001b[0m\n"
     ]
    },
    {
     "name": "stderr",
     "output_type": "stream",
     "text": [
      "cc1plus: note: disable pass tree-ifcombine for functions in the range of [0, 4294967295]\n",
      "cc1plus: note: disable pass tree-ifcombine for functions in the range of [0, 4294967295]\n",
      "cc1plus: note: disable pass tree-ifcombine for functions in the range of [0, 4294967295]\n",
      "cc1plus: note: disable pass tree-ifcombine for functions in the range of [0, 4294967295]\n",
      "cc1plus: note: disable pass tree-ifcombine for functions in the range of [0, 4294967295]\n",
      "cc1plus: note: disable pass tree-ifcombine for functions in the range of [0, 4294967295]\n"
     ]
    },
    {
     "name": "stdout",
     "output_type": "stream",
     "text": [
      "[ 49%] \u001b[32mBuilding CXX object library/CMakeFiles/library.dir/fingerprint.cpp.o\u001b[0m\n",
      "[ 49%] \u001b[32mBuilding CXX object library/vm/CMakeFiles/vm.dir/vm_parser.cpp.o\u001b[0m\n",
      "[ 49%] \u001b[32m\u001b[1mLinking CXX executable format\u001b[0m\n"
     ]
    },
    {
     "name": "stderr",
     "output_type": "stream",
     "text": [
      "cc1plus: note: disable pass tree-ifcombine for functions in the range of [0, 4294967295]\n",
      "cc1plus: note: disable pass tree-ifcombine for functions in the range of [0, 4294967295]\n"
     ]
    },
    {
     "name": "stdout",
     "output_type": "stream",
     "text": [
      "[ 49%] \u001b[32mBuilding CXX object library/tactic/CMakeFiles/tactic.dir/init_module.cpp.o\u001b[0m\n",
      "[ 49%] Built target format\n",
      "[ 49%] \u001b[32mBuilding CXX object library/tactic/CMakeFiles/tactic.dir/simp_result.cpp.o\u001b[0m\n",
      "[ 49%] \u001b[32m\u001b[1mLinking CXX executable sexpr_tst\u001b[0m\n",
      "[ 49%] Built target sexpr_tst\n",
      "[ 50%] \u001b[32mBuilding CXX object library/tactic/CMakeFiles/tactic.dir/user_attribute.cpp.o\u001b[0m\n",
      "[ 50%] \u001b[32mBuilding CXX object library/tactic/CMakeFiles/tactic.dir/eval.cpp.o\u001b[0m\n"
     ]
    },
    {
     "name": "stderr",
     "output_type": "stream",
     "text": [
      "cc1plus: note: disable pass tree-ifcombine for functions in the range of [0, 4294967295]\n",
      "cc1plus: note: disable pass tree-ifcombine for functions in the range of [0, 4294967295]\n",
      "cc1plus: note: disable pass tree-ifcombine for functions in the range of [0, 4294967295]\n",
      "cc1plus: note: disable pass tree-ifcombine for functions in the range of [0, 4294967295]\n"
     ]
    },
    {
     "name": "stdout",
     "output_type": "stream",
     "text": [
      "[ 50%] \u001b[32mBuilding CXX object library/tactic/CMakeFiles/tactic.dir/simp_lemmas.cpp.o\u001b[0m\n",
      "[ 50%] \u001b[32mBuilding CXX object library/tactic/CMakeFiles/tactic.dir/eqn_lemmas.cpp.o\u001b[0m\n",
      "[ 50%] \u001b[32mBuilding CXX object library/CMakeFiles/library.dir/pp_options.cpp.o\u001b[0m\n",
      "[ 51%] \u001b[32mBuilding CXX object library/tactic/CMakeFiles/tactic.dir/dsimplify.cpp.o\u001b[0m\n",
      "[ 52%] \u001b[32mBuilding CXX object checker/CMakeFiles/leanchecker.dir/simple_pp.cpp.o\u001b[0m\n",
      "[ 52%] \u001b[32mBuilding CXX object library/tactic/CMakeFiles/tactic.dir/simplify.cpp.o\u001b[0m\n"
     ]
    },
    {
     "name": "stderr",
     "output_type": "stream",
     "text": [
      "cc1plus: note: disable pass tree-ifcombine for functions in the range of [0, 4294967295]\n",
      "cc1plus: note: disable pass tree-ifcombine for functions in the range of [0, 4294967295]\n",
      "cc1plus: note: disable pass tree-ifcombine for functions in the range of [0, 4294967295]\n",
      "cc1plus: note: disable pass tree-ifcombine for functions in the range of [0, 4294967295]\n",
      "cc1plus: note: disable pass tree-ifcombine for functions in the range of [0, 4294967295]\n",
      "cc1plus: note: disable pass tree-ifcombine for functions in the range of [0, 4294967295]\n"
     ]
    },
    {
     "name": "stdout",
     "output_type": "stream",
     "text": [
      "[ 52%] \u001b[32mBuilding CXX object tests/util/CMakeFiles/buffer.dir/buffer.cpp.o\u001b[0m\n",
      "[ 52%] \u001b[32mBuilding CXX object library/tactic/CMakeFiles/tactic.dir/vm_monitor.cpp.o\u001b[0m\n",
      "[ 53%] \u001b[32mBuilding CXX object library/vm/CMakeFiles/vm.dir/vm_array.cpp.o\u001b[0m\n"
     ]
    },
    {
     "name": "stderr",
     "output_type": "stream",
     "text": [
      "cc1plus: note: disable pass tree-ifcombine for functions in the range of [0, 4294967295]\n",
      "cc1plus: note: disable pass tree-ifcombine for functions in the range of [0, 4294967295]\n",
      "cc1plus: note: disable pass tree-ifcombine for functions in the range of [0, 4294967295]\n"
     ]
    },
    {
     "name": "stdout",
     "output_type": "stream",
     "text": [
      "[ 53%] \u001b[32mBuilding CXX object frontends/lean/CMakeFiles/lean_frontend.dir/notation_cmd.cpp.o\u001b[0m\n",
      "[ 54%] \u001b[32m\u001b[1mLinking CXX executable buffer\u001b[0m\n",
      "[ 54%] \u001b[32mBuilding CXX object library/tactic/CMakeFiles/tactic.dir/destruct_tactic.cpp.o\u001b[0m\n",
      "[ 54%] Built target buffer\n",
      "[ 54%] \u001b[32mBuilding CXX object tests/util/CMakeFiles/list.dir/list.cpp.o\u001b[0m\n"
     ]
    },
    {
     "name": "stderr",
     "output_type": "stream",
     "text": [
      "cc1plus: note: disable pass tree-ifcombine for functions in the range of [0, 4294967295]\n",
      "cc1plus: note: disable pass tree-ifcombine for functions in the range of [0, 4294967295]\n",
      "cc1plus: note: disable pass tree-ifcombine for functions in the range of [0, 4294967295]\n"
     ]
    },
    {
     "name": "stdout",
     "output_type": "stream",
     "text": [
      "[ 55%] \u001b[32mBuilding CXX object library/CMakeFiles/library.dir/unfold_macros.cpp.o\u001b[0m\n",
      "[ 55%] \u001b[32mBuilding CXX object library/CMakeFiles/library.dir/app_builder.cpp.o\u001b[0m\n",
      "[ 55%] \u001b[32m\u001b[1mLinking CXX executable leanchecker\u001b[0m\n"
     ]
    },
    {
     "name": "stderr",
     "output_type": "stream",
     "text": [
      "cc1plus: note: disable pass tree-ifcombine for functions in the range of [0, 4294967295]\n",
      "cc1plus: note: disable pass tree-ifcombine for functions in the range of [0, 4294967295]\n"
     ]
    },
    {
     "name": "stdout",
     "output_type": "stream",
     "text": [
      "[ 55%] Built target leanchecker\n",
      "[ 56%] \u001b[32mBuilding CXX object tests/util/CMakeFiles/scoped_set.dir/scoped_set.cpp.o\u001b[0m\n",
      "[ 57%] \u001b[32mBuilding CXX object library/tactic/CMakeFiles/tactic.dir/hole_command.cpp.o\u001b[0m\n",
      "[ 57%] \u001b[32mBuilding CXX object library/tactic/CMakeFiles/tactic.dir/elaborator_exception.cpp.o\u001b[0m\n"
     ]
    },
    {
     "name": "stderr",
     "output_type": "stream",
     "text": [
      "cc1plus: note: disable pass tree-ifcombine for functions in the range of [0, 4294967295]\n",
      "cc1plus: note: disable pass tree-ifcombine for functions in the range of [0, 4294967295]\n",
      "cc1plus: note: disable pass tree-ifcombine for functions in the range of [0, 4294967295]\n"
     ]
    },
    {
     "name": "stdout",
     "output_type": "stream",
     "text": [
      "[ 57%] \u001b[32m\u001b[1mLinking CXX executable list\u001b[0m\n",
      "[ 57%] \u001b[32mBuilding CXX object library/tactic/CMakeFiles/tactic.dir/algebraic_normalizer.cpp.o\u001b[0m\n",
      "[ 57%] \u001b[32mBuilding CXX object library/tactic/CMakeFiles/tactic.dir/tactic_evaluator.cpp.o\u001b[0m\n",
      "[ 57%] \u001b[32m\u001b[1mLinking CXX executable scoped_set\u001b[0m\n",
      "[ 57%] Built target list\n",
      "[ 57%] \u001b[32mBuilding CXX object tests/util/CMakeFiles/options.dir/options.cpp.o\u001b[0m\n",
      "[ 57%] \u001b[32mBuilding CXX object library/CMakeFiles/library.dir/projection.cpp.o\u001b[0m\n",
      "[ 57%] Built target scoped_set\n",
      "[ 57%] \u001b[32mBuilding CXX object library/CMakeFiles/library.dir/relation_manager.cpp.o\u001b[0m\n",
      "[ 57%] \u001b[32mBuilding CXX object tests/util/CMakeFiles/scoped_map.dir/scoped_map.cpp.o\u001b[0m\n"
     ]
    },
    {
     "name": "stderr",
     "output_type": "stream",
     "text": [
      "cc1plus: note: disable pass tree-ifcombine for functions in the range of [0, 4294967295]\n",
      "cc1plus: note: disable pass tree-ifcombine for functions in the range of [0, 4294967295]\n",
      "cc1plus: note: disable pass tree-ifcombine for functions in the range of [0, 4294967295]\n",
      "cc1plus: note: disable pass tree-ifcombine for functions in the range of [0, 4294967295]\n",
      "cc1plus: note: disable pass tree-ifcombine for functions in the range of [0, 4294967295]\n",
      "cc1plus: note: disable pass tree-ifcombine for functions in the range of [0, 4294967295]\n"
     ]
    },
    {
     "name": "stdout",
     "output_type": "stream",
     "text": [
      "[ 57%] \u001b[32mBuilding CXX object library/tactic/CMakeFiles/tactic.dir/vm_local_context.cpp.o\u001b[0m\n",
      "[ 58%] \u001b[32mBuilding CXX object library/vm/CMakeFiles/vm.dir/vm_pos_info.cpp.o\u001b[0m\n",
      "[ 58%] \u001b[32mBuilding CXX object library/tactic/CMakeFiles/tactic.dir/vm_type_context.cpp.o\u001b[0m\n",
      "[ 59%] \u001b[32m\u001b[1mLinking CXX executable options\u001b[0m\n"
     ]
    },
    {
     "name": "stderr",
     "output_type": "stream",
     "text": [
      "cc1plus: note: disable pass tree-ifcombine for functions in the range of [0, 4294967295]\n",
      "/tmp/tmphu0190g5/workspace/lean-liquid/_target/deps/lean/src/frontends/lean/notation_cmd.cpp: In function ‘lean::pair<lean::notation_entry, lean::optional<lean::token_entry> > lean::parse_mixfix_notation(lean::parser&, lean::ast_data&, lean::mixfix_kind, bool, lean::notation_entry_group, bool, unsigned int)’:\n",
      "/tmp/tmphu0190g5/workspace/lean-liquid/_target/deps/lean/src/frontends/lean/notation_cmd.cpp:206:26: warning: ‘*(unsigned int*)((char*)&prec + offsetof(lean::optional<unsigned int>,lean::optional<unsigned int>::<unnamed>))’ may be used uninitialized in this function [-Wmaybe-uninitialized]\n",
      "  206 |             prec = *prec - 1;\n",
      "      |                    ~~~~~~^~~\n",
      "cc1plus: note: disable pass tree-ifcombine for functions in the range of [0, 4294967295]\n",
      "cc1plus: note: disable pass tree-ifcombine for functions in the range of [0, 4294967295]\n"
     ]
    },
    {
     "name": "stdout",
     "output_type": "stream",
     "text": [
      "[ 59%] \u001b[32mBuilding CXX object library/vm/CMakeFiles/vm.dir/vm_float.cpp.o\u001b[0m\n",
      "[ 59%] Built target options\n",
      "[ 59%] \u001b[32mBuilding CXX object tests/util/CMakeFiles/rb_tree.dir/rb_tree.cpp.o\u001b[0m\n",
      "[ 59%] \u001b[32m\u001b[1mLinking CXX executable scoped_map\u001b[0m\n",
      "[ 59%] \u001b[32mBuilding CXX object tests/util/CMakeFiles/rb_map.dir/rb_map.cpp.o\u001b[0m\n",
      "[ 59%] Built target scoped_map\n"
     ]
    },
    {
     "name": "stderr",
     "output_type": "stream",
     "text": [
      "cc1plus: note: disable pass tree-ifcombine for functions in the range of [0, 4294967295]\n",
      "cc1plus: note: disable pass tree-ifcombine for functions in the range of [0, 4294967295]\n",
      "cc1plus: note: disable pass tree-ifcombine for functions in the range of [0, 4294967295]\n"
     ]
    },
    {
     "name": "stdout",
     "output_type": "stream",
     "text": [
      "[ 60%] \u001b[32mBuilding CXX object tests/util/CMakeFiles/exception.dir/exception.cpp.o\u001b[0m\n",
      "[ 61%] \u001b[32mBuilding CXX object library/CMakeFiles/library.dir/export.cpp.o\u001b[0m\n",
      "[ 61%] \u001b[32mBuilding CXX object frontends/lean/CMakeFiles/lean_frontend.dir/calc.cpp.o\u001b[0m\n",
      "[ 61%] \u001b[32mBuilding CXX object library/vm/CMakeFiles/vm.dir/vm_module_info.cpp.o\u001b[0m\n",
      "[ 61%] \u001b[32mBuilding CXX object frontends/lean/CMakeFiles/lean_frontend.dir/decl_cmds.cpp.o\u001b[0m\n"
     ]
    },
    {
     "name": "stderr",
     "output_type": "stream",
     "text": [
      "cc1plus: note: disable pass tree-ifcombine for functions in the range of [0, 4294967295]\n",
      "cc1plus: note: disable pass tree-ifcombine for functions in the range of [0, 4294967295]\n",
      "cc1plus: note: disable pass tree-ifcombine for functions in the range of [0, 4294967295]\n",
      "cc1plus: note: disable pass tree-ifcombine for functions in the range of [0, 4294967295]\n",
      "cc1plus: note: disable pass tree-ifcombine for functions in the range of [0, 4294967295]\n",
      "/tmp/tmphu0190g5/workspace/lean-liquid/_target/deps/lean/src/library/relation_manager.cpp: In member function ‘void lean::rel_state::register_rop(const lean::environment&, const lean::name&)’:\n",
      "/tmp/tmphu0190g5/workspace/lean-liquid/_target/deps/lean/src/library/relation_manager.cpp:83:28: warning: ‘*(unsigned int*)((char*)&rhs_pos + offsetof(lean::optional<unsigned int>,lean::optional<unsigned int>::<unnamed>))’ may be used uninitialized in this function [-Wmaybe-uninitialized]\n",
      "   83 |         optional<unsigned> rhs_pos;\n",
      "      |                            ^~~~~~~\n",
      "cc1plus: note: disable pass tree-ifcombine for functions in the range of [0, 4294967295]\n",
      "cc1plus: note: disable pass tree-ifcombine for functions in the range of [0, 4294967295]\n",
      "cc1plus: note: disable pass tree-ifcombine for functions in the range of [0, 4294967295]\n"
     ]
    },
    {
     "name": "stdout",
     "output_type": "stream",
     "text": [
      "[ 62%] \u001b[32mBuilding CXX object library/vm/CMakeFiles/vm.dir/vm_override.cpp.o\u001b[0m\n",
      "[ 63%] \u001b[32m\u001b[1mLinking CXX executable rb_map\u001b[0m\n",
      "[ 63%] Built target rb_map\n",
      "[ 63%] \u001b[32mBuilding CXX object tests/util/CMakeFiles/bit_tricks.dir/bit_tricks.cpp.o\u001b[0m\n",
      "[ 63%] \u001b[32m\u001b[1mLinking CXX executable exception\u001b[0m\n",
      "[ 63%] \u001b[32mBuilding CXX object library/CMakeFiles/library.dir/user_recursors.cpp.o\u001b[0m\n",
      "[ 63%] Built target exception\n",
      "[ 63%] \u001b[32mBuilding CXX object tests/util/CMakeFiles/hash.dir/hash.cpp.o\u001b[0m\n",
      "[ 63%] \u001b[32mBuilding CXX object tests/util/CMakeFiles/safe_arith.dir/safe_arith.cpp.o\u001b[0m\n"
     ]
    },
    {
     "name": "stderr",
     "output_type": "stream",
     "text": [
      "cc1plus: note: disable pass tree-ifcombine for functions in the range of [0, 4294967295]\n",
      "cc1plus: note: disable pass tree-ifcombine for functions in the range of [0, 4294967295]\n",
      "cc1plus: note: disable pass tree-ifcombine for functions in the range of [0, 4294967295]\n",
      "cc1plus: note: disable pass tree-ifcombine for functions in the range of [0, 4294967295]\n",
      "cc1plus: note: disable pass tree-ifcombine for functions in the range of [0, 4294967295]\n",
      "cc1plus: note: disable pass tree-ifcombine for functions in the range of [0, 4294967295]\n"
     ]
    },
    {
     "name": "stdout",
     "output_type": "stream",
     "text": [
      "[ 64%] \u001b[32mBuilding CXX object frontends/lean/CMakeFiles/lean_frontend.dir/util.cpp.o\u001b[0m\n",
      "[ 65%] \u001b[32m\u001b[1mLinking CXX executable bit_tricks\u001b[0m\n",
      "[ 65%] \u001b[32mBuilding CXX object library/vm/CMakeFiles/vm.dir/vm_eformat.cpp.o\u001b[0m\n",
      "[ 65%] \u001b[32m\u001b[1mLinking CXX executable hash\u001b[0m\n",
      "[ 65%] Built target bit_tricks\n",
      "[ 65%] \u001b[32mBuilding CXX object tests/util/CMakeFiles/set.dir/set.cpp.o\u001b[0m\n",
      "[ 65%] Built target hash\n",
      "[ 65%] \u001b[32mBuilding CXX object frontends/lean/CMakeFiles/lean_frontend.dir/inductive_cmds.cpp.o\u001b[0m\n",
      "[ 65%] \u001b[32m\u001b[1mLinking CXX executable safe_arith\u001b[0m\n",
      "[ 65%] \u001b[32m\u001b[1mLinking CXX executable rb_tree\u001b[0m\n",
      "[ 65%] Built target safe_arith\n",
      "[ 65%] \u001b[32mBuilding CXX object tests/util/CMakeFiles/optional.dir/optional.cpp.o\u001b[0m\n",
      "[ 65%] Built target rb_tree\n",
      "[ 65%] \u001b[32mBuilding CXX object tests/util/CMakeFiles/stackinfo.dir/stackinfo.cpp.o\u001b[0m\n",
      "[ 65%] \u001b[32m\u001b[1mLinking CXX executable set\u001b[0m\n",
      "[ 65%] \u001b[32mBuilding CXX object library/CMakeFiles/library.dir/idx_metavar.cpp.o\u001b[0m\n",
      "[ 65%] \u001b[32mBuilding CXX object library/vm/CMakeFiles/vm.dir/vm_json.cpp.o\u001b[0m\n",
      "[ 66%] \u001b[32mBuilding CXX object tests/util/CMakeFiles/serializer.dir/serializer.cpp.o\u001b[0m\n",
      "[ 66%] \u001b[32mBuilding CXX object frontends/lean/CMakeFiles/lean_frontend.dir/dependencies.cpp.o\u001b[0m\n",
      "[ 66%] Built target set\n",
      "[ 66%] \u001b[32mBuilding CXX object tests/util/CMakeFiles/trie.dir/trie.cpp.o\u001b[0m\n",
      "[ 66%] \u001b[32m\u001b[1mLinking CXX executable optional\u001b[0m\n",
      "[ 67%] \u001b[32m\u001b[1mLinking CXX executable stackinfo\u001b[0m\n"
     ]
    },
    {
     "name": "stderr",
     "output_type": "stream",
     "text": [
      "cc1plus: note: disable pass tree-ifcombine for functions in the range of [0, 4294967295]\n",
      "cc1plus: note: disable pass tree-ifcombine for functions in the range of [0, 4294967295]\n",
      "cc1plus: note: disable pass tree-ifcombine for functions in the range of [0, 4294967295]\n",
      "cc1plus: note: disable pass tree-ifcombine for functions in the range of [0, 4294967295]\n",
      "cc1plus: note: disable pass tree-ifcombine for functions in the range of [0, 4294967295]\n",
      "cc1plus: note: disable pass tree-ifcombine for functions in the range of [0, 4294967295]\n",
      "cc1plus: note: disable pass tree-ifcombine for functions in the range of [0, 4294967295]\n"
     ]
    },
    {
     "name": "stdout",
     "output_type": "stream",
     "text": [
      "[ 67%] Built target optional\n",
      "[ 68%] \u001b[32mBuilding CXX object tests/util/CMakeFiles/lru_cache.dir/lru_cache.cpp.o\u001b[0m\n",
      "[ 68%] Built target stackinfo\n",
      "[ 68%] \u001b[32mBuilding CXX object tests/util/CMakeFiles/worker_queue.dir/worker_queue.cpp.o\u001b[0m\n",
      "[ 68%] \u001b[32mBuilding CXX object frontends/lean/CMakeFiles/lean_frontend.dir/pp.cpp.o\u001b[0m\n"
     ]
    },
    {
     "name": "stderr",
     "output_type": "stream",
     "text": [
      "cc1plus: note: disable pass tree-ifcombine for functions in the range of [0, 4294967295]\n",
      "cc1plus: note: disable pass tree-ifcombine for functions in the range of [0, 4294967295]\n",
      "cc1plus: note: disable pass tree-ifcombine for functions in the range of [0, 4294967295]\n"
     ]
    },
    {
     "name": "stdout",
     "output_type": "stream",
     "text": [
      "[ 68%] Built target tactic\n",
      "[ 68%] \u001b[32mBuilding CXX object tests/util/CMakeFiles/thread.dir/thread.cpp.o\u001b[0m\n",
      "[ 68%] \u001b[32m\u001b[1mLinking CXX executable lru_cache\u001b[0m\n",
      "[ 68%] \u001b[32mBuilding CXX object library/CMakeFiles/library.dir/noncomputable.cpp.o\u001b[0m\n",
      "[ 69%] \u001b[32mBuilding CXX object frontends/lean/CMakeFiles/lean_frontend.dir/structure_cmd.cpp.o\u001b[0m\n",
      "[ 70%] \u001b[32m\u001b[1mLinking CXX executable worker_queue\u001b[0m\n"
     ]
    },
    {
     "name": "stderr",
     "output_type": "stream",
     "text": [
      "cc1plus: note: disable pass tree-ifcombine for functions in the range of [0, 4294967295]\n",
      "cc1plus: note: disable pass tree-ifcombine for functions in the range of [0, 4294967295]\n",
      "cc1plus: note: disable pass tree-ifcombine for functions in the range of [0, 4294967295]\n"
     ]
    },
    {
     "name": "stdout",
     "output_type": "stream",
     "text": [
      "[ 70%] Built target lru_cache\n",
      "[ 70%] \u001b[32mBuilding CXX object tests/util/CMakeFiles/bitap_fuzzy_search.dir/bitap_fuzzy_search.cpp.o\u001b[0m\n",
      "[ 71%] \u001b[32mBuilding CXX object library/CMakeFiles/library.dir/aux_recursors.cpp.o\u001b[0m\n",
      "[ 71%] Built target worker_queue\n",
      "[ 71%] \u001b[32mBuilding CXX object library/CMakeFiles/library.dir/trace.cpp.o\u001b[0m\n",
      "[ 71%] \u001b[32m\u001b[1mLinking CXX executable serializer\u001b[0m\n",
      "[ 71%] \u001b[32mBuilding CXX object library/CMakeFiles/library.dir/attribute_manager.cpp.o\u001b[0m\n",
      "[ 71%] Built target serializer\n",
      "[ 72%] \u001b[32mBuilding CXX object tests/util/numerics/CMakeFiles/mpq.dir/mpq.cpp.o\u001b[0m\n",
      "[ 72%] \u001b[32m\u001b[1mLinking CXX executable thread\u001b[0m\n",
      "[ 72%] \u001b[32m\u001b[1mLinking CXX executable bitap_fuzzy_search\u001b[0m\n"
     ]
    },
    {
     "name": "stderr",
     "output_type": "stream",
     "text": [
      "cc1plus: note: disable pass tree-ifcombine for functions in the range of [0, 4294967295]\n",
      "cc1plus: note: disable pass tree-ifcombine for functions in the range of [0, 4294967295]\n",
      "cc1plus: note: disable pass tree-ifcombine for functions in the range of [0, 4294967295]\n",
      "cc1plus: note: disable pass tree-ifcombine for functions in the range of [0, 4294967295]\n",
      "cc1plus: note: disable pass tree-ifcombine for functions in the range of [0, 4294967295]\n"
     ]
    },
    {
     "name": "stdout",
     "output_type": "stream",
     "text": [
      "[ 73%] \u001b[32m\u001b[1mLinking CXX executable trie\u001b[0m\n",
      "[ 73%] Built target thread\n",
      "[ 73%] \u001b[32mBuilding CXX object tests/util/numerics/CMakeFiles/mpz.dir/mpz.cpp.o\u001b[0m\n",
      "[ 73%] Built target bitap_fuzzy_search\n",
      "[ 73%] \u001b[32mBuilding CXX object frontends/lean/CMakeFiles/lean_frontend.dir/structure_instance.cpp.o\u001b[0m\n",
      "[ 73%] Built target trie\n",
      "[ 73%] \u001b[32mBuilding CXX object frontends/lean/CMakeFiles/lean_frontend.dir/init_module.cpp.o\u001b[0m\n",
      "[ 73%] \u001b[32mBuilding CXX object frontends/lean/CMakeFiles/lean_frontend.dir/type_util.cpp.o\u001b[0m\n"
     ]
    },
    {
     "name": "stderr",
     "output_type": "stream",
     "text": [
      "cc1plus: note: disable pass tree-ifcombine for functions in the range of [0, 4294967295]\n",
      "cc1plus: note: disable pass tree-ifcombine for functions in the range of [0, 4294967295]\n",
      "cc1plus: note: disable pass tree-ifcombine for functions in the range of [0, 4294967295]\n",
      "cc1plus: note: disable pass tree-ifcombine for functions in the range of [0, 4294967295]\n"
     ]
    },
    {
     "name": "stdout",
     "output_type": "stream",
     "text": [
      "[ 74%] \u001b[32mBuilding CXX object frontends/lean/CMakeFiles/lean_frontend.dir/decl_attributes.cpp.o\u001b[0m\n",
      "[ 74%] \u001b[32m\u001b[1mLinking CXX executable mpq\u001b[0m\n",
      "[ 74%] Built target vm\n",
      "[ 74%] \u001b[32mBuilding CXX object frontends/lean/CMakeFiles/lean_frontend.dir/prenum.cpp.o\u001b[0m\n",
      "[ 74%] Built target mpq\n",
      "[ 74%] \u001b[32mBuilding CXX object frontends/lean/CMakeFiles/lean_frontend.dir/print_cmd.cpp.o\u001b[0m\n",
      "[ 74%] \u001b[32m\u001b[1mLinking CXX executable mpz\u001b[0m\n",
      "[ 74%] \u001b[32mBuilding CXX object library/CMakeFiles/library.dir/unification_hint.cpp.o\u001b[0m\n"
     ]
    },
    {
     "name": "stderr",
     "output_type": "stream",
     "text": [
      "cc1plus: note: disable pass tree-ifcombine for functions in the range of [0, 4294967295]\n",
      "cc1plus: note: disable pass tree-ifcombine for functions in the range of [0, 4294967295]\n",
      "cc1plus: note: disable pass tree-ifcombine for functions in the range of [0, 4294967295]\n",
      "cc1plus: note: disable pass tree-ifcombine for functions in the range of [0, 4294967295]\n"
     ]
    },
    {
     "name": "stdout",
     "output_type": "stream",
     "text": [
      "[ 74%] Built target mpz\n",
      "[ 74%] \u001b[32mBuilding CXX object library/CMakeFiles/library.dir/local_context.cpp.o\u001b[0m\n",
      "[ 75%] \u001b[32mBuilding CXX object library/CMakeFiles/library.dir/metavar_context.cpp.o\u001b[0m\n"
     ]
    },
    {
     "name": "stderr",
     "output_type": "stream",
     "text": [
      "cc1plus: note: disable pass tree-ifcombine for functions in the range of [0, 4294967295]\n",
      "cc1plus: note: disable pass tree-ifcombine for functions in the range of [0, 4294967295]\n"
     ]
    },
    {
     "name": "stdout",
     "output_type": "stream",
     "text": [
      "[ 75%] \u001b[32mBuilding CXX object frontends/lean/CMakeFiles/lean_frontend.dir/elaborator.cpp.o\u001b[0m\n",
      "[ 75%] \u001b[32mBuilding CXX object frontends/lean/CMakeFiles/lean_frontend.dir/match_expr.cpp.o\u001b[0m\n",
      "[ 76%] \u001b[32mBuilding CXX object frontends/lean/CMakeFiles/lean_frontend.dir/local_context_adapter.cpp.o\u001b[0m\n"
     ]
    },
    {
     "name": "stderr",
     "output_type": "stream",
     "text": [
      "cc1plus: note: disable pass tree-ifcombine for functions in the range of [0, 4294967295]\n",
      "cc1plus: note: disable pass tree-ifcombine for functions in the range of [0, 4294967295]\n",
      "cc1plus: note: disable pass tree-ifcombine for functions in the range of [0, 4294967295]\n"
     ]
    },
    {
     "name": "stdout",
     "output_type": "stream",
     "text": [
      "[ 76%] \u001b[32mBuilding CXX object library/CMakeFiles/library.dir/type_context.cpp.o\u001b[0m\n",
      "[ 76%] \u001b[32mBuilding CXX object frontends/lean/CMakeFiles/lean_frontend.dir/decl_util.cpp.o\u001b[0m\n",
      "[ 76%] \u001b[32mBuilding CXX object library/CMakeFiles/library.dir/export_decl.cpp.o\u001b[0m\n"
     ]
    },
    {
     "name": "stderr",
     "output_type": "stream",
     "text": [
      "cc1plus: note: disable pass tree-ifcombine for functions in the range of [0, 4294967295]\n",
      "cc1plus: note: disable pass tree-ifcombine for functions in the range of [0, 4294967295]\n",
      "/tmp/tmphu0190g5/workspace/lean-liquid/_target/deps/lean/src/frontends/lean/structure_cmd.cpp: In function ‘lean::optional<std::pair<lean::name, lean::name> > lean::find_method_alias(const lean::environment&, const lean::name&, const lean::name&)’:\n",
      "/tmp/tmphu0190g5/workspace/lean-liquid/_target/deps/lean/src/frontends/lean/structure_cmd.cpp:193:32: warning: ‘((lean::name*)((char*)&res + offsetof(lean::optional<std::pair<lean::name, lean::name> >,lean::optional<std::pair<lean::name, lean::name> >::<unnamed>)))[1].lean::name::m_ptr’ may be used uninitialized in this function [-Wmaybe-uninitialized]\n",
      "  193 |     optional<pair<name, name>> res = {};\n",
      "      |                                ^~~\n",
      "/tmp/tmphu0190g5/workspace/lean-liquid/_target/deps/lean/src/frontends/lean/structure_cmd.cpp:193:32: warning: ‘*(lean::name*)((char*)&res + offsetof(lean::optional<std::pair<lean::name, lean::name> >,lean::optional<std::pair<lean::name, lean::name> >::<unnamed>)).lean::name::m_ptr’ may be used uninitialized in this function [-Wmaybe-uninitialized]\n",
      "cc1plus: note: disable pass tree-ifcombine for functions in the range of [0, 4294967295]\n"
     ]
    },
    {
     "name": "stdout",
     "output_type": "stream",
     "text": [
      "[ 76%] \u001b[32mBuilding CXX object frontends/lean/CMakeFiles/lean_frontend.dir/definition_cmds.cpp.o\u001b[0m\n",
      "[ 76%] \u001b[32mBuilding CXX object frontends/lean/CMakeFiles/lean_frontend.dir/brackets.cpp.o\u001b[0m\n",
      "[ 77%] \u001b[32mBuilding CXX object frontends/lean/CMakeFiles/lean_frontend.dir/tactic_notation.cpp.o\u001b[0m\n"
     ]
    },
    {
     "name": "stderr",
     "output_type": "stream",
     "text": [
      "cc1plus: note: disable pass tree-ifcombine for functions in the range of [0, 4294967295]\n",
      "cc1plus: note: disable pass tree-ifcombine for functions in the range of [0, 4294967295]\n",
      "cc1plus: note: disable pass tree-ifcombine for functions in the range of [0, 4294967295]\n"
     ]
    },
    {
     "name": "stdout",
     "output_type": "stream",
     "text": [
      "[ 77%] \u001b[32mBuilding CXX object frontends/lean/CMakeFiles/lean_frontend.dir/info_manager.cpp.o\u001b[0m\n"
     ]
    },
    {
     "name": "stderr",
     "output_type": "stream",
     "text": [
      "cc1plus: note: disable pass tree-ifcombine for functions in the range of [0, 4294967295]\n",
      "In file included from /tmp/tmphu0190g5/workspace/lean-liquid/_target/deps/lean/src/kernel/expr.h:16,\n",
      "                 from /tmp/tmphu0190g5/workspace/lean-liquid/_target/deps/lean/src/kernel/expr_maps.h:10,\n",
      "                 from /tmp/tmphu0190g5/workspace/lean-liquid/_target/deps/lean/src/library/replace_visitor.h:8,\n",
      "                 from /tmp/tmphu0190g5/workspace/lean-liquid/_target/deps/lean/src/frontends/lean/structure_cmd.cpp:12:\n",
      "/tmp/tmphu0190g5/workspace/lean-liquid/_target/deps/lean/src/util/name.h: In member function ‘void lean::structure_cmd_fn::parse_extends()’:\n",
      "/tmp/tmphu0190g5/workspace/lean-liquid/_target/deps/lean/src/util/name.h:87:40: warning: ‘*(lean::name*)((char*)&q + offsetof(lean::optional<lean::name>,lean::optional<lean::name>::<unnamed>)).lean::name::m_ptr’ may be used uninitialized in this function [-Wmaybe-uninitialized]\n",
      "   87 |     ~name() { if (m_ptr) m_ptr->dec_ref(); }\n",
      "      |                          ~~~~~~~~~~~~~~^~\n",
      "/tmp/tmphu0190g5/workspace/lean-liquid/_target/deps/lean/src/frontends/lean/structure_cmd.cpp:426:45: note: ‘*(lean::name*)((char*)&q + offsetof(lean::optional<lean::name>,lean::optional<lean::name>::<unnamed>)).lean::name::m_ptr’ was declared here\n",
      "  426 |                 ast_id q_id; optional<name> q; expr parent;\n",
      "      |                                             ^\n"
     ]
    },
    {
     "name": "stdout",
     "output_type": "stream",
     "text": [
      "[ 77%] \u001b[32mBuilding CXX object library/CMakeFiles/library.dir/delayed_abstraction.cpp.o\u001b[0m\n",
      "[ 77%] \u001b[32mBuilding CXX object frontends/lean/CMakeFiles/lean_frontend.dir/json.cpp.o\u001b[0m\n",
      "[ 78%] \u001b[32mBuilding CXX object library/CMakeFiles/library.dir/fun_info.cpp.o\u001b[0m\n"
     ]
    },
    {
     "name": "stderr",
     "output_type": "stream",
     "text": [
      "cc1plus: note: disable pass tree-ifcombine for functions in the range of [0, 4294967295]\n",
      "cc1plus: note: disable pass tree-ifcombine for functions in the range of [0, 4294967295]\n",
      "cc1plus: note: disable pass tree-ifcombine for functions in the range of [0, 4294967295]\n"
     ]
    },
    {
     "name": "stdout",
     "output_type": "stream",
     "text": [
      "[ 78%] \u001b[32mBuilding CXX object library/CMakeFiles/library.dir/congr_lemma.cpp.o\u001b[0m\n",
      "[ 78%] \u001b[32mBuilding CXX object frontends/lean/CMakeFiles/lean_frontend.dir/module_parser.cpp.o\u001b[0m\n",
      "[ 79%] \u001b[32mBuilding CXX object frontends/lean/CMakeFiles/lean_frontend.dir/interactive.cpp.o\u001b[0m\n",
      "[ 79%] \u001b[32mBuilding CXX object library/CMakeFiles/library.dir/defeq_canonizer.cpp.o\u001b[0m\n"
     ]
    },
    {
     "name": "stderr",
     "output_type": "stream",
     "text": [
      "cc1plus: note: disable pass tree-ifcombine for functions in the range of [0, 4294967295]\n",
      "cc1plus: note: disable pass tree-ifcombine for functions in the range of [0, 4294967295]\n",
      "cc1plus: note: disable pass tree-ifcombine for functions in the range of [0, 4294967295]\n",
      "cc1plus: note: disable pass tree-ifcombine for functions in the range of [0, 4294967295]\n"
     ]
    },
    {
     "name": "stdout",
     "output_type": "stream",
     "text": [
      "[ 79%] \u001b[32mBuilding CXX object frontends/lean/CMakeFiles/lean_frontend.dir/completion.cpp.o\u001b[0m\n"
     ]
    },
    {
     "name": "stderr",
     "output_type": "stream",
     "text": [
      "cc1plus: note: disable pass tree-ifcombine for functions in the range of [0, 4294967295]\n"
     ]
    },
    {
     "name": "stdout",
     "output_type": "stream",
     "text": [
      "[ 79%] \u001b[32mBuilding CXX object library/CMakeFiles/library.dir/replace_visitor_with_tc.cpp.o\u001b[0m\n",
      "[ 80%] \u001b[32mBuilding CXX object library/CMakeFiles/library.dir/aux_definition.cpp.o\u001b[0m\n",
      "[ 80%] \u001b[32mBuilding CXX object frontends/lean/CMakeFiles/lean_frontend.dir/user_notation.cpp.o\u001b[0m\n"
     ]
    },
    {
     "name": "stderr",
     "output_type": "stream",
     "text": [
      "cc1plus: note: disable pass tree-ifcombine for functions in the range of [0, 4294967295]\n",
      "cc1plus: note: disable pass tree-ifcombine for functions in the range of [0, 4294967295]\n",
      "cc1plus: note: disable pass tree-ifcombine for functions in the range of [0, 4294967295]\n"
     ]
    },
    {
     "name": "stdout",
     "output_type": "stream",
     "text": [
      "[ 80%] \u001b[32mBuilding CXX object library/CMakeFiles/library.dir/inverse.cpp.o\u001b[0m\n",
      "[ 80%] \u001b[32mBuilding CXX object frontends/lean/CMakeFiles/lean_frontend.dir/user_command.cpp.o\u001b[0m\n"
     ]
    },
    {
     "name": "stderr",
     "output_type": "stream",
     "text": [
      "cc1plus: note: disable pass tree-ifcombine for functions in the range of [0, 4294967295]\n",
      "cc1plus: note: disable pass tree-ifcombine for functions in the range of [0, 4294967295]\n"
     ]
    },
    {
     "name": "stdout",
     "output_type": "stream",
     "text": [
      "[ 80%] \u001b[32mBuilding CXX object library/CMakeFiles/library.dir/pattern_attribute.cpp.o\u001b[0m\n",
      "[ 81%] \u001b[32mBuilding CXX object frontends/lean/CMakeFiles/lean_frontend.dir/widget.cpp.o\u001b[0m\n",
      "[ 81%] \u001b[32mBuilding CXX object library/CMakeFiles/library.dir/choice.cpp.o\u001b[0m\n"
     ]
    },
    {
     "name": "stderr",
     "output_type": "stream",
     "text": [
      "cc1plus: note: disable pass tree-ifcombine for functions in the range of [0, 4294967295]\n",
      "cc1plus: note: disable pass tree-ifcombine for functions in the range of [0, 4294967295]\n",
      "cc1plus: note: disable pass tree-ifcombine for functions in the range of [0, 4294967295]\n"
     ]
    },
    {
     "name": "stdout",
     "output_type": "stream",
     "text": [
      "[ 82%] \u001b[32mBuilding CXX object library/CMakeFiles/library.dir/locals.cpp.o\u001b[0m\n",
      "[ 82%] \u001b[32mBuilding CXX object library/CMakeFiles/library.dir/normalize.cpp.o\u001b[0m\n"
     ]
    },
    {
     "name": "stderr",
     "output_type": "stream",
     "text": [
      "cc1plus: note: disable pass tree-ifcombine for functions in the range of [0, 4294967295]\n",
      "cc1plus: note: disable pass tree-ifcombine for functions in the range of [0, 4294967295]\n"
     ]
    },
    {
     "name": "stdout",
     "output_type": "stream",
     "text": [
      "[ 82%] \u001b[32mBuilding CXX object library/CMakeFiles/library.dir/discr_tree.cpp.o\u001b[0m\n",
      "[ 82%] \u001b[32mBuilding CXX object library/CMakeFiles/library.dir/mt_task_queue.cpp.o\u001b[0m\n",
      "[ 83%] \u001b[32mBuilding CXX object library/CMakeFiles/library.dir/st_task_queue.cpp.o\u001b[0m\n",
      "[ 83%] \u001b[32mBuilding CXX object library/CMakeFiles/library.dir/library_task_builder.cpp.o\u001b[0m\n"
     ]
    },
    {
     "name": "stderr",
     "output_type": "stream",
     "text": [
      "cc1plus: note: disable pass tree-ifcombine for functions in the range of [0, 4294967295]\n",
      "cc1plus: note: disable pass tree-ifcombine for functions in the range of [0, 4294967295]\n",
      "cc1plus: note: disable pass tree-ifcombine for functions in the range of [0, 4294967295]\n",
      "cc1plus: note: disable pass tree-ifcombine for functions in the range of [0, 4294967295]\n"
     ]
    },
    {
     "name": "stdout",
     "output_type": "stream",
     "text": [
      "[ 83%] \u001b[32mBuilding CXX object library/CMakeFiles/library.dir/eval_helper.cpp.o\u001b[0m\n",
      "[ 83%] \u001b[32mBuilding CXX object library/CMakeFiles/library.dir/feature_search.cpp.o\u001b[0m\n",
      "[ 83%] \u001b[32mBuilding CXX object library/CMakeFiles/library.dir/messages.cpp.o\u001b[0m\n"
     ]
    },
    {
     "name": "stderr",
     "output_type": "stream",
     "text": [
      "cc1plus: note: disable pass tree-ifcombine for functions in the range of [0, 4294967295]\n",
      "cc1plus: note: disable pass tree-ifcombine for functions in the range of [0, 4294967295]\n",
      "cc1plus: note: disable pass tree-ifcombine for functions in the range of [0, 4294967295]\n"
     ]
    },
    {
     "name": "stdout",
     "output_type": "stream",
     "text": [
      "[ 84%] \u001b[32mBuilding CXX object library/CMakeFiles/library.dir/message_builder.cpp.o\u001b[0m\n",
      "[ 84%] \u001b[32mBuilding CXX object library/CMakeFiles/library.dir/module_mgr.cpp.o\u001b[0m\n",
      "[ 84%] \u001b[32mBuilding CXX object library/CMakeFiles/library.dir/comp_val.cpp.o\u001b[0m\n"
     ]
    },
    {
     "name": "stderr",
     "output_type": "stream",
     "text": [
      "cc1plus: note: disable pass tree-ifcombine for functions in the range of [0, 4294967295]\n",
      "cc1plus: note: disable pass tree-ifcombine for functions in the range of [0, 4294967295]\n",
      "cc1plus: note: disable pass tree-ifcombine for functions in the range of [0, 4294967295]\n"
     ]
    },
    {
     "name": "stdout",
     "output_type": "stream",
     "text": [
      "[ 84%] \u001b[32mBuilding CXX object library/CMakeFiles/library.dir/documentation.cpp.o\u001b[0m\n",
      "[ 85%] \u001b[32mBuilding CXX object library/CMakeFiles/library.dir/check.cpp.o\u001b[0m\n",
      "[ 85%] \u001b[32mBuilding CXX object library/CMakeFiles/library.dir/parray.cpp.o\u001b[0m\n"
     ]
    },
    {
     "name": "stderr",
     "output_type": "stream",
     "text": [
      "cc1plus: note: disable pass tree-ifcombine for functions in the range of [0, 4294967295]\n",
      "cc1plus: note: disable pass tree-ifcombine for functions in the range of [0, 4294967295]\n",
      "In file included from /tmp/tmphu0190g5/workspace/lean-liquid/_target/deps/lean/src/frontends/lean/widget.cpp:19:\n",
      "/tmp/tmphu0190g5/workspace/lean-liquid/_target/deps/lean/src/frontends/lean/widget.h: In function ‘lean::vdom lean::render_element(const lean::vm_obj&, std::vector<lean::component_instance*>&, lean::event_handlers&, const lean::list<unsigned int>&)’:\n",
      "/tmp/tmphu0190g5/workspace/lean-liquid/_target/deps/lean/src/frontends/lean/widget.h:55:37: warning: ‘*(lean::vdom*)((char*)&tooltip + offsetof(lean::optional<lean::vdom>,lean::optional<lean::vdom>::<unnamed>)).lean::vdom::m_ptr’ may be used uninitialized in this function [-Wmaybe-uninitialized]\n",
      "   55 |   ~vdom() {if (m_ptr) m_ptr->dec_ref(); }\n",
      "      |                       ~~~~~~~~~~~~~~^~\n",
      "/tmp/tmphu0190g5/workspace/lean-liquid/_target/deps/lean/src/frontends/lean/widget.cpp:424:20: note: ‘*(lean::vdom*)((char*)&tooltip + offsetof(lean::optional<lean::vdom>,lean::optional<lean::vdom>::<unnamed>)).lean::vdom::m_ptr’ was declared here\n",
      "  424 |     optional<vdom> tooltip;\n",
      "      |                    ^~~~~~~\n",
      "cc1plus: note: disable pass tree-ifcombine for functions in the range of [0, 4294967295]\n"
     ]
    },
    {
     "name": "stdout",
     "output_type": "stream",
     "text": [
      "[ 85%] \u001b[32mBuilding CXX object library/CMakeFiles/library.dir/process.cpp.o\u001b[0m\n",
      "[ 85%] \u001b[32mBuilding CXX object library/CMakeFiles/library.dir/pipe.cpp.o\u001b[0m\n",
      "[ 86%] \u001b[32mBuilding CXX object library/CMakeFiles/library.dir/handle.cpp.o\u001b[0m\n",
      "[ 86%] \u001b[32mBuilding CXX object library/CMakeFiles/library.dir/profiling.cpp.o\u001b[0m\n"
     ]
    },
    {
     "name": "stderr",
     "output_type": "stream",
     "text": [
      "cc1plus: note: disable pass tree-ifcombine for functions in the range of [0, 4294967295]\n",
      "cc1plus: note: disable pass tree-ifcombine for functions in the range of [0, 4294967295]\n",
      "cc1plus: note: disable pass tree-ifcombine for functions in the range of [0, 4294967295]\n",
      "cc1plus: note: disable pass tree-ifcombine for functions in the range of [0, 4294967295]\n"
     ]
    },
    {
     "name": "stdout",
     "output_type": "stream",
     "text": [
      "[ 86%] \u001b[32mBuilding CXX object library/CMakeFiles/library.dir/time_task.cpp.o\u001b[0m\n",
      "[ 87%] \u001b[32mBuilding CXX object library/CMakeFiles/library.dir/abstract_context_cache.cpp.o\u001b[0m\n",
      "[ 87%] \u001b[32mBuilding CXX object library/CMakeFiles/library.dir/context_cache.cpp.o\u001b[0m\n",
      "[ 87%] \u001b[32mBuilding CXX object library/CMakeFiles/library.dir/unique_id.cpp.o\u001b[0m\n",
      "[ 87%] \u001b[32mBuilding CXX object library/CMakeFiles/library.dir/persistent_context_cache.cpp.o\u001b[0m\n",
      "[ 87%] \u001b[32mBuilding CXX object library/CMakeFiles/library.dir/elab_context.cpp.o\u001b[0m\n",
      "[ 87%] \u001b[32mBuilding CXX object library/CMakeFiles/library.dir/expr_address.cpp.o\u001b[0m\n"
     ]
    },
    {
     "name": "stderr",
     "output_type": "stream",
     "text": [
      "cc1plus: note: disable pass tree-ifcombine for functions in the range of [0, 4294967295]\n",
      "cc1plus: note: disable pass tree-ifcombine for functions in the range of [0, 4294967295]\n",
      "cc1plus: note: disable pass tree-ifcombine for functions in the range of [0, 4294967295]\n",
      "cc1plus: note: disable pass tree-ifcombine for functions in the range of [0, 4294967295]\n",
      "cc1plus: note: disable pass tree-ifcombine for functions in the range of [0, 4294967295]\n",
      "cc1plus: note: disable pass tree-ifcombine for functions in the range of [0, 4294967295]\n",
      "cc1plus: note: disable pass tree-ifcombine for functions in the range of [0, 4294967295]\n"
     ]
    },
    {
     "name": "stdout",
     "output_type": "stream",
     "text": [
      "[ 88%] \u001b[32mBuilding CXX object library/CMakeFiles/library.dir/tlean_exporter.cpp.o\u001b[0m\n",
      "[ 88%] \u001b[32mBuilding CXX object library/CMakeFiles/library.dir/ast_exporter.cpp.o\u001b[0m\n"
     ]
    },
    {
     "name": "stderr",
     "output_type": "stream",
     "text": [
      "cc1plus: note: disable pass tree-ifcombine for functions in the range of [0, 4294967295]\n",
      "cc1plus: note: disable pass tree-ifcombine for functions in the range of [0, 4294967295]\n",
      "/tmp/tmphu0190g5/workspace/lean-liquid/_target/deps/lean/src/library/module_mgr.cpp: In member function ‘virtual std::shared_ptr<lean::module_info> lean::fs_module_vfs::load_module(const module_id&, bool)’:\n",
      "/tmp/tmphu0190g5/workspace/lean-liquid/_target/deps/lean/src/library/module_mgr.cpp:494:40: warning: ‘*(long long unsigned int*)((char*)&src_hash + offsetof(lean::optional<long long unsigned int>,lean::optional<long long unsigned int>::<unnamed>))’ may be used uninitialized in this function [-Wmaybe-uninitialized]\n",
      "  494 |                 (!src_hash.has_value() || *src_hash == *olean_src_hash)) {\n",
      "      |                 ~~~~~~~~~~~~~~~~~~~~~~~^~~~~~~~~~~~~~~~~~~~~~~~~~~~~~~~\n"
     ]
    },
    {
     "name": "stdout",
     "output_type": "stream",
     "text": [
      "[ 88%] Built target lean_frontend\n",
      "[ 88%] Built target library\n",
      "[ 88%] \u001b[32m\u001b[1mLinking CXX static library libleanstatic.a\u001b[0m\n",
      "[ 88%] \u001b[32mBuilding CXX object tests/library/CMakeFiles/occurs.dir/occurs.cpp.o\u001b[0m\n",
      "[ 88%] \u001b[32mBuilding CXX object tests/kernel/CMakeFiles/instantiate.dir/instantiate.cpp.o\u001b[0m\n",
      "[ 88%] \u001b[32mBuilding CXX object tests/library/CMakeFiles/head_map.dir/head_map.cpp.o\u001b[0m\n",
      "[ 88%] \u001b[32mBuilding CXX object tests/kernel/CMakeFiles/free_vars.dir/free_vars.cpp.o\u001b[0m\n",
      "[ 89%] \u001b[32mBuilding CXX object tests/kernel/CMakeFiles/level.dir/level.cpp.o\u001b[0m\n",
      "[ 89%] \u001b[32mBuilding CXX object tests/library/CMakeFiles/deep_copy.dir/deep_copy.cpp.o\u001b[0m\n",
      "[ 89%] \u001b[32mBuilding CXX object tests/library/CMakeFiles/phashtable.dir/phashtable.cpp.o\u001b[0m\n",
      "[ 89%] \u001b[32mBuilding CXX object tests/library/CMakeFiles/parray.dir/parray.cpp.o\u001b[0m\n",
      "[ 89%] \u001b[32mBuilding CXX object tests/kernel/CMakeFiles/expr.dir/expr.cpp.o\u001b[0m\n",
      "[ 89%] \u001b[32mBuilding CXX object tests/kernel/CMakeFiles/max_sharing.dir/max_sharing.cpp.o\u001b[0m\n",
      "[ 89%] \u001b[32mBuilding CXX object tests/library/CMakeFiles/delayed_abstraction.dir/delayed_abstraction.cpp.o\u001b[0m\n",
      "[ 89%] \u001b[32mBuilding CXX object tests/kernel/CMakeFiles/replace.dir/replace.cpp.o\u001b[0m\n",
      "[ 89%] \u001b[32mBuilding CXX object tests/library/CMakeFiles/expr_lt.dir/expr_lt.cpp.o\u001b[0m\n",
      "[ 90%] \u001b[32mBuilding CXX object tests/kernel/CMakeFiles/environment.dir/environment.cpp.o\u001b[0m\n",
      "[ 91%] \u001b[32mBuilding CXX object tests/frontends/lean/CMakeFiles/lean_scanner.dir/scanner.cpp.o\u001b[0m\n"
     ]
    },
    {
     "name": "stderr",
     "output_type": "stream",
     "text": [
      "cc1plus: note: disable pass tree-ifcombine for functions in the range of [0, 4294967295]\n",
      "cc1plus: note: disable pass tree-ifcombine for functions in the range of [0, 4294967295]\n",
      "cc1plus: note: disable pass tree-ifcombine for functions in the range of [0, 4294967295]\n",
      "cc1plus: note: disable pass tree-ifcombine for functions in the range of [0, 4294967295]\n",
      "cc1plus: note: disable pass tree-ifcombine for functions in the range of [0, 4294967295]\n",
      "cc1plus: note: disable pass tree-ifcombine for functions in the range of [0, 4294967295]\n",
      "cc1plus: note: disable pass tree-ifcombine for functions in the range of [0, 4294967295]\n",
      "cc1plus: note: disable pass tree-ifcombine for functions in the range of [0, 4294967295]\n",
      "cc1plus: note: disable pass tree-ifcombine for functions in the range of [0, 4294967295]\n",
      "cc1plus: note: disable pass tree-ifcombine for functions in the range of [0, 4294967295]\n",
      "cc1plus: note: disable pass tree-ifcombine for functions in the range of [0, 4294967295]\n",
      "cc1plus: note: disable pass tree-ifcombine for functions in the range of [0, 4294967295]\n",
      "cc1plus: note: disable pass tree-ifcombine for functions in the range of [0, 4294967295]\n",
      "cc1plus: note: disable pass tree-ifcombine for functions in the range of [0, 4294967295]\n",
      "cc1plus: note: disable pass tree-ifcombine for functions in the range of [0, 4294967295]\n"
     ]
    },
    {
     "name": "stdout",
     "output_type": "stream",
     "text": [
      "[ 91%] Built target leanstatic\n",
      "[ 91%] \u001b[32mBuilding CXX object shell/CMakeFiles/lean.dir/lean.cpp.o\u001b[0m\n",
      "[ 92%] \u001b[32m\u001b[1mLinking CXX executable instantiate\u001b[0m\n",
      "[ 93%] \u001b[32m\u001b[1mLinking CXX executable occurs\u001b[0m\n",
      "[ 94%] \u001b[32m\u001b[1mLinking CXX executable level\u001b[0m\n"
     ]
    },
    {
     "name": "stderr",
     "output_type": "stream",
     "text": [
      "cc1plus: note: disable pass tree-ifcombine for functions in the range of [0, 4294967295]\n",
      "In file included from /tmp/tmphu0190g5/workspace/lean-liquid/_target/deps/lean/src/library/phashtable.h:10,\n",
      "                 from /tmp/tmphu0190g5/workspace/lean-liquid/_target/deps/lean/src/tests/library/phashtable.cpp:18:\n",
      "/tmp/tmphu0190g5/workspace/lean-liquid/_target/deps/lean/src/library/parray.h: In instantiation of ‘static lean::parray<T, ThreadSafe>::cell* lean::parray<T, ThreadSafe>::copy(unsigned int, lean::parray<T, ThreadSafe>::cell*, const cell_buffer&) [with T = lean::default_map_entry<unsigned int, unsigned int>; bool ThreadSafe = true; lean::parray<T, ThreadSafe>::cell_buffer = lean::buffer<lean::parray<lean::default_map_entry<unsigned int, unsigned int>, true>::cell*, 1024>]’:\n",
      "/tmp/tmphu0190g5/workspace/lean-liquid/_target/deps/lean/src/library/parray.h:349:32:   required from ‘static void lean::parray<T, ThreadSafe>::reroot(lean::parray<T, ThreadSafe>::cell*) [with T = lean::default_map_entry<unsigned int, unsigned int>; bool ThreadSafe = true]’\n",
      "/tmp/tmphu0190g5/workspace/lean-liquid/_target/deps/lean/src/library/parray.h:662:23:   required from ‘lean::parray<T, ThreadSafe>::exclusive_access::exclusive_access(lean::parray<T, ThreadSafe>&) [with T = lean::default_map_entry<unsigned int, unsigned int>; bool ThreadSafe = true]’\n",
      "/tmp/tmphu0190g5/workspace/lean-liquid/_target/deps/lean/src/library/phashtable.h:188:42:   required from ‘void lean::phashtable_core<Entry, HashProc, EqProc, ThreadSafe>::insert(const data&) [with Entry = lean::default_map_entry<unsigned int, unsigned int>; HashProc = lean::phashtable2map<lean::default_map_entry<unsigned int, unsigned int>, std::hash<unsigned int>, std::equal_to<unsigned int>, true>::entry_hash_proc; EqProc = lean::phashtable2map<lean::default_map_entry<unsigned int, unsigned int>, std::hash<unsigned int>, std::equal_to<unsigned int>, true>::entry_eq_proc; bool ThreadSafe = true; lean::phashtable_core<Entry, HashProc, EqProc, ThreadSafe>::data = lean::key_value_pair<unsigned int, unsigned int>]’\n",
      "/tmp/tmphu0190g5/workspace/lean-liquid/_target/deps/lean/src/library/phash_map.h:86:23:   required from ‘void lean::phashtable2map<Entry, HashProc, EqProc, ThreadSafe>::insert(const key&, const value&) [with Entry = lean::default_map_entry<unsigned int, unsigned int>; HashProc = std::hash<unsigned int>; EqProc = std::equal_to<unsigned int>; bool ThreadSafe = true; lean::phashtable2map<Entry, HashProc, EqProc, ThreadSafe>::key = unsigned int; lean::phashtable2map<Entry, HashProc, EqProc, ThreadSafe>::value = unsigned int]’\n",
      "/tmp/tmphu0190g5/workspace/lean-liquid/_target/deps/lean/src/tests/library/phashtable.cpp:149:13:   required from here\n",
      "/tmp/tmphu0190g5/workspace/lean-liquid/_target/deps/lean/src/library/parray.h:290:17: warning: implicitly-declared ‘lean::default_map_entry<unsigned int, unsigned int>::default_map_entry(const lean::default_map_entry<unsigned int, unsigned int>&)’ is deprecated [-Wdeprecated-copy]\n",
      "  290 |                 new (r->m_values + r->m_size) T(p->elem());\n",
      "      |                 ^~~~~~~~~~~~~~~~~~~~~~~~~~~~~~~~~~~~~~~~~~\n",
      "In file included from /tmp/tmphu0190g5/workspace/lean-liquid/_target/deps/lean/src/tests/library/phashtable.cpp:19:\n",
      "/tmp/tmphu0190g5/workspace/lean-liquid/_target/deps/lean/src/library/phash_map.h:34:25: note: because ‘lean::default_map_entry<unsigned int, unsigned int>’ has user-provided ‘lean::default_map_entry<Key, Value>& lean::default_map_entry<Key, Value>::operator=(const lean::default_map_entry<Key, Value>&) [with Key = unsigned int; Value = unsigned int]’\n",
      "   34 |     default_map_entry & operator=(default_map_entry const & src) {\n",
      "      |                         ^~~~~~~~\n",
      "In file included from /tmp/tmphu0190g5/workspace/lean-liquid/_target/deps/lean/src/library/phashtable.h:10,\n",
      "                 from /tmp/tmphu0190g5/workspace/lean-liquid/_target/deps/lean/src/tests/library/phashtable.cpp:18:\n",
      "/tmp/tmphu0190g5/workspace/lean-liquid/_target/deps/lean/src/library/parray.h: In instantiation of ‘static void lean::parray<T, ThreadSafe>::reroot(lean::parray<T, ThreadSafe>::cell*, lean::parray<T, ThreadSafe>::cell*, const cell_buffer&) [with T = lean::default_map_entry<unsigned int, unsigned int>; bool ThreadSafe = true; lean::parray<T, ThreadSafe>::cell_buffer = lean::buffer<lean::parray<lean::default_map_entry<unsigned int, unsigned int>, true>::cell*, 1024>]’:\n",
      "/tmp/tmphu0190g5/workspace/lean-liquid/_target/deps/lean/src/library/parray.h:356:19:   required from ‘static void lean::parray<T, ThreadSafe>::reroot(lean::parray<T, ThreadSafe>::cell*) [with T = lean::default_map_entry<unsigned int, unsigned int>; bool ThreadSafe = true]’\n",
      "/tmp/tmphu0190g5/workspace/lean-liquid/_target/deps/lean/src/library/parray.h:662:23:   required from ‘lean::parray<T, ThreadSafe>::exclusive_access::exclusive_access(lean::parray<T, ThreadSafe>&) [with T = lean::default_map_entry<unsigned int, unsigned int>; bool ThreadSafe = true]’\n",
      "/tmp/tmphu0190g5/workspace/lean-liquid/_target/deps/lean/src/library/phashtable.h:188:42:   required from ‘void lean::phashtable_core<Entry, HashProc, EqProc, ThreadSafe>::insert(const data&) [with Entry = lean::default_map_entry<unsigned int, unsigned int>; HashProc = lean::phashtable2map<lean::default_map_entry<unsigned int, unsigned int>, std::hash<unsigned int>, std::equal_to<unsigned int>, true>::entry_hash_proc; EqProc = lean::phashtable2map<lean::default_map_entry<unsigned int, unsigned int>, std::hash<unsigned int>, std::equal_to<unsigned int>, true>::entry_eq_proc; bool ThreadSafe = true; lean::phashtable_core<Entry, HashProc, EqProc, ThreadSafe>::data = lean::key_value_pair<unsigned int, unsigned int>]’\n",
      "/tmp/tmphu0190g5/workspace/lean-liquid/_target/deps/lean/src/library/phash_map.h:86:23:   required from ‘void lean::phashtable2map<Entry, HashProc, EqProc, ThreadSafe>::insert(const key&, const value&) [with Entry = lean::default_map_entry<unsigned int, unsigned int>; HashProc = std::hash<unsigned int>; EqProc = std::equal_to<unsigned int>; bool ThreadSafe = true; lean::phashtable2map<Entry, HashProc, EqProc, ThreadSafe>::key = unsigned int; lean::phashtable2map<Entry, HashProc, EqProc, ThreadSafe>::value = unsigned int]’\n",
      "/tmp/tmphu0190g5/workspace/lean-liquid/_target/deps/lean/src/tests/library/phashtable.cpp:149:13:   required from here\n",
      "/tmp/tmphu0190g5/workspace/lean-liquid/_target/deps/lean/src/library/parray.h:222:17: warning: implicitly-declared ‘lean::default_map_entry<unsigned int, unsigned int>::default_map_entry(const lean::default_map_entry<unsigned int, unsigned int>&)’ is deprecated [-Wdeprecated-copy]\n",
      "  222 |                 new (vs + sz) T(p->elem());\n",
      "      |                 ^~~~~~~~~~~~~~~~~~~~~~~~~~\n",
      "In file included from /tmp/tmphu0190g5/workspace/lean-liquid/_target/deps/lean/src/tests/library/phashtable.cpp:19:\n",
      "/tmp/tmphu0190g5/workspace/lean-liquid/_target/deps/lean/src/library/phash_map.h:34:25: note: because ‘lean::default_map_entry<unsigned int, unsigned int>’ has user-provided ‘lean::default_map_entry<Key, Value>& lean::default_map_entry<Key, Value>::operator=(const lean::default_map_entry<Key, Value>&) [with Key = unsigned int; Value = unsigned int]’\n",
      "   34 |     default_map_entry & operator=(default_map_entry const & src) {\n",
      "      |                         ^~~~~~~~\n",
      "In file included from /tmp/tmphu0190g5/workspace/lean-liquid/_target/deps/lean/src/library/phashtable.h:10,\n",
      "                 from /tmp/tmphu0190g5/workspace/lean-liquid/_target/deps/lean/src/tests/library/phashtable.cpp:18:\n",
      "/tmp/tmphu0190g5/workspace/lean-liquid/_target/deps/lean/src/library/parray.h: In instantiation of ‘static T* lean::parray<T, ThreadSafe>::mk_elem_copy(const T&) [with T = lean::default_map_entry<unsigned int, unsigned int>; bool ThreadSafe = true]’:\n",
      "/tmp/tmphu0190g5/workspace/lean-liquid/_target/deps/lean/src/library/parray.h:432:49:   required from ‘static lean::parray<T, ThreadSafe>::cell* lean::parray<T, ThreadSafe>::write_aux(lean::parray<T, ThreadSafe>::cell*, size_t, const T&) [with T = lean::default_map_entry<unsigned int, unsigned int>; bool ThreadSafe = true; size_t = long unsigned int]’\n",
      "/tmp/tmphu0190g5/workspace/lean-liquid/_target/deps/lean/src/library/parray.h:685:39:   required from ‘void lean::parray<T, ThreadSafe>::exclusive_access::set(size_t, const T&) [with T = lean::default_map_entry<unsigned int, unsigned int>; bool ThreadSafe = true; size_t = long unsigned int]’\n",
      "/tmp/tmphu0190g5/workspace/lean-liquid/_target/deps/lean/src/library/phashtable.h:197:13:   required from ‘void lean::phashtable_core<Entry, HashProc, EqProc, ThreadSafe>::insert(const data&) [with Entry = lean::default_map_entry<unsigned int, unsigned int>; HashProc = lean::phashtable2map<lean::default_map_entry<unsigned int, unsigned int>, std::hash<unsigned int>, std::equal_to<unsigned int>, true>::entry_hash_proc; EqProc = lean::phashtable2map<lean::default_map_entry<unsigned int, unsigned int>, std::hash<unsigned int>, std::equal_to<unsigned int>, true>::entry_eq_proc; bool ThreadSafe = true; lean::phashtable_core<Entry, HashProc, EqProc, ThreadSafe>::data = lean::key_value_pair<unsigned int, unsigned int>]’\n",
      "/tmp/tmphu0190g5/workspace/lean-liquid/_target/deps/lean/src/library/phash_map.h:86:23:   required from ‘void lean::phashtable2map<Entry, HashProc, EqProc, ThreadSafe>::insert(const key&, const value&) [with Entry = lean::default_map_entry<unsigned int, unsigned int>; HashProc = std::hash<unsigned int>; EqProc = std::equal_to<unsigned int>; bool ThreadSafe = true; lean::phashtable2map<Entry, HashProc, EqProc, ThreadSafe>::key = unsigned int; lean::phashtable2map<Entry, HashProc, EqProc, ThreadSafe>::value = unsigned int]’\n",
      "/tmp/tmphu0190g5/workspace/lean-liquid/_target/deps/lean/src/tests/library/phashtable.cpp:149:13:   required from here\n",
      "/tmp/tmphu0190g5/workspace/lean-liquid/_target/deps/lean/src/library/parray.h:174:16: warning: implicitly-declared ‘lean::default_map_entry<unsigned int, unsigned int>::default_map_entry(const lean::default_map_entry<unsigned int, unsigned int>&)’ is deprecated [-Wdeprecated-copy]\n",
      "  174 |         return new (get_elem_allocator().allocate()) T(e);\n",
      "      |                ^~~~~~~~~~~~~~~~~~~~~~~~~~~~~~~~~~~~~~~~~~\n",
      "In file included from /tmp/tmphu0190g5/workspace/lean-liquid/_target/deps/lean/src/tests/library/phashtable.cpp:19:\n",
      "/tmp/tmphu0190g5/workspace/lean-liquid/_target/deps/lean/src/library/phash_map.h:34:25: note: because ‘lean::default_map_entry<unsigned int, unsigned int>’ has user-provided ‘lean::default_map_entry<Key, Value>& lean::default_map_entry<Key, Value>::operator=(const lean::default_map_entry<Key, Value>&) [with Key = unsigned int; Value = unsigned int]’\n",
      "   34 |     default_map_entry & operator=(default_map_entry const & src) {\n",
      "      |                         ^~~~~~~~\n"
     ]
    },
    {
     "name": "stdout",
     "output_type": "stream",
     "text": [
      "[ 95%] \u001b[32m\u001b[1mLinking CXX executable free_vars\u001b[0m\n",
      "[ 95%] \u001b[32m\u001b[1mLinking CXX executable environment\u001b[0m\n",
      "[ 95%] \u001b[32m\u001b[1mLinking CXX executable deep_copy\u001b[0m\n",
      "[ 95%] \u001b[32m\u001b[1mLinking CXX executable max_sharing\u001b[0m\n",
      "[ 96%] \u001b[32m\u001b[1mLinking CXX executable expr_lt\u001b[0m\n",
      "[ 97%] \u001b[32m\u001b[1mLinking CXX executable replace\u001b[0m\n",
      "[ 97%] Built target instantiate\n",
      "[ 97%] \u001b[32mBuilding CXX object shell/CMakeFiles/lean_js.dir/lean_js.cpp.o\u001b[0m\n",
      "[ 97%] Built target occurs\n",
      "[ 97%] \u001b[32m\u001b[1mLinking CXX executable expr\u001b[0m\n",
      "[ 97%] \u001b[32mBuilding CXX object tests/shell/CMakeFiles/shell_test.dir/shell.cpp.o\u001b[0m\n",
      "[ 97%] Built target level\n",
      "[ 97%] \u001b[32mBuilding CXX object shell/CMakeFiles/lean.dir/server.cpp.o\u001b[0m\n",
      "[ 97%] \u001b[32m\u001b[1mLinking CXX executable parray\u001b[0m\n",
      "[ 97%] Built target free_vars\n",
      "[ 97%] \u001b[32mBuilding CXX object shell/CMakeFiles/lean_js.dir/lean_js_main.cpp.o\u001b[0m\n",
      "[ 97%] \u001b[32m\u001b[1mLinking CXX executable shell_test\u001b[0m\n",
      "[ 97%] \u001b[32m\u001b[1mLinking CXX executable delayed_abstraction\u001b[0m\n"
     ]
    },
    {
     "name": "stderr",
     "output_type": "stream",
     "text": [
      "cc1plus: note: disable pass tree-ifcombine for functions in the range of [0, 4294967295]\n",
      "cc1plus: note: disable pass tree-ifcombine for functions in the range of [0, 4294967295]\n",
      "cc1plus: note: disable pass tree-ifcombine for functions in the range of [0, 4294967295]\n",
      "cc1plus: note: disable pass tree-ifcombine for functions in the range of [0, 4294967295]\n"
     ]
    },
    {
     "name": "stdout",
     "output_type": "stream",
     "text": [
      "[ 97%] Built target environment\n",
      "[ 97%] \u001b[32mBuilding CXX object shell/CMakeFiles/lean_js.dir/server.cpp.o\u001b[0m\n",
      "[ 97%] \u001b[32m\u001b[1mLinking CXX executable lean_scanner\u001b[0m\n",
      "[ 97%] Built target deep_copy\n",
      "[ 98%] \u001b[32m\u001b[1mLinking CXX executable phashtable\u001b[0m\n",
      "[ 99%] \u001b[32m\u001b[1mLinking CXX executable head_map\u001b[0m\n"
     ]
    },
    {
     "name": "stderr",
     "output_type": "stream",
     "text": [
      "cc1plus: note: disable pass tree-ifcombine for functions in the range of [0, 4294967295]\n"
     ]
    },
    {
     "name": "stdout",
     "output_type": "stream",
     "text": [
      "[ 99%] Built target max_sharing\n",
      "[ 99%] Built target expr\n",
      "[ 99%] Built target expr_lt\n",
      "[ 99%] Built target replace\n",
      "[ 99%] Built target parray\n",
      "[ 99%] Built target shell_test\n",
      "[ 99%] Built target delayed_abstraction\n",
      "[ 99%] Built target lean_scanner\n",
      "[ 99%] Built target phashtable\n",
      "[ 99%] Built target head_map\n",
      "[100%] \u001b[32m\u001b[1mLinking CXX executable lean\u001b[0m\n",
      "[100%] \u001b[32m\u001b[1mLinking CXX executable lean_js\u001b[0m\n",
      "[100%] Built target lean\n",
      "[100%] Built target bin_lean\n",
      "[100%] Built target lean_js\n",
      "[100%] Built target standard_lib\n",
      "[100%] Built target leanpkg\n",
      "configuring lean-liquid 0.1\n",
      "mathlib: cloning https://github.com/leanprover-community/mathlib to _target/deps/mathlib\n",
      "> git clone https://github.com/leanprover-community/mathlib _target/deps/mathlib\n"
     ]
    },
    {
     "name": "stderr",
     "output_type": "stream",
     "text": [
      "Cloning into '_target/deps/mathlib'...\n"
     ]
    },
    {
     "name": "stdout",
     "output_type": "stream",
     "text": [
      "> git checkout --detach 483dd86cfec4a1380d22b1f6acd4c3dc53f501ff    # in directory _target/deps/mathlib\n"
     ]
    },
    {
     "name": "stderr",
     "output_type": "stream",
     "text": [
      "HEAD is now at 483dd86cfe chore(probability/kernel/basic): split into three files (#18957)\n",
      "2024-09-02 16:08:20.698 | INFO     | __main__:main:151 - Tracing lean-liquid\n",
      " 37%|███▋      | 1966/5345 [1:16:29<531:53:56, 566.69s/it]2024-09-02 17:43:53.268 | ERROR    | __main__:main:160 - Command '/tmp/tmphu0190g5/workspace/lean-liquid/_target/deps/lean/bin/lean --ast --tsast --tspp --recursive --make --threads=16 src' returned non-zero exit status 137.\n",
      "2024-09-02 17:43:53.270 | ERROR    | __main__:main:161 - Please check if the repo can be built with `leanpkg build`.\n",
      "Traceback (most recent call last):\n",
      "  File \"/tmp/tmphu0190g5/workspace/build_lean3_repo.py\", line 167, in <module>\n",
      "    main()\n",
      "  File \"/tmp/tmphu0190g5/workspace/build_lean3_repo.py\", line 162, in main\n",
      "    record_paths(src_dir, traced_repo_root, modifed_lean_bin)\n",
      "  File \"/tmp/tmphu0190g5/workspace/build_lean3_repo.py\", line 45, in record_paths\n",
      "    for line in run_cmd(\n",
      "  File \"/tmp/tmphu0190g5/workspace/build_lean3_repo.py\", line 28, in run_cmd\n",
      "    res = subprocess.run(cmd, shell=True, capture_output=capture_output, check=True)\n",
      "  File \"/home/mcwave/anaconda3/lib/python3.10/subprocess.py\", line 526, in run\n",
      "    raise CalledProcessError(retcode, process.args,\n",
      "subprocess.CalledProcessError: Command '/tmp/tmphu0190g5/workspace/lean-liquid/_target/deps/lean/bin/lean --deps src/normed_spectral.lean' returned non-zero exit status 1.\n",
      "\u001b[32m2024-09-02 17:43:53.445\u001b[0m | \u001b[31m\u001b[1mERROR   \u001b[0m | \u001b[36mlean_dojo.data_extraction.trace\u001b[0m:\u001b[36m_trace_lean3\u001b[0m:\u001b[36m100\u001b[0m - \u001b[31m\u001b[1mFailed to build the modified Lean 3 without Docker. See https://leandojo.readthedocs.io/en/latest/user-guide.html#advanced-running-within-docker.\u001b[0m\n"
     ]
    },
    {
     "ename": "CalledProcessError",
     "evalue": "Command 'NUM_PROCS=16 python build_lean3_repo.py lean-liquid' returned non-zero exit status 1.",
     "output_type": "error",
     "traceback": [
      "\u001b[0;31m---------------------------------------------------------------------------\u001b[0m",
      "\u001b[0;31mCalledProcessError\u001b[0m                        Traceback (most recent call last)",
      "Cell \u001b[0;32mIn[3], line 2\u001b[0m\n\u001b[1;32m      1\u001b[0m \u001b[38;5;66;03m# A few minutes if the traced repo is in the cache; many hours otherwise.\u001b[39;00m\n\u001b[0;32m----> 2\u001b[0m traced_repo \u001b[38;5;241m=\u001b[39m \u001b[43mtrace\u001b[49m\u001b[43m(\u001b[49m\u001b[43mrepo\u001b[49m\u001b[43m)\u001b[49m\n",
      "File \u001b[0;32m~/anaconda3/envs/lean3/lib/python3.10/site-packages/lean_dojo/data_extraction/trace.py:193\u001b[0m, in \u001b[0;36mtrace\u001b[0;34m(repo, dst_dir, build_deps)\u001b[0m\n\u001b[1;32m    188\u001b[0m     dst_dir \u001b[38;5;241m=\u001b[39m Path(dst_dir)\n\u001b[1;32m    189\u001b[0m     \u001b[38;5;28;01massert\u001b[39;00m (\n\u001b[1;32m    190\u001b[0m         \u001b[38;5;129;01mnot\u001b[39;00m dst_dir\u001b[38;5;241m.\u001b[39mexists()\n\u001b[1;32m    191\u001b[0m     ), \u001b[38;5;124mf\u001b[39m\u001b[38;5;124m\"\u001b[39m\u001b[38;5;124mThe destination directory \u001b[39m\u001b[38;5;132;01m{\u001b[39;00mdst_dir\u001b[38;5;132;01m}\u001b[39;00m\u001b[38;5;124m already exists.\u001b[39m\u001b[38;5;124m\"\u001b[39m\n\u001b[0;32m--> 193\u001b[0m cached_path \u001b[38;5;241m=\u001b[39m \u001b[43mget_traced_repo_path\u001b[49m\u001b[43m(\u001b[49m\u001b[43mrepo\u001b[49m\u001b[43m,\u001b[49m\u001b[43m \u001b[49m\u001b[43mbuild_deps\u001b[49m\u001b[43m)\u001b[49m\n\u001b[1;32m    194\u001b[0m logger\u001b[38;5;241m.\u001b[39minfo(\u001b[38;5;124mf\u001b[39m\u001b[38;5;124m\"\u001b[39m\u001b[38;5;124mLoading the traced repo from \u001b[39m\u001b[38;5;132;01m{\u001b[39;00mcached_path\u001b[38;5;132;01m}\u001b[39;00m\u001b[38;5;124m\"\u001b[39m)\n\u001b[1;32m    195\u001b[0m traced_repo \u001b[38;5;241m=\u001b[39m TracedRepo\u001b[38;5;241m.\u001b[39mload_from_disk(cached_path, build_deps)\n",
      "File \u001b[0;32m~/anaconda3/envs/lean3/lib/python3.10/site-packages/lean_dojo/data_extraction/trace.py:160\u001b[0m, in \u001b[0;36mget_traced_repo_path\u001b[0;34m(repo, build_deps)\u001b[0m\n\u001b[1;32m    158\u001b[0m \u001b[38;5;28;01mwith\u001b[39;00m working_directory() \u001b[38;5;28;01mas\u001b[39;00m tmp_dir:\n\u001b[1;32m    159\u001b[0m     logger\u001b[38;5;241m.\u001b[39mdebug(\u001b[38;5;124mf\u001b[39m\u001b[38;5;124m\"\u001b[39m\u001b[38;5;124mWorking in the temporary directory \u001b[39m\u001b[38;5;132;01m{\u001b[39;00mtmp_dir\u001b[38;5;132;01m}\u001b[39;00m\u001b[38;5;124m\"\u001b[39m)\n\u001b[0;32m--> 160\u001b[0m     \u001b[43m_trace\u001b[49m\u001b[43m(\u001b[49m\u001b[43mrepo\u001b[49m\u001b[43m,\u001b[49m\u001b[43m \u001b[49m\u001b[43mbuild_deps\u001b[49m\u001b[43m)\u001b[49m\n\u001b[1;32m    161\u001b[0m     traced_repo \u001b[38;5;241m=\u001b[39m TracedRepo\u001b[38;5;241m.\u001b[39mfrom_traced_files(tmp_dir \u001b[38;5;241m/\u001b[39m repo\u001b[38;5;241m.\u001b[39mname, build_deps)\n\u001b[1;32m    162\u001b[0m     traced_repo\u001b[38;5;241m.\u001b[39msave_to_disk()\n",
      "File \u001b[0;32m~/anaconda3/envs/lean3/lib/python3.10/site-packages/lean_dojo/data_extraction/trace.py:65\u001b[0m, in \u001b[0;36m_trace\u001b[0;34m(repo, build_deps)\u001b[0m\n\u001b[1;32m     63\u001b[0m \u001b[38;5;28;01mif\u001b[39;00m repo\u001b[38;5;241m.\u001b[39muses_lean3:\n\u001b[1;32m     64\u001b[0m     \u001b[38;5;28;01massert\u001b[39;00m build_deps\n\u001b[0;32m---> 65\u001b[0m     \u001b[43m_trace_lean3\u001b[49m\u001b[43m(\u001b[49m\u001b[43mrepo\u001b[49m\u001b[43m)\u001b[49m\n\u001b[1;32m     66\u001b[0m \u001b[38;5;28;01melse\u001b[39;00m:\n\u001b[1;32m     67\u001b[0m     \u001b[38;5;28;01massert\u001b[39;00m repo\u001b[38;5;241m.\u001b[39muses_lean4\n",
      "File \u001b[0;32m~/anaconda3/envs/lean3/lib/python3.10/site-packages/lean_dojo/data_extraction/trace.py:103\u001b[0m, in \u001b[0;36m_trace_lean3\u001b[0;34m(repo)\u001b[0m\n\u001b[1;32m     99\u001b[0m \u001b[38;5;28;01mif\u001b[39;00m \u001b[38;5;28misinstance\u001b[39m(container, NativeContainer):\n\u001b[1;32m    100\u001b[0m     logger\u001b[38;5;241m.\u001b[39merror(\n\u001b[1;32m    101\u001b[0m         \u001b[38;5;124m\"\u001b[39m\u001b[38;5;124mFailed to build the modified Lean 3 without Docker. See https://leandojo.readthedocs.io/en/latest/user-guide.html#advanced-running-within-docker.\u001b[39m\u001b[38;5;124m\"\u001b[39m\n\u001b[1;32m    102\u001b[0m     )\n\u001b[0;32m--> 103\u001b[0m \u001b[38;5;28;01mraise\u001b[39;00m ex\n",
      "File \u001b[0;32m~/anaconda3/envs/lean3/lib/python3.10/site-packages/lean_dojo/data_extraction/trace.py:91\u001b[0m, in \u001b[0;36m_trace_lean3\u001b[0;34m(repo)\u001b[0m\n\u001b[1;32m     86\u001b[0m mts \u001b[38;5;241m=\u001b[39m {\n\u001b[1;32m     87\u001b[0m     Path\u001b[38;5;241m.\u001b[39mcwd() \u001b[38;5;241m/\u001b[39m repo\u001b[38;5;241m.\u001b[39mname: \u001b[38;5;124mf\u001b[39m\u001b[38;5;124m\"\u001b[39m\u001b[38;5;124m/workspace/\u001b[39m\u001b[38;5;132;01m{\u001b[39;00mrepo\u001b[38;5;241m.\u001b[39mname\u001b[38;5;132;01m}\u001b[39;00m\u001b[38;5;124m\"\u001b[39m,\n\u001b[1;32m     88\u001b[0m     LEAN3_BUILD_SCRIPT_PATH: \u001b[38;5;124mf\u001b[39m\u001b[38;5;124m\"\u001b[39m\u001b[38;5;124m/workspace/\u001b[39m\u001b[38;5;132;01m{\u001b[39;00mLEAN3_BUILD_SCRIPT_PATH\u001b[38;5;241m.\u001b[39mname\u001b[38;5;132;01m}\u001b[39;00m\u001b[38;5;124m\"\u001b[39m,\n\u001b[1;32m     89\u001b[0m }\n\u001b[1;32m     90\u001b[0m \u001b[38;5;28;01mtry\u001b[39;00m:\n\u001b[0;32m---> 91\u001b[0m     \u001b[43mcontainer\u001b[49m\u001b[38;5;241;43m.\u001b[39;49m\u001b[43mrun\u001b[49m\u001b[43m(\u001b[49m\n\u001b[1;32m     92\u001b[0m \u001b[43m        \u001b[49m\u001b[38;5;124;43mf\u001b[39;49m\u001b[38;5;124;43m\"\u001b[39;49m\u001b[38;5;124;43mpython build_lean3_repo.py \u001b[39;49m\u001b[38;5;132;43;01m{\u001b[39;49;00m\u001b[43mrepo\u001b[49m\u001b[38;5;241;43m.\u001b[39;49m\u001b[43mname\u001b[49m\u001b[38;5;132;43;01m}\u001b[39;49;00m\u001b[38;5;124;43m\"\u001b[39;49m\u001b[43m,\u001b[49m\n\u001b[1;32m     93\u001b[0m \u001b[43m        \u001b[49m\u001b[43mcreate_mounts\u001b[49m\u001b[43m(\u001b[49m\u001b[43mmts\u001b[49m\u001b[43m)\u001b[49m\u001b[43m,\u001b[49m\n\u001b[1;32m     94\u001b[0m \u001b[43m        \u001b[49m\u001b[43m{\u001b[49m\u001b[38;5;124;43m\"\u001b[39;49m\u001b[38;5;124;43mNUM_PROCS\u001b[39;49m\u001b[38;5;124;43m\"\u001b[39;49m\u001b[43m:\u001b[49m\u001b[43m \u001b[49m\u001b[43mNUM_PROCS\u001b[49m\u001b[43m}\u001b[49m\u001b[43m,\u001b[49m\n\u001b[1;32m     95\u001b[0m \u001b[43m        \u001b[49m\u001b[43mas_current_user\u001b[49m\u001b[38;5;241;43m=\u001b[39;49m\u001b[38;5;28;43;01mTrue\u001b[39;49;00m\u001b[43m,\u001b[49m\n\u001b[1;32m     96\u001b[0m \u001b[43m        \u001b[49m\u001b[43mwork_dir\u001b[49m\u001b[38;5;241;43m=\u001b[39;49m\u001b[38;5;124;43m\"\u001b[39;49m\u001b[38;5;124;43m/workspace\u001b[39;49m\u001b[38;5;124;43m\"\u001b[39;49m\u001b[43m,\u001b[49m\n\u001b[1;32m     97\u001b[0m \u001b[43m    \u001b[49m\u001b[43m)\u001b[49m\n\u001b[1;32m     98\u001b[0m \u001b[38;5;28;01mexcept\u001b[39;00m CalledProcessError \u001b[38;5;28;01mas\u001b[39;00m ex:\n\u001b[1;32m     99\u001b[0m     \u001b[38;5;28;01mif\u001b[39;00m \u001b[38;5;28misinstance\u001b[39m(container, NativeContainer):\n",
      "File \u001b[0;32m~/anaconda3/envs/lean3/lib/python3.10/site-packages/lean_dojo/container.py:194\u001b[0m, in \u001b[0;36mNativeContainer.run\u001b[0;34m(self, command, mounts, envs, as_current_user, capture_output, cpu_limit, memory_limit, work_dir)\u001b[0m\n\u001b[1;32m    191\u001b[0m         work_dir \u001b[38;5;241m=\u001b[39m Path\u001b[38;5;241m.\u001b[39mcwd() \u001b[38;5;241m/\u001b[39m work_dir\u001b[38;5;241m.\u001b[39mrelative_to(work_dir\u001b[38;5;241m.\u001b[39mroot)\n\u001b[1;32m    193\u001b[0m \u001b[38;5;28;01mwith\u001b[39;00m working_directory(work_dir):\n\u001b[0;32m--> 194\u001b[0m     \u001b[43mexecute\u001b[49m\u001b[43m(\u001b[49m\u001b[43mcmd\u001b[49m\u001b[43m,\u001b[49m\u001b[43m \u001b[49m\u001b[43mcapture_output\u001b[49m\u001b[38;5;241;43m=\u001b[39;49m\u001b[43mcapture_output\u001b[49m\u001b[43m)\u001b[49m\n\u001b[1;32m    196\u001b[0m \u001b[38;5;28mself\u001b[39m\u001b[38;5;241m.\u001b[39m_unmount_files(mounts)\n",
      "File \u001b[0;32m~/anaconda3/envs/lean3/lib/python3.10/site-packages/lean_dojo/utils.py:116\u001b[0m, in \u001b[0;36mexecute\u001b[0;34m(cmd, capture_output)\u001b[0m\n\u001b[1;32m    114\u001b[0m         logger\u001b[38;5;241m.\u001b[39minfo(ex\u001b[38;5;241m.\u001b[39mstdout\u001b[38;5;241m.\u001b[39mdecode())\n\u001b[1;32m    115\u001b[0m         logger\u001b[38;5;241m.\u001b[39merror(ex\u001b[38;5;241m.\u001b[39mstderr\u001b[38;5;241m.\u001b[39mdecode())\n\u001b[0;32m--> 116\u001b[0m     \u001b[38;5;28;01mraise\u001b[39;00m ex\n\u001b[1;32m    117\u001b[0m \u001b[38;5;28;01mif\u001b[39;00m \u001b[38;5;129;01mnot\u001b[39;00m capture_output:\n\u001b[1;32m    118\u001b[0m     \u001b[38;5;28;01mreturn\u001b[39;00m \u001b[38;5;28;01mNone\u001b[39;00m\n",
      "File \u001b[0;32m~/anaconda3/envs/lean3/lib/python3.10/site-packages/lean_dojo/utils.py:111\u001b[0m, in \u001b[0;36mexecute\u001b[0;34m(cmd, capture_output)\u001b[0m\n\u001b[1;32m    101\u001b[0m \u001b[38;5;250m\u001b[39m\u001b[38;5;124;03m\"\"\"Execute the shell command ``cmd`` and optionally return its output.\u001b[39;00m\n\u001b[1;32m    102\u001b[0m \n\u001b[1;32m    103\u001b[0m \u001b[38;5;124;03mArgs:\u001b[39;00m\n\u001b[0;32m   (...)\u001b[0m\n\u001b[1;32m    108\u001b[0m \u001b[38;5;124;03m    Optional[Tuple[str, str]]: The command's output, including stdout and stderr (None if ``capture_output == False``).\u001b[39;00m\n\u001b[1;32m    109\u001b[0m \u001b[38;5;124;03m\"\"\"\u001b[39;00m\n\u001b[1;32m    110\u001b[0m \u001b[38;5;28;01mtry\u001b[39;00m:\n\u001b[0;32m--> 111\u001b[0m     res \u001b[38;5;241m=\u001b[39m \u001b[43msubprocess\u001b[49m\u001b[38;5;241;43m.\u001b[39;49m\u001b[43mrun\u001b[49m\u001b[43m(\u001b[49m\u001b[43mcmd\u001b[49m\u001b[43m,\u001b[49m\u001b[43m \u001b[49m\u001b[43mshell\u001b[49m\u001b[38;5;241;43m=\u001b[39;49m\u001b[38;5;28;43;01mTrue\u001b[39;49;00m\u001b[43m,\u001b[49m\u001b[43m \u001b[49m\u001b[43mcapture_output\u001b[49m\u001b[38;5;241;43m=\u001b[39;49m\u001b[43mcapture_output\u001b[49m\u001b[43m,\u001b[49m\u001b[43m \u001b[49m\u001b[43mcheck\u001b[49m\u001b[38;5;241;43m=\u001b[39;49m\u001b[38;5;28;43;01mTrue\u001b[39;49;00m\u001b[43m)\u001b[49m\n\u001b[1;32m    112\u001b[0m \u001b[38;5;28;01mexcept\u001b[39;00m subprocess\u001b[38;5;241m.\u001b[39mCalledProcessError \u001b[38;5;28;01mas\u001b[39;00m ex:\n\u001b[1;32m    113\u001b[0m     \u001b[38;5;28;01mif\u001b[39;00m capture_output:\n",
      "File \u001b[0;32m~/anaconda3/envs/lean3/lib/python3.10/subprocess.py:526\u001b[0m, in \u001b[0;36mrun\u001b[0;34m(input, capture_output, timeout, check, *popenargs, **kwargs)\u001b[0m\n\u001b[1;32m    524\u001b[0m     retcode \u001b[38;5;241m=\u001b[39m process\u001b[38;5;241m.\u001b[39mpoll()\n\u001b[1;32m    525\u001b[0m     \u001b[38;5;28;01mif\u001b[39;00m check \u001b[38;5;129;01mand\u001b[39;00m retcode:\n\u001b[0;32m--> 526\u001b[0m         \u001b[38;5;28;01mraise\u001b[39;00m CalledProcessError(retcode, process\u001b[38;5;241m.\u001b[39margs,\n\u001b[1;32m    527\u001b[0m                                  output\u001b[38;5;241m=\u001b[39mstdout, stderr\u001b[38;5;241m=\u001b[39mstderr)\n\u001b[1;32m    528\u001b[0m \u001b[38;5;28;01mreturn\u001b[39;00m CompletedProcess(process\u001b[38;5;241m.\u001b[39margs, retcode, stdout, stderr)\n",
      "\u001b[0;31mCalledProcessError\u001b[0m: Command 'NUM_PROCS=16 python build_lean3_repo.py lean-liquid' returned non-zero exit status 1."
     ]
    }
   ],
   "source": [
    "# A few minutes if the traced repo is in the cache; many hours otherwise.\n",
    "traced_repo = trace(repo)"
   ]
  },
  {
   "cell_type": "code",
   "execution_count": null,
   "id": "b342eb22",
   "metadata": {},
   "outputs": [],
   "source": [
    "len(traced_repo.traced_files)"
   ]
  },
  {
   "cell_type": "code",
   "execution_count": null,
   "id": "eafeee8e",
   "metadata": {},
   "outputs": [],
   "source": [
    "#[str(x.lean_file.path) for x in traced_repo.traced_files if str(x.lean_file.path).startswith('Flt')]"
   ]
  },
  {
   "cell_type": "code",
   "execution_count": null,
   "id": "13ff8384",
   "metadata": {},
   "outputs": [],
   "source": [
    "import pickle\n",
    "\n",
    "fout = open('/home/mcwave/code/axiomatization/datasets/traced_repo_lean_liquid_20240901.pkl', 'wb')\n",
    "pickle.dump(traced_repo, fout)\n",
    "fout.close()"
   ]
  }
 ],
 "metadata": {
  "kernelspec": {
   "display_name": "lean3",
   "language": "python",
   "name": "lean3"
  },
  "language_info": {
   "codemirror_mode": {
    "name": "ipython",
    "version": 3
   },
   "file_extension": ".py",
   "mimetype": "text/x-python",
   "name": "python",
   "nbconvert_exporter": "python",
   "pygments_lexer": "ipython3",
   "version": "3.10.14"
  }
 },
 "nbformat": 4,
 "nbformat_minor": 5
}
