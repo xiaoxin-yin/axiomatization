{
 "cells": [
  {
   "cell_type": "code",
   "execution_count": 48,
   "id": "3b32bc11",
   "metadata": {},
   "outputs": [
    {
     "name": "stdout",
     "output_type": "stream",
     "text": [
      "Loading Mathlib__Algebra__Order__Sub__Basic.lean.pkl\n",
      "30 examples loaded\n"
     ]
    }
   ],
   "source": [
    "import os\n",
    "import pickle\n",
    "\n",
    "data_folder = '/home/mcwave/code/automath/atp/datasets/provability/mathlib4_states_w_proof/'\n",
    "file_names = os.listdir(data_folder)\n",
    "\n",
    "data = []\n",
    "\n",
    "count = 0\n",
    "for file_name in file_names:\n",
    "    if not file_name.endswith(\"pkl\"):\n",
    "        continue\n",
    "    if not 'Algebra' in file_name:\n",
    "        continue\n",
    "    count += 1\n",
    "    if count <= 3:\n",
    "        continue\n",
    "    print(\"Loading\", file_name)\n",
    "    file_path = os.path.join(data_folder, file_name)\n",
    "    fin = open(file_path, 'rb')\n",
    "    while True:\n",
    "        try:\n",
    "            pair = pickle.load(fin)\n",
    "            data.append(pair) #(pair[1][0], pair[1][2][0]))\n",
    "        except:\n",
    "            break\n",
    "    break\n",
    "\n",
    "print(len(data), \"examples loaded\")"
   ]
  },
  {
   "cell_type": "code",
   "execution_count": 52,
   "id": "782ea1af",
   "metadata": {},
   "outputs": [
    {
     "name": "stdout",
     "output_type": "stream",
     "text": [
      "α : Type u_1\n",
      "β : Type u_2\n",
      "inst✝⁷ : Preorder α\n",
      "inst✝⁶ : Add α\n",
      "inst✝⁵ : Sub α\n",
      "inst✝⁴ : OrderedSub α\n",
      "a✝ b✝ c d : α\n",
      "inst✝³ : Preorder β\n",
      "inst✝² : Add β\n",
      "inst✝¹ : Sub β\n",
      "inst✝ : OrderedSub β\n",
      "f : AddHom α β\n",
      "hf : Monotone ⇑f\n",
      "a b : α\n",
      "nvar0 : ¬f a - f b ≤ f (a - b)\n",
      "⊢ False\n",
      "None\n"
     ]
    }
   ],
   "source": [
    "idx = 4\n",
    "\n",
    "print(data[idx][1][0])\n",
    "print(data[idx][1][2])"
   ]
  }
 ],
 "metadata": {
  "kernelspec": {
   "display_name": "atp",
   "language": "python",
   "name": "atp"
  },
  "language_info": {
   "codemirror_mode": {
    "name": "ipython",
    "version": 3
   },
   "file_extension": ".py",
   "mimetype": "text/x-python",
   "name": "python",
   "nbconvert_exporter": "python",
   "pygments_lexer": "ipython3",
   "version": "3.10.14"
  }
 },
 "nbformat": 4,
 "nbformat_minor": 5
}
