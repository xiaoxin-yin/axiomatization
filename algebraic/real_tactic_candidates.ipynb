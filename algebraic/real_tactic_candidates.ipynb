{
 "cells": [
  {
   "cell_type": "code",
   "execution_count": 1,
   "id": "00776665",
   "metadata": {},
   "outputs": [
    {
     "name": "stdout",
     "output_type": "stream",
     "text": [
      "Generating raw expressions...\n"
     ]
    },
    {
     "name": "stderr",
     "output_type": "stream",
     "text": [
      "100%|█████████████████████████████████████████████████████████████████████████████████████████████████████████████████████████████████████████████████████████| 2000000/2000000 [00:39<00:00, 50682.30it/s]\n"
     ]
    },
    {
     "name": "stdout",
     "output_type": "stream",
     "text": [
      "478661 expressions generated\n"
     ]
    },
    {
     "name": "stderr",
     "output_type": "stream",
     "text": [
      "  2%|██▉                                                                                                                                                          | 8775/478661 [00:00<00:24, 18945.28it/s]"
     ]
    },
    {
     "name": "stdout",
     "output_type": "stream",
     "text": [
      "10000\n",
      "((b + d) + (d * c)) * ((a * a) - (1 - c))\n"
     ]
    },
    {
     "data": {
      "text/latex": [
       "$\\displaystyle \\left(a^{2} + c - 1\\right) \\left(b + c d + d\\right)$"
      ],
      "text/plain": [
       "(a**2 + c - 1)*(b + c*d + d)"
      ]
     },
     "metadata": {},
     "output_type": "display_data"
    },
    {
     "name": "stderr",
     "output_type": "stream",
     "text": [
      "  4%|██████▏                                                                                                                                                     | 18939/478661 [00:01<00:23, 19825.00it/s]"
     ]
    },
    {
     "name": "stdout",
     "output_type": "stream",
     "text": [
      "20000\n",
      "((d - a) - (b - b)) * ((b + c) + 1)\n"
     ]
    },
    {
     "data": {
      "text/latex": [
       "$\\displaystyle \\left(- a + d\\right) \\left(b + c + 1\\right)$"
      ],
      "text/plain": [
       "(-a + d)*(b + c + 1)"
      ]
     },
     "metadata": {},
     "output_type": "display_data"
    },
    {
     "name": "stderr",
     "output_type": "stream",
     "text": [
      "  6%|█████████▌                                                                                                                                                  | 29261/478661 [00:01<00:21, 20533.10it/s]"
     ]
    },
    {
     "name": "stdout",
     "output_type": "stream",
     "text": [
      "30000\n",
      "((c * 1) * (0 + d)) * (d - (a * b))\n"
     ]
    },
    {
     "data": {
      "text/latex": [
       "$\\displaystyle c d \\left(- a b + d\\right)$"
      ],
      "text/plain": [
       "c*d*(-a*b + d)"
      ]
     },
     "metadata": {},
     "output_type": "display_data"
    },
    {
     "name": "stderr",
     "output_type": "stream",
     "text": [
      "  8%|████████████▊                                                                                                                                               | 39496/478661 [00:02<00:23, 18542.70it/s]"
     ]
    },
    {
     "name": "stdout",
     "output_type": "stream",
     "text": [
      "40000\n",
      "((d - 0) + c) * ((1 + a) - 1)\n"
     ]
    },
    {
     "data": {
      "text/latex": [
       "$\\displaystyle a \\left(c + d\\right)$"
      ],
      "text/plain": [
       "a*(c + d)"
      ]
     },
     "metadata": {},
     "output_type": "display_data"
    },
    {
     "name": "stderr",
     "output_type": "stream",
     "text": [
      " 10%|████████████████▏                                                                                                                                           | 49688/478661 [00:02<00:21, 20057.17it/s]"
     ]
    },
    {
     "name": "stdout",
     "output_type": "stream",
     "text": [
      "50000\n",
      "((c - a) - (0 - b)) + ((c - 0) * (c * 1))\n"
     ]
    },
    {
     "data": {
      "text/latex": [
       "$\\displaystyle - a + b + c^{2} + c$"
      ],
      "text/plain": [
       "-a + b + c**2 + c"
      ]
     },
     "metadata": {},
     "output_type": "display_data"
    },
    {
     "name": "stderr",
     "output_type": "stream",
     "text": [
      " 13%|███████████████████▌                                                                                                                                        | 59944/478661 [00:03<00:20, 20305.85it/s]"
     ]
    },
    {
     "name": "stdout",
     "output_type": "stream",
     "text": [
      "60000\n",
      "(b + 0) - ((b - a) * 1)\n"
     ]
    },
    {
     "data": {
      "text/latex": [
       "$\\displaystyle a$"
      ],
      "text/plain": [
       "a"
      ]
     },
     "metadata": {},
     "output_type": "display_data"
    },
    {
     "name": "stderr",
     "output_type": "stream",
     "text": [
      " 14%|██████████████████████▏                                                                                                                                     | 68205/478661 [00:03<00:21, 18934.88it/s]"
     ]
    },
    {
     "name": "stdout",
     "output_type": "stream",
     "text": [
      "70000\n",
      "((d - b) + (b * c)) + (d * (c + d))\n"
     ]
    },
    {
     "data": {
      "text/latex": [
       "$\\displaystyle b c - b + d \\left(c + d\\right) + d$"
      ],
      "text/plain": [
       "b*c - b + d*(c + d) + d"
      ]
     },
     "metadata": {},
     "output_type": "display_data"
    },
    {
     "name": "stderr",
     "output_type": "stream",
     "text": [
      " 16%|█████████████████████████▌                                                                                                                                  | 78444/478661 [00:04<00:19, 20016.49it/s]"
     ]
    },
    {
     "name": "stdout",
     "output_type": "stream",
     "text": [
      "80000\n",
      "((a + d) * (a - 0)) + (0 - d)\n"
     ]
    },
    {
     "data": {
      "text/latex": [
       "$\\displaystyle a \\left(a + d\\right) - d$"
      ],
      "text/plain": [
       "a*(a + d) - d"
      ]
     },
     "metadata": {},
     "output_type": "display_data"
    },
    {
     "name": "stderr",
     "output_type": "stream",
     "text": [
      " 19%|████████████████████████████▉                                                                                                                               | 88714/478661 [00:04<00:19, 20316.60it/s]"
     ]
    },
    {
     "name": "stdout",
     "output_type": "stream",
     "text": [
      "90000\n",
      "((0 * c) * (a * 1)) - ((a * 0) * (a - 0))\n"
     ]
    },
    {
     "data": {
      "text/latex": [
       "$\\displaystyle 0$"
      ],
      "text/plain": [
       "0"
      ]
     },
     "metadata": {},
     "output_type": "display_data"
    },
    {
     "name": "stderr",
     "output_type": "stream",
     "text": [
      " 21%|████████████████████████████████▎                                                                                                                           | 98958/478661 [00:05<00:19, 19429.86it/s]"
     ]
    },
    {
     "name": "stdout",
     "output_type": "stream",
     "text": [
      "100000\n",
      "((c - 1) * (c - 1)) - (0 + c)\n"
     ]
    },
    {
     "data": {
      "text/latex": [
       "$\\displaystyle - c + \\left(c - 1\\right)^{2}$"
      ],
      "text/plain": [
       "-c + (c - 1)**2"
      ]
     },
     "metadata": {},
     "output_type": "display_data"
    },
    {
     "name": "stderr",
     "output_type": "stream",
     "text": [
      " 23%|███████████████████████████████████▎                                                                                                                       | 109175/478661 [00:05<00:18, 20111.38it/s]"
     ]
    },
    {
     "name": "stdout",
     "output_type": "stream",
     "text": [
      "110000\n",
      "((0 * a) - a) * (d * (c * c))\n"
     ]
    },
    {
     "data": {
      "text/latex": [
       "$\\displaystyle - a c^{2} d$"
      ],
      "text/plain": [
       "-a*c**2*d"
      ]
     },
     "metadata": {},
     "output_type": "display_data"
    },
    {
     "name": "stderr",
     "output_type": "stream",
     "text": [
      " 25%|██████████████████████████████████████▋                                                                                                                    | 119432/478661 [00:06<00:21, 17063.40it/s]"
     ]
    },
    {
     "name": "stdout",
     "output_type": "stream",
     "text": [
      "120000\n",
      "((d + d) + 1) - b\n"
     ]
    },
    {
     "data": {
      "text/latex": [
       "$\\displaystyle - b + 2 d + 1$"
      ],
      "text/plain": [
       "-b + 2*d + 1"
      ]
     },
     "metadata": {},
     "output_type": "display_data"
    },
    {
     "name": "stderr",
     "output_type": "stream",
     "text": [
      " 27%|█████████████████████████████████████████▉                                                                                                                 | 129580/478661 [00:06<00:17, 19694.29it/s]"
     ]
    },
    {
     "name": "stdout",
     "output_type": "stream",
     "text": [
      "130000\n",
      "((d - b) + a) - b\n"
     ]
    },
    {
     "data": {
      "text/latex": [
       "$\\displaystyle a - 2 b + d$"
      ],
      "text/plain": [
       "a - 2*b + d"
      ]
     },
     "metadata": {},
     "output_type": "display_data"
    },
    {
     "name": "stderr",
     "output_type": "stream",
     "text": [
      " 29%|█████████████████████████████████████████████▎                                                                                                             | 139878/478661 [00:07<00:16, 20270.79it/s]"
     ]
    },
    {
     "name": "stdout",
     "output_type": "stream",
     "text": [
      "140000\n",
      "((b + d) - (1 * b)) * ((a * b) * c)\n"
     ]
    },
    {
     "data": {
      "text/latex": [
       "$\\displaystyle a b c d$"
      ],
      "text/plain": [
       "a*b*c*d"
      ]
     },
     "metadata": {},
     "output_type": "display_data"
    },
    {
     "name": "stderr",
     "output_type": "stream",
     "text": [
      " 31%|███████████████████████████████████████████████▉                                                                                                           | 148207/478661 [00:07<00:16, 20640.19it/s]"
     ]
    },
    {
     "name": "stdout",
     "output_type": "stream",
     "text": [
      "150000\n",
      "((d * d) - (a - d)) * (c - (a - d))\n"
     ]
    },
    {
     "data": {
      "text/latex": [
       "$\\displaystyle \\left(- a + c + d\\right) \\left(- a + d^{2} + d\\right)$"
      ],
      "text/plain": [
       "(-a + c + d)*(-a + d**2 + d)"
      ]
     },
     "metadata": {},
     "output_type": "display_data"
    },
    {
     "name": "stderr",
     "output_type": "stream",
     "text": [
      " 33%|███████████████████████████████████████████████████▎                                                                                                       | 158528/478661 [00:08<00:16, 18992.66it/s]"
     ]
    },
    {
     "name": "stdout",
     "output_type": "stream",
     "text": [
      "160000\n",
      "((d - c) + (d - 0)) + ((c - 1) * a)\n"
     ]
    },
    {
     "data": {
      "text/latex": [
       "$\\displaystyle a \\left(c - 1\\right) - c + 2 d$"
      ],
      "text/plain": [
       "a*(c - 1) - c + 2*d"
      ]
     },
     "metadata": {},
     "output_type": "display_data"
    },
    {
     "name": "stderr",
     "output_type": "stream",
     "text": [
      " 35%|██████████████████████████████████████████████████████▋                                                                                                    | 168908/478661 [00:08<00:15, 20390.67it/s]"
     ]
    },
    {
     "name": "stdout",
     "output_type": "stream",
     "text": [
      "170000\n",
      "a - ((a * c) + c)\n"
     ]
    },
    {
     "data": {
      "text/latex": [
       "$\\displaystyle - a c + a - c$"
      ],
      "text/plain": [
       "-a*c + a - c"
      ]
     },
     "metadata": {},
     "output_type": "display_data"
    },
    {
     "name": "stderr",
     "output_type": "stream",
     "text": [
      " 37%|██████████████████████████████████████████████████████████                                                                                                 | 179304/478661 [00:09<00:14, 20800.69it/s]"
     ]
    },
    {
     "name": "stdout",
     "output_type": "stream",
     "text": [
      "180000\n",
      "((1 * c) * a) + (a - 0)\n"
     ]
    },
    {
     "data": {
      "text/latex": [
       "$\\displaystyle a c + a$"
      ],
      "text/plain": [
       "a*c + a"
      ]
     },
     "metadata": {},
     "output_type": "display_data"
    },
    {
     "name": "stderr",
     "output_type": "stream",
     "text": [
      " 40%|█████████████████████████████████████████████████████████████▍                                                                                             | 189619/478661 [00:09<00:18, 15756.70it/s]"
     ]
    },
    {
     "name": "stdout",
     "output_type": "stream",
     "text": [
      "190000\n",
      "1 + ((1 * c) * 0)\n"
     ]
    },
    {
     "data": {
      "text/latex": [
       "$\\displaystyle 1$"
      ],
      "text/plain": [
       "1"
      ]
     },
     "metadata": {},
     "output_type": "display_data"
    },
    {
     "name": "stderr",
     "output_type": "stream",
     "text": [
      " 42%|████████████████████████████████████████████████████████████████▋                                                                                          | 199928/478661 [00:10<00:14, 19603.58it/s]"
     ]
    },
    {
     "name": "stdout",
     "output_type": "stream",
     "text": [
      "200000\n",
      "((c * a) + (1 + c)) * (c + 1)\n"
     ]
    },
    {
     "data": {
      "text/latex": [
       "$\\displaystyle \\left(c + 1\\right) \\left(a c + c + 1\\right)$"
      ],
      "text/plain": [
       "(c + 1)*(a*c + c + 1)"
      ]
     },
     "metadata": {},
     "output_type": "display_data"
    },
    {
     "name": "stderr",
     "output_type": "stream",
     "text": [
      " 43%|███████████████████████████████████████████████████████████████████▍                                                                                       | 208070/478661 [00:10<00:13, 20160.83it/s]"
     ]
    },
    {
     "name": "stdout",
     "output_type": "stream",
     "text": [
      "210000\n",
      "(a - c) + (0 - c)\n"
     ]
    },
    {
     "data": {
      "text/latex": [
       "$\\displaystyle a - 2 c$"
      ],
      "text/plain": [
       "a - 2*c"
      ]
     },
     "metadata": {},
     "output_type": "display_data"
    },
    {
     "name": "stderr",
     "output_type": "stream",
     "text": [
      " 46%|██████████████████████████████████████████████████████████████████████▋                                                                                    | 218347/478661 [00:11<00:12, 20235.43it/s]"
     ]
    },
    {
     "name": "stdout",
     "output_type": "stream",
     "text": [
      "220000\n",
      "((b - c) + (b + a)) * (d * (d + b))\n"
     ]
    },
    {
     "data": {
      "text/latex": [
       "$\\displaystyle d \\left(b + d\\right) \\left(a + 2 b - c\\right)$"
      ],
      "text/plain": [
       "d*(b + d)*(a + 2*b - c)"
      ]
     },
     "metadata": {},
     "output_type": "display_data"
    },
    {
     "name": "stderr",
     "output_type": "stream",
     "text": [
      " 48%|██████████████████████████████████████████████████████████████████████████                                                                                 | 228632/478661 [00:11<00:12, 20355.19it/s]"
     ]
    },
    {
     "name": "stdout",
     "output_type": "stream",
     "text": [
      "230000\n",
      "(c * 0) - (c - 0)\n"
     ]
    },
    {
     "data": {
      "text/latex": [
       "$\\displaystyle - c$"
      ],
      "text/plain": [
       "-c"
      ]
     },
     "metadata": {},
     "output_type": "display_data"
    },
    {
     "name": "stderr",
     "output_type": "stream",
     "text": [
      " 50%|█████████████████████████████████████████████████████████████████████████████▎                                                                             | 238742/478661 [00:12<00:16, 14620.75it/s]"
     ]
    },
    {
     "name": "stdout",
     "output_type": "stream",
     "text": [
      "240000\n",
      "1 * ((a * b) - (c + b))\n"
     ]
    },
    {
     "data": {
      "text/latex": [
       "$\\displaystyle a b - b - c$"
      ],
      "text/plain": [
       "a*b - b - c"
      ]
     },
     "metadata": {},
     "output_type": "display_data"
    },
    {
     "name": "stderr",
     "output_type": "stream",
     "text": [
      " 52%|████████████████████████████████████████████████████████████████████████████████▌                                                                          | 248966/478661 [00:13<00:12, 19110.46it/s]"
     ]
    },
    {
     "name": "stdout",
     "output_type": "stream",
     "text": [
      "250000\n",
      "(d * b) * (1 + (d - d))\n"
     ]
    },
    {
     "data": {
      "text/latex": [
       "$\\displaystyle b d$"
      ],
      "text/plain": [
       "b*d"
      ]
     },
     "metadata": {},
     "output_type": "display_data"
    },
    {
     "name": "stderr",
     "output_type": "stream",
     "text": [
      " 54%|███████████████████████████████████████████████████████████████████████████████████▉                                                                       | 259260/478661 [00:13<00:10, 20400.45it/s]"
     ]
    },
    {
     "name": "stdout",
     "output_type": "stream",
     "text": [
      "260000\n",
      "((d * d) - (1 - b)) - b\n"
     ]
    },
    {
     "data": {
      "text/latex": [
       "$\\displaystyle d^{2} - 1$"
      ],
      "text/plain": [
       "d**2 - 1"
      ]
     },
     "metadata": {},
     "output_type": "display_data"
    },
    {
     "name": "stderr",
     "output_type": "stream",
     "text": [
      " 56%|███████████████████████████████████████████████████████████████████████████████████████▎                                                                   | 269533/478661 [00:14<00:10, 20208.57it/s]"
     ]
    },
    {
     "name": "stdout",
     "output_type": "stream",
     "text": [
      "270000\n",
      "(0 * (c - 0)) + ((1 + c) * (a * 1))\n"
     ]
    },
    {
     "data": {
      "text/latex": [
       "$\\displaystyle a \\left(c + 1\\right)$"
      ],
      "text/plain": [
       "a*(c + 1)"
      ]
     },
     "metadata": {},
     "output_type": "display_data"
    },
    {
     "name": "stderr",
     "output_type": "stream",
     "text": [
      " 58%|██████████████████████████████████████████████████████████████████████████████████████████▌                                                                | 279774/478661 [00:14<00:09, 20284.05it/s]"
     ]
    },
    {
     "name": "stdout",
     "output_type": "stream",
     "text": [
      "280000\n",
      "((b * b) - c) * (1 * (a - a))\n"
     ]
    },
    {
     "data": {
      "text/latex": [
       "$\\displaystyle 0$"
      ],
      "text/plain": [
       "0"
      ]
     },
     "metadata": {},
     "output_type": "display_data"
    },
    {
     "name": "stderr",
     "output_type": "stream",
     "text": [
      " 60%|█████████████████████████████████████████████████████████████████████████████████████████████▎                                                             | 288031/478661 [00:14<00:09, 20291.81it/s]"
     ]
    },
    {
     "name": "stdout",
     "output_type": "stream",
     "text": [
      "290000\n",
      "c * ((a + a) + 0)\n"
     ]
    },
    {
     "data": {
      "text/latex": [
       "$\\displaystyle 2 a c$"
      ],
      "text/plain": [
       "2*a*c"
      ]
     },
     "metadata": {},
     "output_type": "display_data"
    },
    {
     "name": "stderr",
     "output_type": "stream",
     "text": [
      " 62%|████████████████████████████████████████████████████████████████████████████████████████████████▌                                                          | 298089/478661 [00:15<00:11, 15223.52it/s]"
     ]
    },
    {
     "name": "stdout",
     "output_type": "stream",
     "text": [
      "300000\n",
      "b * ((b * c) + (0 - b))\n"
     ]
    },
    {
     "data": {
      "text/latex": [
       "$\\displaystyle b \\left(b c - b\\right)$"
      ],
      "text/plain": [
       "b*(b*c - b)"
      ]
     },
     "metadata": {},
     "output_type": "display_data"
    },
    {
     "name": "stderr",
     "output_type": "stream",
     "text": [
      " 64%|███████████████████████████████████████████████████████████████████████████████████████████████████▉                                                       | 308492/478661 [00:16<00:08, 19634.15it/s]"
     ]
    },
    {
     "name": "stdout",
     "output_type": "stream",
     "text": [
      "310000\n",
      "0 * (0 - (a * b))\n"
     ]
    },
    {
     "data": {
      "text/latex": [
       "$\\displaystyle 0$"
      ],
      "text/plain": [
       "0"
      ]
     },
     "metadata": {},
     "output_type": "display_data"
    },
    {
     "name": "stderr",
     "output_type": "stream",
     "text": [
      " 67%|███████████████████████████████████████████████████████████████████████████████████████████████████████▏                                                   | 318804/478661 [00:16<00:07, 20434.57it/s]"
     ]
    },
    {
     "name": "stdout",
     "output_type": "stream",
     "text": [
      "320000\n",
      "((b - b) - (a + 0)) * (0 * (c + b))\n"
     ]
    },
    {
     "data": {
      "text/latex": [
       "$\\displaystyle 0$"
      ],
      "text/plain": [
       "0"
      ]
     },
     "metadata": {},
     "output_type": "display_data"
    },
    {
     "name": "stderr",
     "output_type": "stream",
     "text": [
      " 69%|██████████████████████████████████████████████████████████████████████████████████████████████████████████▌                                                | 329231/478661 [00:17<00:07, 20766.30it/s]"
     ]
    },
    {
     "name": "stdout",
     "output_type": "stream",
     "text": [
      "330000\n",
      "(0 - (b * b)) * ((d - 0) + (b - c))\n"
     ]
    },
    {
     "data": {
      "text/latex": [
       "$\\displaystyle - b^{2} \\left(b - c + d\\right)$"
      ],
      "text/plain": [
       "-b**2*(b - c + d)"
      ]
     },
     "metadata": {},
     "output_type": "display_data"
    },
    {
     "name": "stderr",
     "output_type": "stream",
     "text": [
      " 71%|█████████████████████████████████████████████████████████████████████████████████████████████████████████████▉                                             | 339669/478661 [00:17<00:06, 20411.06it/s]"
     ]
    },
    {
     "name": "stdout",
     "output_type": "stream",
     "text": [
      "340000\n",
      "(1 - a) + ((a * b) - d)\n"
     ]
    },
    {
     "data": {
      "text/latex": [
       "$\\displaystyle a b - a - d + 1$"
      ],
      "text/plain": [
       "a*b - a - d + 1"
      ]
     },
     "metadata": {},
     "output_type": "display_data"
    },
    {
     "name": "stderr",
     "output_type": "stream",
     "text": [
      " 73%|█████████████████████████████████████████████████████████████████████████████████████████████████████████████████▎                                         | 349840/478661 [00:18<00:06, 20163.20it/s]"
     ]
    },
    {
     "name": "stdout",
     "output_type": "stream",
     "text": [
      "350000\n",
      "((b * d) * (a + d)) + ((a - b) + (c - c))\n"
     ]
    },
    {
     "data": {
      "text/latex": [
       "$\\displaystyle a + b d \\left(a + d\\right) - b$"
      ],
      "text/plain": [
       "a + b*d*(a + d) - b"
      ]
     },
     "metadata": {},
     "output_type": "display_data"
    },
    {
     "name": "stderr",
     "output_type": "stream",
     "text": [
      " 75%|███████████████████████████████████████████████████████████████████████████████████████████████████████████████████▉                                       | 358121/478661 [00:18<00:05, 20640.25it/s]"
     ]
    },
    {
     "name": "stdout",
     "output_type": "stream",
     "text": [
      "360000\n",
      "((a + c) * d) * ((1 + c) - (c - 1))\n"
     ]
    },
    {
     "data": {
      "text/latex": [
       "$\\displaystyle 2 d \\left(a + c\\right)$"
      ],
      "text/plain": [
       "2*d*(a + c)"
      ]
     },
     "metadata": {},
     "output_type": "display_data"
    },
    {
     "name": "stderr",
     "output_type": "stream",
     "text": [
      " 77%|███████████████████████████████████████████████████████████████████████████████████████████████████████████████████████▎                                   | 368633/478661 [00:19<00:08, 13535.76it/s]"
     ]
    },
    {
     "name": "stdout",
     "output_type": "stream",
     "text": [
      "370000\n",
      "(b * 1) * ((1 - d) - 0)\n"
     ]
    },
    {
     "data": {
      "text/latex": [
       "$\\displaystyle b \\left(1 - d\\right)$"
      ],
      "text/plain": [
       "b*(1 - d)"
      ]
     },
     "metadata": {},
     "output_type": "display_data"
    },
    {
     "name": "stderr",
     "output_type": "stream",
     "text": [
      " 79%|██████████████████████████████████████████████████████████████████████████████████████████████████████████████████████████▋                                | 378738/478661 [00:19<00:05, 18671.05it/s]"
     ]
    },
    {
     "name": "stdout",
     "output_type": "stream",
     "text": [
      "380000\n",
      "((a * d) - (-1)) + ((d + c) + d)\n"
     ]
    },
    {
     "data": {
      "text/latex": [
       "$\\displaystyle a d + c + 2 d + 1$"
      ],
      "text/plain": [
       "a*d + c + 2*d + 1"
      ]
     },
     "metadata": {},
     "output_type": "display_data"
    },
    {
     "name": "stderr",
     "output_type": "stream",
     "text": [
      " 81%|█████████████████████████████████████████████████████████████████████████████████████████████████████████████████████████████▉                             | 388927/478661 [00:20<00:04, 20100.33it/s]"
     ]
    },
    {
     "name": "stdout",
     "output_type": "stream",
     "text": [
      "390000\n",
      "((0 - b) + (d * c)) - ((d - 1) - (c + c))\n"
     ]
    },
    {
     "data": {
      "text/latex": [
       "$\\displaystyle - b + c d + 2 c - d + 1$"
      ],
      "text/plain": [
       "-b + c*d + 2*c - d + 1"
      ]
     },
     "metadata": {},
     "output_type": "display_data"
    },
    {
     "name": "stderr",
     "output_type": "stream",
     "text": [
      " 83%|█████████████████████████████████████████████████████████████████████████████████████████████████████████████████████████████████▎                         | 399301/478661 [00:20<00:03, 20709.27it/s]"
     ]
    },
    {
     "name": "stdout",
     "output_type": "stream",
     "text": [
      "400000\n",
      "(0 - b) * ((b * b) * (d * 1))\n"
     ]
    },
    {
     "data": {
      "text/latex": [
       "$\\displaystyle - b^{3} d$"
      ],
      "text/plain": [
       "-b**3*d"
      ]
     },
     "metadata": {},
     "output_type": "display_data"
    },
    {
     "name": "stderr",
     "output_type": "stream",
     "text": [
      " 84%|█████████████████████████████████████████████████████████████████████████████████████████████████████████████████████████████████▌                         | 399999/478661 [00:20<00:04, 19177.31it/s]\n"
     ]
    }
   ],
   "source": [
    "import sympy as sp\n",
    "from sympy import symbols\n",
    "import random\n",
    "import re\n",
    "from tqdm import tqdm\n",
    "\n",
    "NUM_EXPR = 400000\n",
    "\n",
    "# Define the symbols\n",
    "a, b, c, d = symbols('a b c d')\n",
    "\n",
    "VARIABLES = ['a', 'b', 'c', 'd']\n",
    "OPERANDS = VARIABLES + ['0', '1']  # Use strings instead of symbols\n",
    "OPERATORS = ['+', '-', '*']\n",
    "\n",
    "\n",
    "def remove_single_letter_parentheses(expression):\n",
    "    # Use regex to find single letters surrounded by parentheses and remove the outermost ones\n",
    "    return re.sub(r'\\((\\s*[a-zA-Z0-9]\\s*)\\)', r'\\1', expression)\n",
    "\n",
    "def canonicalize_numeric_expression(expr_str):\n",
    "    is_numeric = False\n",
    "    if len([x for x in VARIABLES if x in expr_str]) == 0:\n",
    "        is_numeric = True\n",
    "    if is_numeric:\n",
    "        return str(sp.sympify(expr_str))\n",
    "    else:\n",
    "        return expr_str\n",
    "\n",
    "def generate_expression(depth=1):\n",
    "    if depth == 0 or random.random() < 0.333:\n",
    "        return random.choice(OPERANDS)  # Return variable name as a string\n",
    "    else:\n",
    "        left = generate_expression(depth - 1)\n",
    "        right = generate_expression(depth - 1)\n",
    "        op = random.choice(OPERATORS)\n",
    "        expr = f'({left}) {op} ({right})'\n",
    "        canon_expr = canonicalize_numeric_expression(expr)\n",
    "        return remove_single_letter_parentheses(canon_expr)\n",
    "\n",
    "# Generate multiple expressions\n",
    "print(\"Generating raw expressions...\")\n",
    "expr_strs = []\n",
    "for i in tqdm(range(5*NUM_EXPR)):\n",
    "    depth = 3\n",
    "    rand_num = random.random()\n",
    "    if rand_num < 0.5:\n",
    "        depth = 1\n",
    "    elif rand_num < 0.2:\n",
    "        depth = 2\n",
    "    expr_strs.append(generate_expression(depth))\n",
    "\n",
    "expr_strs = set(expr_strs)\n",
    "print(len(expr_strs), \"expressions generated\")\n",
    "\n",
    "# Convert strings to SymPy expressions and print them\n",
    "expressions = []\n",
    "for expr_str in tqdm(expr_strs):\n",
    "    expr = eval(expr_str)\n",
    "    expressions.append((expr_str, expr))\n",
    "    if len(expressions) % 10000 == 0:\n",
    "        print(len(expressions))\n",
    "        print(expr_str)\n",
    "        display(expr)\n",
    "    if len(expressions) >= NUM_EXPR:\n",
    "        break\n"
   ]
  },
  {
   "cell_type": "code",
   "execution_count": null,
   "id": "d64d0131",
   "metadata": {},
   "outputs": [
    {
     "name": "stderr",
     "output_type": "stream",
     "text": [
      " 25%|███████████████████████████████████████▍                                                                                                                      | 99971/400000 [05:23<14:11, 352.23it/s]"
     ]
    },
    {
     "data": {
      "text/latex": [
       "$\\displaystyle - c + \\left(c - 1\\right)^{2}$"
      ],
      "text/plain": [
       "-c + (c - 1)**2"
      ]
     },
     "metadata": {},
     "output_type": "display_data"
    },
    {
     "name": "stderr",
     "output_type": "stream",
     "text": [
      " 25%|███████████████████████████████████████▎                                                                                                                     | 100041/400000 [05:23<15:09, 329.86it/s]"
     ]
    },
    {
     "name": "stdout",
     "output_type": "stream",
     "text": [
      "[47.9445055649141, 43.0993448440499, 22.4640817639506, 31.6186160475676, 4.23967367534827, 49.5781080532419, 98.5527575421110, 35.1735479263439, 42.4016435275785, 0.408155938122027]\n"
     ]
    },
    {
     "name": "stderr",
     "output_type": "stream",
     "text": [
      " 50%|██████████████████████████████████████████████████████████████████████████████▍                                                                              | 199980/400000 [10:53<09:55, 336.01it/s]"
     ]
    },
    {
     "data": {
      "text/latex": [
       "$\\displaystyle \\left(c + 1\\right) \\left(a c + c + 1\\right)$"
      ],
      "text/plain": [
       "(c + 1)*(a*c + c + 1)"
      ]
     },
     "metadata": {},
     "output_type": "display_data"
    },
    {
     "name": "stderr",
     "output_type": "stream",
     "text": [
      " 50%|██████████████████████████████████████████████████████████████████████████████▌                                                                              | 200050/400000 [10:53<10:00, 333.15it/s]"
     ]
    },
    {
     "name": "stdout",
     "output_type": "stream",
     "text": [
      "[129.214432729026, -39.5405587516272, -149.196873600020, -352.280991615055, 0.878316361954931, -3.67151029296407, 392.391576573382, 89.6486960417835, 819.998339319942, 2.79101884911419]\n"
     ]
    },
    {
     "name": "stderr",
     "output_type": "stream",
     "text": [
      " 75%|█████████████████████████████████████████████████████████████████████████████████████████████████████████████████████▋                                       | 299996/400000 [16:28<04:36, 362.20it/s]"
     ]
    },
    {
     "data": {
      "text/latex": [
       "$\\displaystyle b \\left(b c - b\\right)$"
      ],
      "text/plain": [
       "b*(b*c - b)"
      ]
     },
     "metadata": {},
     "output_type": "display_data"
    },
    {
     "name": "stderr",
     "output_type": "stream",
     "text": [
      " 75%|█████████████████████████████████████████████████████████████████████████████████████████████████████████████████████▊                                       | 300068/400000 [16:28<04:55, 337.63it/s]"
     ]
    },
    {
     "name": "stdout",
     "output_type": "stream",
     "text": [
      "[-96.0841614927850, -58.7108097993840, 197.372046787824, 123.574488388819, -1.30716712283967, -428.646542654690, -277.915091765666, 48.5471595894542, 5.46237431262582, -43.9477261363075]\n"
     ]
    },
    {
     "name": "stderr",
     "output_type": "stream",
     "text": [
      " 99%|███████████████████████████████████████████████████████████████████████████████████████████████████████████████████████████████████████████████████████████▏ | 395225/400000 [21:47<00:14, 318.37it/s]"
     ]
    }
   ],
   "source": [
    "from tqdm import tqdm\n",
    "import sympy as sp\n",
    "import random\n",
    "\n",
    "NUM_VALUE_SET = 10\n",
    "\n",
    "# Define the symbols\n",
    "a, b, c, d = sp.symbols('a b c d')\n",
    "\n",
    "# Define your SymPy expression\n",
    "# For example, let's assume the expression is:\n",
    "#expr = (a) * (c - d) + a * d\n",
    "\n",
    "# Generate multiple sets of real values\n",
    "value_sets = []\n",
    "\n",
    "for _ in range(NUM_VALUE_SET):\n",
    "    # Generate random real numbers for a, b, c, d\n",
    "    # You can adjust the range as needed\n",
    "    a_val = random.uniform(-10, 10)\n",
    "    b_val = random.uniform(-10, 10)\n",
    "    c_val = random.uniform(-10, 10)\n",
    "    d_val = random.uniform(-10, 10)\n",
    "    # Create a dictionary of values\n",
    "    values = {'a': a_val, 'b': b_val, 'c': c_val, 'd': d_val}\n",
    "    value_sets.append(values)\n",
    "\n",
    "expr_values = {}\n",
    "\n",
    "for i in tqdm(range(len(expressions))):\n",
    "    expr_str, expr = expressions[i]\n",
    "    is_numeric = False\n",
    "    if not ('a' in expr_str or 'b' in expr_str or 'c' in expr_str or 'd' in expr_str):\n",
    "        is_numeric = True\n",
    "    # Evaluate the expression at each set of values\n",
    "    vals = []\n",
    "    for i, values in enumerate(value_sets):\n",
    "        # Substitute the values into the expression\n",
    "        if not is_numeric:\n",
    "            expr_value = expr.subs(values)\n",
    "            # Evaluate the numerical result\n",
    "            val = expr_value.evalf()\n",
    "        else:\n",
    "            val = float(expr)\n",
    "        vals.append(val)\n",
    "        #print(f\"Set {i+1}: a={values['a']:.2f}, b={values['b']:.2f}, c={values['c']:.2f}, d={values['d']:.2f}, Expression Value = {expr_value:.4f}\")\n",
    "    expr_values[expr_str] = vals\n",
    "    if len(expr_values) % 100000 == 0:\n",
    "        display(expr)\n",
    "        print(vals)\n"
   ]
  },
  {
   "cell_type": "code",
   "execution_count": 40,
   "id": "61e88416",
   "metadata": {},
   "outputs": [],
   "source": [
    "import pickle\n",
    "\n",
    "#fout = open(\"datasets/expr_values_20241102.pkl\", \"wb\")\n",
    "fout = open(\"datasets/test_values.pkl\", \"wb\")\n",
    "pickle.dump(expressions, fout)\n",
    "pickle.dump(value_sets, fout)\n",
    "pickle.dump(expr_values, fout)\n",
    "fout.close()"
   ]
  },
  {
   "cell_type": "code",
   "execution_count": 21,
   "id": "7bcd03e1",
   "metadata": {},
   "outputs": [],
   "source": [
    "# import pickle\n",
    "\n",
    "# fin = open(\"datasets/test_expr_values.pkl\", \"rb\")\n",
    "# expressions = pickle.load(fin)\n",
    "# value_sets = pickle.load(fin)\n",
    "# expr_values = pickle.load(fin)\n",
    "# fin.close()"
   ]
  },
  {
   "cell_type": "code",
   "execution_count": 41,
   "id": "20a70d16",
   "metadata": {},
   "outputs": [
    {
     "data": {
      "text/plain": [
       "[('((a - 1) - (a * b)) + (d * a)', -a*b + a*d + a - 1),\n",
       " ('((a + 1) + (a * 1)) + c', 2*a + c + 1),\n",
       " ('((a * a) * (d - a)) - ((1 - a) + 0)', a**2*(-a + d) + a - 1),\n",
       " ('(a * (a - 1)) + ((a * b) + 0)', a*b + a*(a - 1)),\n",
       " ('((c + c) - 1) * (c * (d - 0))', c*d*(2*c - 1)),\n",
       " ('((d - c) - (c - d)) * ((0 - c) + (a + a))', (2*a - c)*(-2*c + 2*d)),\n",
       " ('((b - a) * d) + ((b - b) - (d + b))', -b + d*(-a + b) - d),\n",
       " ('(b + a) * (d + (0 + c))', (a + b)*(c + d)),\n",
       " ('((c * 1) * 1) * 0', 0),\n",
       " ('(0 - (b - d)) - c', -b - c + d),\n",
       " ('((b * c) * (b + b)) + (a - 1)', a + 2*b**2*c - 1),\n",
       " ('((a + a) - (1 - d)) * 0', 0),\n",
       " ('((c * c) - (c - a)) * ((0 * c) * (b + a))', 0),\n",
       " ('((d - c) + 1) + (d + (d + b))', b - c + 3*d + 1),\n",
       " ('((0 - c) * (d - c)) - ((c - b) + 2)', b - c*(-c + d) - c - 2),\n",
       " ('(0 + a) - ((c * 1) - 0)', a - c),\n",
       " ('((a - b) - d) - ((d - b) * (b * b))', a - b**2*(-b + d) - b - d),\n",
       " ('(0 * b) - ((0 + d) * d)', -d**2),\n",
       " ('2 * ((1 - c) + (d - a))', -2*a - 2*c + 2*d + 2),\n",
       " ('((b * 0) - 1) + ((b - b) - (c * 1))', -c - 1),\n",
       " ('((1 - b) + 0) * d', d*(1 - b)),\n",
       " ('(a * (a * a)) * (0 * d)', 0),\n",
       " ('((a - a) - (c * b)) * ((0 + d) - c)', -b*c*(-c + d)),\n",
       " ('(d * (b * 1)) * (d * (d + 1))', b*d**2*(d + 1)),\n",
       " ('(c - (d + 1)) - c', -d - 1),\n",
       " ('((a + 1) * a) * ((a + d) + 1)', a*(a + 1)*(a + d + 1)),\n",
       " ('((c - 1) - (c - a)) * ((a + 1) - c)', (a - 1)*(a - c + 1)),\n",
       " ('((c + a) - (0 + d)) * d', d*(a + c - d)),\n",
       " ('((b * 0) + (d * 1)) * (b * (a + c))', b*d*(a + c)),\n",
       " ('((a * 0) - 0) * ((c - a) + (c * d))', 0)]"
      ]
     },
     "execution_count": 41,
     "metadata": {},
     "output_type": "execute_result"
    }
   ],
   "source": [
    "expressions[0:30]"
   ]
  },
  {
   "cell_type": "code",
   "execution_count": 52,
   "id": "87a7762b",
   "metadata": {},
   "outputs": [
    {
     "name": "stdout",
     "output_type": "stream",
     "text": [
      "Generating signatures of expressions\n"
     ]
    },
    {
     "name": "stderr",
     "output_type": "stream",
     "text": [
      "100%|██████████████████████████████████████████████████████████████████████████████████████████████████████████████████████████████████████████████████████████████| 100000/100000 [00:34<00:00, 2915.67it/s]\n"
     ]
    },
    {
     "name": "stdout",
     "output_type": "stream",
     "text": [
      "Checking signatures\n"
     ]
    },
    {
     "name": "stderr",
     "output_type": "stream",
     "text": [
      "100%|███████████████████████████████████████████████████████████████████████████████████████████████████████████████████████████████████████████████████████████| 1463142/1463142 [01:26<00:00, 16834.71it/s]\n"
     ]
    }
   ],
   "source": [
    "import itertools\n",
    "from tqdm import tqdm\n",
    "from collections import defaultdict\n",
    "\n",
    "MAX_NUM_EXPR_PER_VALUE_SET = 64\n",
    "\n",
    "\n",
    "# # Example expr_values dictionary\n",
    "# # Replace this with your actual data\n",
    "# expr_values = {\n",
    "#     # SymPy expressions as keys (using strings for simplicity)\n",
    "#     'expr1': [1.0, 2.0, 3.0, 4.0, 5.0, 16.0, 17.0, 18.0, 9.0, 10.0],\n",
    "#     'expr2': [0.0, 2.0, 3.0, 4.0, 5.0, 16.0, 17.0, 18.0, 19.0, 10.0],\n",
    "#     'expr3': [1.0, 2.0, 3.0, 4.0, 5.0, 16.0, 17.0, 18.0, 19.0, 20.0],\n",
    "#     'expr4': [11.0, 12.0, 13.0, 14.0, 15.0, 6.0, 7.0, 8.0, 9.0, 10.0],\n",
    "#     'expr5': [1.0, 2.0, 3.0, 4.0, 25.0, 26.0, 27.0, 28.0, 29.0, 30.0],\n",
    "#     # Add more expressions as needed\n",
    "# }\n",
    "\n",
    "def variable_name_generator():\n",
    "    import string\n",
    "    letters = string.ascii_lowercase\n",
    "    n = 0\n",
    "    while True:\n",
    "        s = ''\n",
    "        n_copy = n\n",
    "        while True:\n",
    "            s = letters[n_copy % 26] + s\n",
    "            n_copy = n_copy // 26 - 1\n",
    "            if n_copy < 0:\n",
    "                break\n",
    "        yield s\n",
    "        n += 1\n",
    "\n",
    "def canonicalize_expression(expr):\n",
    "    mapping = {}\n",
    "    result = ''\n",
    "    var_gen = variable_name_generator()\n",
    "\n",
    "    for char in expr:\n",
    "        if char.isalpha():\n",
    "            if char not in mapping:\n",
    "                mapping[char] = next(var_gen)\n",
    "            result += mapping[char]\n",
    "        else:\n",
    "            result += char\n",
    "\n",
    "    return result\n",
    "\n",
    "def canonicalize_expression_pair(pair):\n",
    "    new_str = pair[0] + '#' + pair[1]\n",
    "    new_str = canonicalize_expression(new_str)\n",
    "    return tuple(new_str.split('#'))\n",
    "\n",
    "def find_overlapping_pairs(expr_values, value_size, min_overlap):\n",
    "    # Step 1: Create a mapping from signatures to expressions\n",
    "    signature_map = defaultdict(set)\n",
    "\n",
    "    # Function to generate signatures and update the signature_map\n",
    "    def generate_signatures(expr_key, values_list):\n",
    "        positions = list(range(len(values_list)))  # Positions from 0 to 9\n",
    "        # Generate subsets of positions of sizes 8, 9, and 10\n",
    "        for r in range(min_overlap, value_size+1):\n",
    "            position_subsets = itertools.combinations(positions, r)\n",
    "            for pos_subset in position_subsets:\n",
    "                # Extract values at the selected positions\n",
    "                value_subset = tuple((pos, values_list[pos]) for pos in pos_subset)\n",
    "                # Use the value_subset as a signature\n",
    "                signature_map[value_subset].add(expr_key)\n",
    "\n",
    "    # Populate the signature_map\n",
    "    print(\"Generating signatures of expressions\")\n",
    "    for expr_key, values_list in tqdm(expr_values.items()):\n",
    "        generate_signatures(expr_key, values_list)\n",
    "\n",
    "    # Step 2: Find all pairs of expressions sharing at least 8 common values at the same positions\n",
    "    result_pairs = set()\n",
    "\n",
    "    print(\"Checking signatures\")\n",
    "    for signature, expr_set in tqdm(signature_map.items()):\n",
    "        if len(expr_set) > 1:\n",
    "            # Generate all unique pairs of expressions\n",
    "            expr_list = list(expr_set)\n",
    "            expr_list = sorted(expr_list, key=len)[0:MAX_NUM_EXPR_PER_VALUE_SET]\n",
    "            for i in range(len(expr_list)):\n",
    "                for j in range(i + 1, len(expr_list)):\n",
    "                    pair = tuple(sorted([expr_list[i], expr_list[j]], key=len, reverse=True))\n",
    "                    pair = canonicalize_expression_pair(pair)\n",
    "                    result_pairs.add(pair)\n",
    "\n",
    "    # Step 3: Output the pairs\n",
    "    #print(\"Expressions sharing at least 8 common values at the same positions:\")\n",
    "    #for pair in sorted(result_pairs):\n",
    "    #    print(f\"{pair[0]} and {pair[1]}\")\n",
    "        \n",
    "    return result_pairs\n",
    "\n",
    "equiv_pairs = find_overlapping_pairs(expr_values, 10, 8)\n",
    "equiv_pairs = sorted(equiv_pairs, key=lambda pair: len(str(pair[0])) + len(str(pair[1])))"
   ]
  },
  {
   "cell_type": "code",
   "execution_count": 74,
   "id": "d5b1f79b",
   "metadata": {},
   "outputs": [
    {
     "name": "stderr",
     "output_type": "stream",
     "text": [
      "100%|██████████████████████████████████████████████████████████████████████████████████████████████████████████████████████████████████████████████████████████| 650245/650245 [00:05<00:00, 116276.83it/s]\n"
     ]
    }
   ],
   "source": [
    "from collections import defaultdict\n",
    "\n",
    "def create_shortening_mappings(pairs):\n",
    "    mapping = defaultdict(set)\n",
    "    for e1, e2 in pairs:\n",
    "        if len(e1) > len(e2):\n",
    "            mapping[e1].add(e2)\n",
    "        if len(e1) < len(e2):\n",
    "            mapping[e2].add(e1)\n",
    "    return mapping\n",
    "            \n",
    "def find_parentheses_substrings(s):\n",
    "    stack = []\n",
    "    substrings = []\n",
    "    for i, c in enumerate(s):\n",
    "        if c == '(':\n",
    "            stack.append(i)\n",
    "        elif c == ')':\n",
    "            if stack:\n",
    "                j = stack.pop()\n",
    "                substrings.append(s[j:i+1])\n",
    "            else:\n",
    "                # Handle unmatched closing parenthesis if necessary\n",
    "                pass\n",
    "    return substrings\n",
    "\n",
    "def shorten_expr(expr, mapping):\n",
    "    output = []\n",
    "    #if expr in mapping:\n",
    "    #    output.extend(mapping[expr])\n",
    "    parentheses_exprs = find_parentheses_substrings(expr)\n",
    "    for parentheses_expr in parentheses_exprs:\n",
    "        sub_expr = parentheses_expr[1:-1]\n",
    "        if sub_expr in mapping:\n",
    "            for short_expr in mapping[sub_expr]:\n",
    "                if len(short_expr) > 2:\n",
    "                    new_expr = expr.replace(parentheses_expr, '(' + short_expr + ')')\n",
    "                else:\n",
    "                    new_expr = expr.replace(parentheses_expr, short_expr)\n",
    "                output.append(new_expr)\n",
    "    return output\n",
    "\n",
    "def repeated_shorten_expr(expr, mapping):\n",
    "    attempts = 5\n",
    "    while attempts > 0:\n",
    "        shorted_exprs = shorten_expr(expr, mapping)\n",
    "        if len(shorted_exprs) == 0:\n",
    "            break\n",
    "        else:\n",
    "            expr = min(shorted_exprs, key=len)\n",
    "            attempts -= 1\n",
    "    is_numeric = False\n",
    "    if len([x for x in VARIABLES if x in expr]) == 0:\n",
    "        is_numeric = True\n",
    "    if is_numeric:\n",
    "        return str(sp.sympify(expr))\n",
    "    else:\n",
    "        return expr\n",
    "\n",
    "mapping = create_shortening_mappings(equiv_pairs)\n",
    "shortened_pairs = set()\n",
    "for e1, e2 in tqdm(equiv_pairs):\n",
    "    shortened_e1 = repeated_shorten_expr(e1, mapping)\n",
    "    shortened_e2 = repeated_shorten_expr(e2, mapping)\n",
    "    shortened_e1, shortened_e2 = canonicalize_expression_pair((shortened_e1, shortened_e2))\n",
    "    if shortened_e1 != shortened_e2:\n",
    "        shortened_pairs.add(tuple(sorted([shortened_e1, shortened_e2], key=lambda x: (-len(x), x))))\n",
    "\n",
    "shortened_pairs = sorted(shortened_pairs, key=lambda pair: len(str(pair[0])) + len(str(pair[1])))"
   ]
  },
  {
   "cell_type": "code",
   "execution_count": 75,
   "id": "7455da56",
   "metadata": {},
   "outputs": [
    {
     "data": {
      "text/plain": [
       "[('0 + a', 'a'),\n",
       " ('a * 1', 'a'),\n",
       " ('a * 0', '0'),\n",
       " ('a + 0', 'a'),\n",
       " ('0 * a', '0'),\n",
       " ('1 * a', 'a'),\n",
       " ('a - a', '0'),\n",
       " ('a - 0', 'a'),\n",
       " ('2 + a', 'a + 2'),\n",
       " ('a * 0', 'b - b'),\n",
       " ('3 * a', 'a * 3'),\n",
       " ('a + 0', 'a - 0'),\n",
       " ('0 * a', 'a * 0'),\n",
       " ('0 * a', 'a - a'),\n",
       " ('a * 1', 'a + 0'),\n",
       " ('0 * b', 'a * 0'),\n",
       " ('a * 1', 'a - 0'),\n",
       " ('0 * b', 'a - a'),\n",
       " ('1 * a', 'a * 1'),\n",
       " ('0 * a', '0 * b'),\n",
       " ('a * 0', 'b * 0'),\n",
       " ('0 + a', 'a * 1'),\n",
       " ('1 + a', 'a + 1'),\n",
       " ('0 * a', 'b - b'),\n",
       " ('1 * a', 'a + 0'),\n",
       " ('0 + a', '1 * a'),\n",
       " ('0 * a', 'b * 0'),\n",
       " ('a * 2', 'a + a'),\n",
       " ('a - a', 'b - b'),\n",
       " ('1 * a', 'a - 0'),\n",
       " ('a + b', 'b + a'),\n",
       " ('0 + a', 'a + 0'),\n",
       " ('a * 0', 'a - a'),\n",
       " ('0 + a', 'a - 0'),\n",
       " ('2 * a', 'a + a'),\n",
       " ('2 * a', 'a * 2'),\n",
       " ('a * b', 'b * a'),\n",
       " ('a - a', 'b * 0'),\n",
       " ('1 - (a - a)', '1'),\n",
       " ('(a + 2) * 0', '0'),\n",
       " ('(0 - a) * 0', '0'),\n",
       " ('a * (b - b)', '0'),\n",
       " ('0 * (0 - a)', '0'),\n",
       " ('a - (a - 1)', '1'),\n",
       " ('(a + 1) - a', '1'),\n",
       " ('(a * 0) * 0', '0'),\n",
       " ('0 * (a * 0)', '0'),\n",
       " ('(a - a) + 1', '1'),\n",
       " ('(a + 2) - a', '2'),\n",
       " ('(a * 0) + 2', '2'),\n",
       " ('1 + (a - 1)', 'a'),\n",
       " ('a - (a - 0)', '0'),\n",
       " ('2 - (a * 0)', '2'),\n",
       " ('0 + (0 * a)', '0'),\n",
       " ('(a * 0) * b', '0'),\n",
       " ('a * (b * 0)', '0'),\n",
       " ('(1 + a) - 1', 'a'),\n",
       " ('(0 * a) - 0', '0'),\n",
       " ('(a + a) * 0', '0'),\n",
       " ('(a - a) + 0', '0'),\n",
       " ('(2 - a) + a', '2'),\n",
       " ('(a + a) - a', 'a'),\n",
       " ('a + (2 - a)', '2'),\n",
       " ('0 * (a - b)', '0'),\n",
       " ('1 + (a * 0)', '1'),\n",
       " ('(a * 0) - 0', '0'),\n",
       " ('a - (0 * b)', 'a'),\n",
       " ('(a - 2) * 0', '0'),\n",
       " ('a - (b * 0)', 'a'),\n",
       " ('1 + (0 * a)', '1'),\n",
       " ('0 * (a * a)', '0'),\n",
       " ('(a - 0) - a', '0'),\n",
       " ('0 * (1 * a)', '0'),\n",
       " ('a - (a - 2)', '2'),\n",
       " ('a + (b - b)', 'a'),\n",
       " ('0 * (a + 0)', '0'),\n",
       " ('(a - a) * 0', '0'),\n",
       " ('1 - (a * 0)', '1'),\n",
       " ('2 + (0 * a)', '2'),\n",
       " ('0 - (0 * a)', '0'),\n",
       " ('0 * (1 + a)', '0'),\n",
       " ('(a * 0) * a', '0'),\n",
       " ('1 - (0 * a)', '1'),\n",
       " ('(1 - a) + a', '1'),\n",
       " ('a + (b - a)', 'b'),\n",
       " ('a - (b - b)', 'a'),\n",
       " ('(a + b) * 0', '0'),\n",
       " ('(0 * a) + 0', '0'),\n",
       " ('(a * 0) + 1', '1'),\n",
       " ('1 - (1 - a)', 'a'),\n",
       " ('(a - 1) + 1', 'a'),\n",
       " ('0 * (0 * a)', '0'),\n",
       " ('1 * (0 * a)', '0'),\n",
       " ('(a * a) * 0', '0'),\n",
       " ('(a + b) - a', 'b'),\n",
       " ('a * (0 * b)', '0'),\n",
       " ('0 * (a * b)', '0'),\n",
       " ('(0 * a) * b', '0'),\n",
       " ('(a + 1) - 1', 'a'),\n",
       " ('0 - (0 - a)', 'a'),\n",
       " ('(a * b) * 0', '0'),\n",
       " ('(a * 0) + 0', '0'),\n",
       " ('(0 * a) * 2', '0'),\n",
       " ('(a - b) + b', 'a'),\n",
       " ('0 * (a + a)', '0'),\n",
       " ('a + (b * 0)', 'a'),\n",
       " ('(a - a) * b', '0'),\n",
       " ('a + (1 - a)', '1'),\n",
       " ('1 * (a - a)', '0'),\n",
       " ('a + (0 * b)', 'a'),\n",
       " ('(0 * a) + 2', '2'),\n",
       " ('(0 * a) + 1', '1'),\n",
       " ('(a - b) * 0', '0'),\n",
       " ('0 * (1 - a)', '0'),\n",
       " ('(a + b) - b', 'a'),\n",
       " ('(1 * a) * 0', '0'),\n",
       " ('a - (a - b)', 'b'),\n",
       " ('(1 + a) - a', '1'),\n",
       " ('1 + (a - a)', '1'),\n",
       " ('(-1) * a', '0 - a'),\n",
       " ('(0 * a) - 1', '-1'),\n",
       " ('(a - a) - 1', '-1'),\n",
       " ('a + (-1)', 'a - 1'),\n",
       " ('a - (a + 1)', '-1'),\n",
       " ('a - (-1)', '1 + a'),\n",
       " ('a - (-2)', '2 + a'),\n",
       " ('a * (-1)', '0 - a'),\n",
       " ('a - (2 + a)', '-2'),\n",
       " ('a - (-2)', 'a + 2'),\n",
       " ('a - (-1)', 'a + 1'),\n",
       " ('(a - 2) - a', '-2'),\n",
       " ('a - (a + 2)', '-2'),\n",
       " ('(a * 0) - 1', '-1'),\n",
       " ('a - (1 + a)', '-1'),\n",
       " ('(a - 1) - a', '-1'),\n",
       " ('(0 * a) - 2', '-2'),\n",
       " ('(-2) + a', 'a - 2'),\n",
       " ('(-1) + a', 'a - 1'),\n",
       " ('a + (-2)', 'a - 2'),\n",
       " ('a - ((-1) + a)', '1'),\n",
       " ('(0 * a) - (-1)', '1'),\n",
       " ('a * (b * 0)', '0 * c'),\n",
       " ('0 * (a - b)', '0 * b'),\n",
       " ('b - (b - 0)', '0 * a'),\n",
       " ('a * (b - b)', '0 * b'),\n",
       " ('a + (1 * a)', 'a + a'),\n",
       " ('a * (0 + b)', 'a * b'),\n",
       " ('(b - a) - b', '0 - a'),\n",
       " ('(a - a) + a', '0 + a'),\n",
       " ('(2 - a) - 1', '1 - a'),\n",
       " ('(b * 0) + a', 'a + 0'),\n",
       " ('(b * 0) * a', '0 * a'),\n",
       " ('(0 * b) + a', 'a * 1'),\n",
       " ('(0 + 2) * a', 'a + a'),\n",
       " ('(b * 0) * 1', 'a - a'),\n",
       " ('1 * (1 - a)', '1 - a'),\n",
       " ('1 * (b * a)', 'a * b'),\n",
       " ('(a + 2) + 0', 'a + 2'),\n",
       " ('(b - a) * 0', 'a - a'),\n",
       " ('0 + (1 + a)', '1 + a'),\n",
       " ('b * (a - a)', '0 * a'),\n",
       " ('0 + (0 * b)', '0 * a'),\n",
       " ('(2 - 0) + a', '2 + a'),\n",
       " ('(0 + 2) * a', '2 * a'),\n",
       " ('0 + (b + a)', 'a + b'),\n",
       " ('2 + (0 - a)', '2 - a'),\n",
       " ('0 * (1 + a)', 'a * 0'),\n",
       " ('(a + b) - b', '0 + a'),\n",
       " ('(a * 2) + 0', 'a + a'),\n",
       " ('0 * (a * a)', '0 * a'),\n",
       " ('a + (b - 0)', 'b + a'),\n",
       " ('(b - b) + a', '0 + a'),\n",
       " ('(a + a) * 0', 'b - b'),\n",
       " ('(1 * a) - 1', 'a - 1'),\n",
       " ('a * (b - b)', 'c * 0'),\n",
       " ('0 * (b * b)', '0 * a'),\n",
       " ('(2 + a) - 0', '2 + a'),\n",
       " ('(a + 2) - 1', 'a + 1'),\n",
       " ('1 + (1 + a)', 'a + 2'),\n",
       " ('(b * 0) + a', 'a - 0'),\n",
       " ('0 * (1 * a)', '0 * a'),\n",
       " ('a + (0 * a)', '0 + a'),\n",
       " ('1 + (a + 1)', 'a + 2'),\n",
       " ('a - (0 * b)', 'a + 0'),\n",
       " ('(a * 2) + 0', 'a * 2'),\n",
       " ('(0 - a) + 1', '1 - a'),\n",
       " ('(0 * b) * 2', '0 * a'),\n",
       " ('1 + (1 * a)', 'a + 1'),\n",
       " ('a + (a + 0)', 'a * 2'),\n",
       " ('(0 - b) + a', 'a - b'),\n",
       " ('(a + 1) - 1', '1 * a'),\n",
       " ('(b * 0) * 0', 'a - a'),\n",
       " ('(1 + a) + 1', 'a + 2'),\n",
       " ('(b * 0) * b', '0 * a'),\n",
       " ('(b - c) * 0', 'a - a'),\n",
       " ('b + (a - b)', 'a - 0'),\n",
       " ('a - (b * 0)', 'a + 0'),\n",
       " ('1 - (1 - a)', '0 + a'),\n",
       " ('0 - (0 - a)', '1 * a'),\n",
       " ('(b + a) * 0', 'a - a'),\n",
       " ('(a + 2) * 0', 'b * 0'),\n",
       " ('(0 + 1) + a', 'a + 1'),\n",
       " ('(a - 0) * 1', '0 + a'),\n",
       " ('1 * (a + a)', 'a * 2'),\n",
       " ('(a * 1) + 1', 'a + 1'),\n",
       " ('1 * (a + 2)', '2 + a'),\n",
       " ('0 * (a - b)', 'b - b'),\n",
       " ('(0 - a) * 0', 'b * 0'),\n",
       " ('(b - b) * 0', 'a * 0'),\n",
       " ('(0 * b) + a', '1 * a'),\n",
       " ('0 * (a * a)', '0 * b'),\n",
       " ('(0 + 0) - a', '0 - a'),\n",
       " ('a * (a - 0)', 'a * a'),\n",
       " ('(0 + a) + 1', 'a + 1'),\n",
       " ('b - (a + b)', '0 - a'),\n",
       " ('(b + c) * 0', '0 * a'),\n",
       " ('(a * a) - 0', 'a * a'),\n",
       " ('(b - b) * 0', 'a - a'),\n",
       " ('(1 * b) * a', 'a * b'),\n",
       " ('(a * 1) + a', 'a * 2'),\n",
       " ('(a + b) * 0', 'a * 0'),\n",
       " ('0 * (a - b)', '0 * c'),\n",
       " ('a * (b - b)', '0 * c'),\n",
       " ('a + (0 * b)', 'a * 1'),\n",
       " ('(b * a) * 1', 'a * b'),\n",
       " ('a - (0 - b)', 'b + a'),\n",
       " ('1 * (a * b)', 'a * b'),\n",
       " ('(1 + 0) - a', '1 - a'),\n",
       " ('0 + (0 * a)', '0 * a'),\n",
       " ('b + (0 + a)', 'a + b'),\n",
       " ('(2 + a) + 0', '2 + a'),\n",
       " ('(a + b) * 0', 'a - a'),\n",
       " ('(a * 0) * b', '0 * a'),\n",
       " ('(0 + 1) - a', '1 - a'),\n",
       " ('(b * 0) - 0', 'a - a'),\n",
       " ('(a - b) + b', '1 * a'),\n",
       " ('(1 * a) - b', 'a - b'),\n",
       " ('(b * 0) * c', 'a - a'),\n",
       " ('(-1) * a', 'a * (-1)'),\n",
       " ('(a * 2) - 0', '2 * a'),\n",
       " ('(a + 0) + 1', '1 + a'),\n",
       " ('(2 + 0) + a', '2 + a'),\n",
       " ('1 + (a + 2)', 'a + 3'),\n",
       " ('a + (b * 0)', '1 * a'),\n",
       " ('(1 + 0) + a', 'a + 1'),\n",
       " ('a * (b * 0)', '0 * a'),\n",
       " ('0 + (a * b)', 'b * a'),\n",
       " ('a - (a - b)', '1 * b'),\n",
       " ('a + (b + 0)', 'b + a'),\n",
       " ('(a + 2) - 0', '2 + a'),\n",
       " ('a + (1 + 0)', 'a + 1'),\n",
       " ('(a * 2) * 1', 'a + a'),\n",
       " ('a * (b - b)', 'c - c'),\n",
       " ('(0 * b) + 0', 'a - a'),\n",
       " ('a * (1 * b)', 'a * b'),\n",
       " ('0 - (0 - a)', '0 + a'),\n",
       " ('(0 + a) + 1', '1 + a'),\n",
       " ('(a * 2) * 1', '2 * a'),\n",
       " ('(a + b) - b', 'a * 1'),\n",
       " ('(a + a) - 0', 'a * 2'),\n",
       " ('(b + a) - b', '1 * a'),\n",
       " ('a * (b - b)', 'b * 0'),\n",
       " ('(a - 2) * 0', 'b - b'),\n",
       " ('(0 * b) - 0', 'a - a'),\n",
       " ('(b - c) * 0', '0 * a'),\n",
       " ('(b - b) + a', 'a * 1'),\n",
       " ('0 + (a + 1)', 'a + 1'),\n",
       " ('a + (a * 2)', '3 * a'),\n",
       " ('a - (a - b)', 'b - 0'),\n",
       " ('a + (0 * b)', '1 * a'),\n",
       " ('0 * (a * a)', 'b - b'),\n",
       " ('0 - (1 * a)', '0 - a'),\n",
       " ('(a + a) * 0', '0 * a'),\n",
       " ('0 * (0 - a)', 'b * 0'),\n",
       " ('(1 + a) - 1', 'a + 0'),\n",
       " ('(a - a) + 0', '0 * a'),\n",
       " ('(a - a) - a', '0 - a'),\n",
       " ('(a + 0) * 1', '0 + a'),\n",
       " ('0 - (1 - a)', 'a - 1'),\n",
       " ('2 + (a - 1)', 'a + 1'),\n",
       " ('2 + (1 + a)', 'a + 3'),\n",
       " ('(2 + a) + 0', 'a + 2'),\n",
       " ('0 + (a + 2)', 'a + 2'),\n",
       " ('a + (0 + b)', 'b + a'),\n",
       " ('a - (0 * a)', '0 + a'),\n",
       " ('1 - (1 - a)', 'a * 1'),\n",
       " ('(a - 1) + 1', 'a * 1'),\n",
       " ('(b - b) * a', 'a - a'),\n",
       " ('1 + (1 - a)', '2 - a'),\n",
       " ('(1 + a) - 0', 'a + 1'),\n",
       " ('a * (0 + a)', 'a * a'),\n",
       " ('0 - (a - 0)', '0 - a'),\n",
       " ('(b + 2) * 0', 'a - a'),\n",
       " ('a - (1 + 0)', 'a - 1'),\n",
       " ('(a * 1) - 1', 'a - 1'),\n",
       " ('a * (b * 0)', 'c * 0'),\n",
       " ('b + (a + 0)', 'a + b'),\n",
       " ('(1 * b) * 0', '0 * a'),\n",
       " ('(1 + a) - 1', 'a - 0'),\n",
       " ('0 - (a - 1)', '1 - a')]"
      ]
     },
     "execution_count": 75,
     "metadata": {},
     "output_type": "execute_result"
    }
   ],
   "source": [
    "shortened_pairs[0:300]"
   ]
  }
 ],
 "metadata": {
  "kernelspec": {
   "display_name": "axiom",
   "language": "python",
   "name": "axiom"
  },
  "language_info": {
   "codemirror_mode": {
    "name": "ipython",
    "version": 3
   },
   "file_extension": ".py",
   "mimetype": "text/x-python",
   "name": "python",
   "nbconvert_exporter": "python",
   "pygments_lexer": "ipython3",
   "version": "3.10.0"
  }
 },
 "nbformat": 4,
 "nbformat_minor": 5
}
